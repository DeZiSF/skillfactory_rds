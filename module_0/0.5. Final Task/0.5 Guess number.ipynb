{
 "cells": [
  {
   "cell_type": "code",
   "execution_count": 5,
   "metadata": {},
   "outputs": [],
   "source": [
    "import numpy as np"
   ]
  },
  {
   "cell_type": "code",
   "execution_count": 6,
   "metadata": {},
   "outputs": [],
   "source": [
    "left_range = 1\n",
    "right_range = 100"
   ]
  },
  {
   "cell_type": "code",
   "execution_count": 7,
   "metadata": {},
   "outputs": [],
   "source": [
    "def check(test_number, target): # Возвращает результат нашей попытки: 0 - ок, 1 - цель больше, -1 - цель меньше\n",
    "    if target < test_number:\n",
    "        return(-1)\n",
    "    if target > test_number:\n",
    "        return(1)\n",
    "    return(0)"
   ]
  },
  {
   "cell_type": "code",
   "execution_count": 8,
   "metadata": {},
   "outputs": [],
   "source": [
    "def binary_search(target):\n",
    "    attempts = 0 # количество попыток\n",
    "    # ROI (region of interests)\n",
    "    roi_left = left_range # граница окна интереса слева. \n",
    "    roi_right = right_range # граница окна интереса справа\n",
    "\n",
    "    while roi_left <= roi_right:        \n",
    "        attempts += 1\n",
    "        middle = int(roi_left + (roi_right - roi_left) / 2)    \n",
    "        result = check(middle, target)        \n",
    "        if result == 0:\n",
    "            break\n",
    "        if result == -1: # значит цель меньше, меняем ROI\n",
    "            roi_right = middle - 1\n",
    "        if result == 1: # значит цель больше, меняем ROI\n",
    "            roi_left = middle + 1\n",
    "            \n",
    "    return(attempts)"
   ]
  },
  {
   "cell_type": "code",
   "execution_count": 12,
   "metadata": {},
   "outputs": [],
   "source": [
    "def random_search(target):    \n",
    "    attempts = 0 # количество попыток    \n",
    "    roi_left = left_range # граница окна интереса слева. \n",
    "    roi_right = right_range # граница окна интереса справа    \n",
    "    \n",
    "    while roi_left <= roi_right:        \n",
    "        attempts += 1        \n",
    "        middle = np.random.randint(roi_left, roi_right + 1)                    \n",
    "        result = check(middle, target)        \n",
    "        if result == 0:\n",
    "            break\n",
    "        if result == -1: # значит цель меньше, меняем ROI\n",
    "            roi_right = middle - 1\n",
    "        if result == 1: # значит цель больше, меняем ROI\n",
    "            roi_left = middle + 1\n",
    "            \n",
    "    return(attempts)    "
   ]
  },
  {
   "cell_type": "code",
   "execution_count": 10,
   "metadata": {},
   "outputs": [],
   "source": [
    "def score_game(game_core_v1):\n",
    "    '''Запускаем игру 1000 раз, чтоб узнать как быстро игра угадывает число'''\n",
    "    count_ls = []\n",
    "    np.random.seed(1)  # фиксируем RANDOM SEED, чтобы ваш эксперимент был воспроизводим!\n",
    "    random_array = np.random.randint(left_range, right_range + 1, size=(1000))\n",
    "    for number in random_array:\n",
    "        count_ls.append(game_core_v1(number))\n",
    "    score = int(np.mean(count_ls))\n",
    "    print(f\"Ваш алгоритм угадывает число в среднем за {score} попыток\")\n",
    "    return(score)"
   ]
  },
  {
   "cell_type": "code",
   "execution_count": 11,
   "metadata": {},
   "outputs": [
    {
     "name": "stdout",
     "output_type": "stream",
     "text": [
      "Ваш алгоритм угадывает число в среднем за 5 попыток\n",
      "Ваш алгоритм угадывает число в среднем за 7 попыток\n"
     ]
    },
    {
     "data": {
      "text/plain": [
       "7"
      ]
     },
     "execution_count": 11,
     "metadata": {},
     "output_type": "execute_result"
    }
   ],
   "source": [
    "score_game(binary_search)\n",
    "score_game(random_search)"
   ]
  },
  {
   "cell_type": "code",
   "execution_count": null,
   "metadata": {},
   "outputs": [],
   "source": []
  }
 ],
 "metadata": {
  "kernelspec": {
   "display_name": "Python 3",
   "language": "python",
   "name": "python3"
  },
  "language_info": {
   "codemirror_mode": {
    "name": "ipython",
    "version": 3
   },
   "file_extension": ".py",
   "mimetype": "text/x-python",
   "name": "python",
   "nbconvert_exporter": "python",
   "pygments_lexer": "ipython3",
   "version": "3.6.5"
  }
 },
 "nbformat": 4,
 "nbformat_minor": 2
}
