{
 "cells": [
  {
   "cell_type": "code",
   "execution_count": 2,
   "metadata": {},
   "outputs": [
    {
     "data": {
      "text/plain": [
       "'cba'"
      ]
     },
     "execution_count": 2,
     "metadata": {},
     "output_type": "execute_result"
    }
   ],
   "source": [
    "string = 'abc'\n",
    "string[::-1]"
   ]
  },
  {
   "cell_type": "code",
   "execution_count": 3,
   "metadata": {},
   "outputs": [
    {
     "name": "stdout",
     "output_type": "stream",
     "text": [
      "['!13ff !']\n",
      "['~sss !']\n",
      "['*123456789abcdefgh !']\n",
      "['=13x !']\n"
     ]
    }
   ],
   "source": [
    "import re\n",
    "\n",
    "pattern = re.compile('\\W\\d*\\w+\\s!')\n",
    "\n",
    "print(pattern.findall('!13ff !'))\n",
    "print(pattern.findall('~sss !'))\n",
    "print(pattern.findall('*123456789abcdefgh !'))\n",
    "print(pattern.findall('=13x !'))"
   ]
  },
  {
   "cell_type": "code",
   "execution_count": 39,
   "metadata": {},
   "outputs": [
    {
     "name": "stdout",
     "output_type": "stream",
     "text": [
      "65.47302904564316\n"
     ]
    }
   ],
   "source": [
    "import collections\n",
    "\n",
    "f = open('StudentsPerformance.csv')\n",
    "scores = collections.Counter()\n",
    "counts = collections.Counter()\n",
    "\n",
    "for line in f:\n",
    "    info = []\n",
    "    [info.append(x[1:-1]) for x in line[:-1].split(',')[:-3]]\n",
    "    [info.append(int(x[1:-1])) for x in line[:-1].split(',')[-3:]]    \n",
    "    scores[info[0]] += info[-2]\n",
    "    counts[info[0]] += 1\n",
    "    \n",
    "print(scores['male'] / counts['male'])"
   ]
  },
  {
   "cell_type": "code",
   "execution_count": 41,
   "metadata": {},
   "outputs": [
    {
     "name": "stdout",
     "output_type": "stream",
     "text": [
      "63.02253521126761\n"
     ]
    }
   ],
   "source": [
    "import collections\n",
    "\n",
    "f = open('StudentsPerformance.csv')\n",
    "marks = []\n",
    "\n",
    "for line in f:\n",
    "    info = []\n",
    "    [info.append(x[1:-1]) for x in line.split(',')[:-3]]\n",
    "    [info.append(int(x[1:-1])) for x in line[:-1].split(',')[-3:]]      \n",
    "    if info[3] == 'free/reduced':\n",
    "        marks.append(info[-1])\n",
    "\n",
    "print(sum(marks) / len(marks))"
   ]
  },
  {
   "cell_type": "code",
   "execution_count": null,
   "metadata": {},
   "outputs": [],
   "source": []
  }
 ],
 "metadata": {
  "kernelspec": {
   "display_name": "Python 3",
   "language": "python",
   "name": "python3"
  },
  "language_info": {
   "codemirror_mode": {
    "name": "ipython",
    "version": 3
   },
   "file_extension": ".py",
   "mimetype": "text/x-python",
   "name": "python",
   "nbconvert_exporter": "python",
   "pygments_lexer": "ipython3",
   "version": "3.6.5"
  }
 },
 "nbformat": 4,
 "nbformat_minor": 2
}
