{
 "cells": [
  {
   "cell_type": "code",
   "execution_count": 7,
   "metadata": {},
   "outputs": [
    {
     "name": "stdout",
     "output_type": "stream",
     "text": [
      "316\n"
     ]
    }
   ],
   "source": [
    "import collections\n",
    "\n",
    "f = open('StudentsPerformance.csv')\n",
    "c = collections.Counter()\n",
    "d = {}\n",
    "\n",
    "for line in f:\n",
    "    info = [x[1:-1] for x in line.split(',')]    \n",
    "    d.setdefault(info[0], {})\n",
    "    d[info[0]].setdefault(info[3], 0)\n",
    "    d[info[0]][info[3]] += 1\n",
    "    \n",
    "print(d['male']['standard'])"
   ]
  },
  {
   "cell_type": "code",
   "execution_count": 8,
   "metadata": {},
   "outputs": [
    {
     "name": "stdout",
     "output_type": "stream",
     "text": [
      "174\n"
     ]
    }
   ],
   "source": [
    "import collections\n",
    "\n",
    "f = open('StudentsPerformance.csv')\n",
    "c = collections.Counter()\n",
    "d = {}\n",
    "\n",
    "for line in f:\n",
    "    info = [x[1:-1] for x in line.split(',')]    \n",
    "    d.setdefault(info[0], {})\n",
    "    d[info[0]].setdefault(info[4], 0)\n",
    "    d[info[0]][info[4]] += 1\n",
    "    \n",
    "print(d['female']['completed'])"
   ]
  },
  {
   "cell_type": "code",
   "execution_count": 11,
   "metadata": {},
   "outputs": [
    {
     "name": "stdout",
     "output_type": "stream",
     "text": [
      "{'group B': {'none': 122, 'completed': 68}, 'group C': {'completed': 117, 'none': 202}, 'group A': {'none': 58, 'completed': 31}, 'group D': {'completed': 82, 'none': 180}, 'group E': {'none': 80, 'completed': 60}}\n"
     ]
    }
   ],
   "source": [
    "import collections\n",
    "\n",
    "f = open('StudentsPerformance.csv')\n",
    "c = collections.Counter()\n",
    "d = {}\n",
    "\n",
    "for line in f:\n",
    "    info = [x[1:-1] for x in line.split(',')]    \n",
    "    d.setdefault(info[1], {})\n",
    "    d[info[1]].setdefault(info[4], 0)\n",
    "    d[info[1]][info[4]] += 1\n",
    "    \n",
    "print(d)"
   ]
  },
  {
   "cell_type": "code",
   "execution_count": 16,
   "metadata": {},
   "outputs": [
    {
     "name": "stdout",
     "output_type": "stream",
     "text": [
      "{'male': 2, 'female': 2}\n"
     ]
    }
   ],
   "source": [
    "import collections\n",
    "\n",
    "f = open('StudentsPerformance.csv')\n",
    "c = collections.Counter()\n",
    "d = {}\n",
    "\n",
    "for line in f:\n",
    "    info = [x[1:-1] for x in line.split(',')]\n",
    "    if int(info[5]) > 90 and info[2] == 'master\\'s degree':\n",
    "        d.setdefault(info[0], 0)\n",
    "        d[info[0]] += 1\n",
    "    \n",
    "print(d)"
   ]
  },
  {
   "cell_type": "code",
   "execution_count": null,
   "metadata": {},
   "outputs": [],
   "source": []
  }
 ],
 "metadata": {
  "kernelspec": {
   "display_name": "Python 3",
   "language": "python",
   "name": "python3"
  },
  "language_info": {
   "codemirror_mode": {
    "name": "ipython",
    "version": 3
   },
   "file_extension": ".py",
   "mimetype": "text/x-python",
   "name": "python",
   "nbconvert_exporter": "python",
   "pygments_lexer": "ipython3",
   "version": "3.6.5"
  }
 },
 "nbformat": 4,
 "nbformat_minor": 2
}
