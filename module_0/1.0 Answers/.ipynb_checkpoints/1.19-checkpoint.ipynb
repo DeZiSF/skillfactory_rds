{
 "cells": [
  {
   "cell_type": "markdown",
   "metadata": {},
   "source": [
    "# Задание 1\n",
    "0/1 point (graded)\n",
    "Друзья придумали свой шифр: исходные слова заменять на последовательность нечётных символов в этих словах. Например, 'python' в их шифровке будет выглядеть как 'pto'. Напишите программу, которая помогает зашифровывать слова по этой схеме: принимает на вход слово (word) и последовательно выводит каждый нечётный символ в нём. Для проверки используйте word = 'подшипник'"
   ]
  },
  {
   "cell_type": "code",
   "execution_count": null,
   "metadata": {},
   "outputs": [],
   "source": [
    "word = 'подшипник'\n",
    "for i, c in enumerate(word):\n",
    "    if i % 2 == 0:\n",
    "        print(c)"
   ]
  },
  {
   "cell_type": "markdown",
   "metadata": {},
   "source": [
    "# Задание 2\n",
    "0/1 point (graded)\n",
    "Вы решили написать программу, которая выявляет високосные года в диапазоне лет. Пусть она принимает на вход два числа: нижнюю и верхнюю границы годов (переменные year_1 и year_2), и для каждого года из диапазона выводит информацию: \"... год високосный\" или \"... год невисокосный\", где вместо многоточия указывается номер года.\n",
    "\n",
    "Для проверки используйте year_1 = 2013, year_2 = 2020. Значения обеих переменных должны быть включены в диапазон."
   ]
  },
  {
   "cell_type": "code",
   "execution_count": null,
   "metadata": {},
   "outputs": [],
   "source": [
    "year_1 = 2013\n",
    "year_2 = 2020\n",
    "for i in range(year_1, year_2 + 1):\n",
    "    if i % 4 == 0:\n",
    "        print(f'{i} год високосный')\n",
    "    else:\n",
    "        print(f'{i} год невисокосный')"
   ]
  },
  {
   "cell_type": "markdown",
   "metadata": {},
   "source": [
    "# Задание 3\n",
    "0/1 point (graded)\n",
    "Напишите программу, которая принимает на вход слово (word) и последовательно выводит все русские гласные из этого слова. Для проверки используйте word = 'Зимушка-зима'"
   ]
  },
  {
   "cell_type": "code",
   "execution_count": null,
   "metadata": {},
   "outputs": [],
   "source": [
    "word = 'Зимушка-зима'\n",
    "s_vowels = ['а', 'е', 'ё', 'и', 'о', 'у', 'ы', 'э', 'ю', 'я']\n",
    "b_vowels = ['А', 'Е', 'Ё', 'И', 'О', 'У', 'Ы', 'Э', 'Ю', 'Я']\n",
    "\n",
    "for c in word:\n",
    "    find = False\n",
    "    for v in s_vowels:\n",
    "        if c == v:\n",
    "            find = True\n",
    "            break\n",
    "    for v in b_vowels:\n",
    "        if c == v:\n",
    "            find = True\n",
    "            break\n",
    "    if find == True:\n",
    "        print(c)"
   ]
  },
  {
   "cell_type": "markdown",
   "metadata": {},
   "source": [
    "# Задание 4\n",
    "0/1 point (graded)\n",
    "Попросите пользователя ввести своё имя (name) и с помощью цикла выведите каждую букву этого имени на экран, сопроводив порядковым номером с помощью фразы: \"Буква ... в этом имени - ...\" (например, \"Буква 1 в этом имени - С\"). Для проверки используйте name = 'Сергей'"
   ]
  },
  {
   "cell_type": "code",
   "execution_count": null,
   "metadata": {},
   "outputs": [],
   "source": [
    "name = 'Сергей'\n",
    "for i, c in enumerate(name, 1):\n",
    "    print(f'Буква {i} в этом имени - {c}')"
   ]
  },
  {
   "cell_type": "markdown",
   "metadata": {},
   "source": [
    "# Задание 5\n",
    "1/1 point (graded)\n",
    "Напишите программу, которая последовательно выводит нечётные числа, которые делятся на 3 или 5, от первого введённого числа (num_1) до второго введённого числа (num_2) включительно. Если второе число меньше первого или первое число меньше нуля, выведите \"Введён неверный диапазон чисел\".\n",
    "\n",
    "Для проверки используйте num_1 = 25, num_2 = 45"
   ]
  },
  {
   "cell_type": "code",
   "execution_count": null,
   "metadata": {},
   "outputs": [],
   "source": [
    "num_1 = 25\n",
    "num_2 = 45\n",
    "\n",
    "if num_1 > num_2 or num_1 < 0:\n",
    "    print('Введён неверный диапазон чисел')    \n",
    "else:\n",
    "    for i in range(num_1, num_2 + 1):\n",
    "        if i % 2 != 0 and (i % 3 == 0 or i % 5 == 0):\n",
    "            print(i)"
   ]
  },
  {
   "cell_type": "code",
   "execution_count": null,
   "metadata": {},
   "outputs": [],
   "source": []
  },
  {
   "cell_type": "code",
   "execution_count": null,
   "metadata": {},
   "outputs": [],
   "source": []
  }
 ],
 "metadata": {
  "kernelspec": {
   "display_name": "Python 3",
   "language": "python",
   "name": "python3"
  },
  "language_info": {
   "codemirror_mode": {
    "name": "ipython",
    "version": 3
   },
   "file_extension": ".py",
   "mimetype": "text/x-python",
   "name": "python",
   "nbconvert_exporter": "python",
   "pygments_lexer": "ipython3",
   "version": "3.6.5"
  }
 },
 "nbformat": 4,
 "nbformat_minor": 2
}
