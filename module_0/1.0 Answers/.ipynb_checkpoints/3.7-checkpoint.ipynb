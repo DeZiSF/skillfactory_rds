{
 "cells": [
  {
   "cell_type": "code",
   "execution_count": 6,
   "metadata": {},
   "outputs": [
    {
     "name": "stdout",
     "output_type": "stream",
     "text": [
      "Мальчиков: 482, девочек: 518\n"
     ]
    }
   ],
   "source": [
    "f = open('StudentsPerformance.csv')\n",
    "males = 0\n",
    "females = 0\n",
    "for line in f:\n",
    "    info = line.split(',')\n",
    "    gender = info[0][1:-1]\n",
    "    if gender == 'female':\n",
    "        females += 1\n",
    "    elif gender == 'male':\n",
    "        males +=1\n",
    "print('Мальчиков: {}, девочек: {}'.format(males, females))"
   ]
  },
  {
   "cell_type": "code",
   "execution_count": 7,
   "metadata": {},
   "outputs": [
    {
     "name": "stdout",
     "output_type": "stream",
     "text": [
      "118\n"
     ]
    }
   ],
   "source": [
    "f = open('StudentsPerformance.csv')\n",
    "count = 0\n",
    "for line in f:\n",
    "    info = line.split(',')\n",
    "    education = info[2][1:-1]\n",
    "    if education == 'bachelor\\'s degree':\n",
    "        count += 1    \n",
    "print(count)"
   ]
  },
  {
   "cell_type": "code",
   "execution_count": 12,
   "metadata": {},
   "outputs": [
    {
     "name": "stdout",
     "output_type": "stream",
     "text": [
      "6\n"
     ]
    }
   ],
   "source": [
    "import collections\n",
    "f = open('StudentsPerformance.csv')\n",
    "c = collections.Counter()\n",
    "\n",
    "for line in f:\n",
    "    info = line.split(',')\n",
    "    education = info[2][1:-1]\n",
    "    c[education] += 1\n",
    "    \n",
    "print(len(c.keys()))"
   ]
  },
  {
   "cell_type": "code",
   "execution_count": 16,
   "metadata": {},
   "outputs": [
    {
     "name": "stdout",
     "output_type": "stream",
     "text": [
      "64.5\n"
     ]
    }
   ],
   "source": [
    "import collections\n",
    "f = open('StudentsPerformance.csv')\n",
    "c = collections.Counter()\n",
    "\n",
    "for line in f:\n",
    "    info = line.split(',')\n",
    "    lunch = info[3][1:-1]\n",
    "    c[lunch] += 1\n",
    "    \n",
    "print(100 * c['standard'] / sum(c.values()))"
   ]
  },
  {
   "cell_type": "code",
   "execution_count": 17,
   "metadata": {},
   "outputs": [
    {
     "name": "stdout",
     "output_type": "stream",
     "text": [
      "319\n"
     ]
    }
   ],
   "source": [
    "import collections\n",
    "f = open('StudentsPerformance.csv')\n",
    "c = collections.Counter()\n",
    "\n",
    "for line in f:\n",
    "    info = line.split(',')\n",
    "    lunch = info[1][1:-1]\n",
    "    c[lunch] += 1\n",
    "    \n",
    "print(c['group C'])"
   ]
  },
  {
   "cell_type": "code",
   "execution_count": 18,
   "metadata": {},
   "outputs": [
    {
     "name": "stdout",
     "output_type": "stream",
     "text": [
      "5\n"
     ]
    }
   ],
   "source": [
    "import collections\n",
    "f = open('StudentsPerformance.csv')\n",
    "c = collections.Counter()\n",
    "\n",
    "for line in f:\n",
    "    info = line.split(',')\n",
    "    lunch = info[1][1:-1]\n",
    "    c[lunch] += 1\n",
    "    \n",
    "print(len(c.keys()))"
   ]
  }
 ],
 "metadata": {
  "kernelspec": {
   "display_name": "Python 3",
   "language": "python",
   "name": "python3"
  },
  "language_info": {
   "codemirror_mode": {
    "name": "ipython",
    "version": 3
   },
   "file_extension": ".py",
   "mimetype": "text/x-python",
   "name": "python",
   "nbconvert_exporter": "python",
   "pygments_lexer": "ipython3",
   "version": "3.6.5"
  }
 },
 "nbformat": 4,
 "nbformat_minor": 2
}
