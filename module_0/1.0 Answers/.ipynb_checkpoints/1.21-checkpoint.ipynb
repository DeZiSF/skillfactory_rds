{
 "cells": [
  {
   "cell_type": "markdown",
   "metadata": {},
   "source": [
    "# Задание 1"
   ]
  },
  {
   "cell_type": "code",
   "execution_count": null,
   "metadata": {},
   "outputs": [],
   "source": [
    "num_1 = 1812\n",
    "num_2 = 2500\n",
    "\n",
    "for i in range(min(num_1, num_2), 1, -1):\n",
    "    if num_1 % i == 0 and num_2 % i == 0:\n",
    "        print(i)\n",
    "        break"
   ]
  },
  {
   "cell_type": "markdown",
   "metadata": {},
   "source": [
    "# Задание 2"
   ]
  },
  {
   "cell_type": "code",
   "execution_count": null,
   "metadata": {},
   "outputs": [],
   "source": [
    "string = 'абстракция'\n",
    "filter = ['а', 'б', 'в']\n",
    "\n",
    "for i in string:\n",
    "    if i in filter:\n",
    "        continue\n",
    "    print(i, end='')"
   ]
  },
  {
   "cell_type": "markdown",
   "metadata": {},
   "source": [
    "# Задание 3"
   ]
  },
  {
   "cell_type": "code",
   "execution_count": null,
   "metadata": {},
   "outputs": [],
   "source": [
    "find = False\n",
    "\n",
    "for i in range(1, 6):    \n",
    "    string = 'Нет'\n",
    "    if string == 'Нет':\n",
    "        print('Увы, это неправильный ответ')\n",
    "    if string == 'Да':\n",
    "        print('Это отлично!')\n",
    "        find = True\n",
    "        break\n",
    "if find == False:\n",
    "    print('Это безнадёжно!')"
   ]
  },
  {
   "cell_type": "markdown",
   "metadata": {},
   "source": [
    "# Задание 4"
   ]
  },
  {
   "cell_type": "code",
   "execution_count": null,
   "metadata": {},
   "outputs": [],
   "source": [
    "number = 173\n",
    "is_simple = True\n",
    "\n",
    "for i in range(2, number):\n",
    "    if number % i == 0:\n",
    "        is_simple = False\n",
    "        break\n",
    "if is_simple == True:\n",
    "    print('Простое')\n",
    "else:\n",
    "    print('Не является простым')"
   ]
  },
  {
   "cell_type": "markdown",
   "metadata": {},
   "source": [
    "# Задание 5"
   ]
  },
  {
   "cell_type": "code",
   "execution_count": 8,
   "metadata": {},
   "outputs": [
    {
     "name": "stdout",
     "output_type": "stream",
     "text": [
      "Строка мне не нравится!\n"
     ]
    }
   ],
   "source": [
    "s_vowels = ['а', 'е', 'ё', 'и', 'о', 'у', 'ы', 'э', 'ю', 'я']\n",
    "string = 'прелестная строка'\n",
    "is_bad = False\n",
    "\n",
    "for i, c in enumerate(string):\n",
    "    if i % 2 == 0 and c in s_vowels:\n",
    "        print('Строка мне не нравится!')\n",
    "        is_bad = True\n",
    "        break\n",
    "if is_bad == False:\n",
    "    print('Какая хорошая строка!')"
   ]
  },
  {
   "cell_type": "code",
   "execution_count": null,
   "metadata": {},
   "outputs": [],
   "source": []
  }
 ],
 "metadata": {
  "kernelspec": {
   "display_name": "Python 3",
   "language": "python",
   "name": "python3"
  },
  "language_info": {
   "codemirror_mode": {
    "name": "ipython",
    "version": 3
   },
   "file_extension": ".py",
   "mimetype": "text/x-python",
   "name": "python",
   "nbconvert_exporter": "python",
   "pygments_lexer": "ipython3",
   "version": "3.6.5"
  }
 },
 "nbformat": 4,
 "nbformat_minor": 2
}
