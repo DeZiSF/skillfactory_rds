{
 "cells": [
  {
   "cell_type": "code",
   "execution_count": 61,
   "metadata": {},
   "outputs": [],
   "source": [
    "proverb = 'Программисты - это устройства, преобразующие кофеин в код.'"
   ]
  },
  {
   "cell_type": "code",
   "execution_count": 63,
   "metadata": {},
   "outputs": [
    {
     "data": {
      "text/plain": [
       "'Программист'"
      ]
     },
     "execution_count": 63,
     "metadata": {},
     "output_type": "execute_result"
    }
   ],
   "source": [
    "proverb[0:11]"
   ]
  },
  {
   "cell_type": "code",
   "execution_count": 9,
   "metadata": {},
   "outputs": [
    {
     "data": {
      "text/plain": [
       "'кофе'"
      ]
     },
     "execution_count": 9,
     "metadata": {},
     "output_type": "execute_result"
    }
   ],
   "source": [
    "proverb[-13:-9]"
   ]
  },
  {
   "cell_type": "code",
   "execution_count": 23,
   "metadata": {},
   "outputs": [
    {
     "name": "stdout",
     "output_type": "stream",
     "text": [
      "рПгоарммсиыт- э оту тсорсйвт,ап ербоарузщюеик фоие н вок.д\n"
     ]
    }
   ],
   "source": [
    "new_proverb = ''\n",
    "for i in range(0, len(proverb) - 1, 2):\n",
    "    new_proverb += proverb[i + 1]\n",
    "    new_proverb += proverb[i]    \n",
    "print(new_proverb)"
   ]
  },
  {
   "cell_type": "code",
   "execution_count": 27,
   "metadata": {},
   "outputs": [
    {
     "name": "stdout",
     "output_type": "stream",
     "text": [
      "рПгоарммсиыт- э оту тсорсйвт,ап ербоарузщюеик фоие н вок.д\n"
     ]
    }
   ],
   "source": [
    "new_proverb = ''\n",
    "s1 = proverb[::2]\n",
    "s2 = proverb[1::2]\n",
    "i1, i2 = 0, 0\n",
    "for i in range(len(proverb)):\n",
    "    if i % 2 == 1:\n",
    "        new_proverb += s1[i1]\n",
    "        i1 += 1\n",
    "    else:\n",
    "        new_proverb += s2[i2]\n",
    "        i2 += 1\n",
    "print(new_proverb)"
   ]
  },
  {
   "cell_type": "code",
   "execution_count": 67,
   "metadata": {},
   "outputs": [
    {
     "name": "stdout",
     "output_type": "stream",
     "text": [
      "рПгоарммсиыт- э оту тсорсйвт,ап ербоарузщюеик фоие н вок.д\n"
     ]
    }
   ],
   "source": [
    "proverb = 'Программисты - это устройства, преобразующие кофеин в код.'\n",
    "new_proverb = ''.join([proverb[x:x+2][::-1] for x in range(0, len(proverb), 2)])\n",
    "print(new_proverb)"
   ]
  },
  {
   "cell_type": "code",
   "execution_count": 68,
   "metadata": {},
   "outputs": [
    {
     "name": "stdout",
     "output_type": "stream",
     "text": [
      "Слово \"программирование\" - это не палиндром\n"
     ]
    }
   ],
   "source": [
    "basic_word = 'программирование'\n",
    "inverted_word = basic_word[::-1]\n",
    "if inverted_word == basic_word:\n",
    "    print(f'Слово \"{basic_word}\" является палиндромом')\n",
    "else:\n",
    "    print(f'Слово \"{basic_word}\" - это не палиндром')"
   ]
  },
  {
   "cell_type": "code",
   "execution_count": null,
   "metadata": {},
   "outputs": [],
   "source": []
  }
 ],
 "metadata": {
  "kernelspec": {
   "display_name": "Python 3",
   "language": "python",
   "name": "python3"
  },
  "language_info": {
   "codemirror_mode": {
    "name": "ipython",
    "version": 3
   },
   "file_extension": ".py",
   "mimetype": "text/x-python",
   "name": "python",
   "nbconvert_exporter": "python",
   "pygments_lexer": "ipython3",
   "version": "3.6.5"
  }
 },
 "nbformat": 4,
 "nbformat_minor": 2
}
