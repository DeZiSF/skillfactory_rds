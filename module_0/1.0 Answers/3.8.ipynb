{
 "cells": [
  {
   "cell_type": "code",
   "execution_count": 2,
   "metadata": {},
   "outputs": [
    {
     "name": "stdout",
     "output_type": "stream",
     "text": [
      "69.169\n"
     ]
    }
   ],
   "source": [
    "import collections\n",
    "import re\n",
    "\n",
    "f = open('StudentsPerformance.csv')\n",
    "\n",
    "total_cnt = 0\n",
    "reading_score = 0\n",
    "for line in f:    \n",
    "    total_cnt += 1\n",
    "    info = line.split(',')\n",
    "    reading_score += int(info[6][1:-1])\n",
    "    \n",
    "print(reading_score / total_cnt)"
   ]
  },
  {
   "cell_type": "code",
   "execution_count": 6,
   "metadata": {},
   "outputs": [
    {
     "name": "stdout",
     "output_type": "stream",
     "text": [
      "487\n"
     ]
    }
   ],
   "source": [
    "import collections\n",
    "import re\n",
    "\n",
    "f = open('StudentsPerformance.csv')\n",
    "\n",
    "reading_marks = []\n",
    "for line in f:        \n",
    "    info = line.split(',')\n",
    "    reading_score = int(info[6][1:-1])    \n",
    "    reading_marks.append(reading_score)\n",
    "    \n",
    "avg_reading_score = sum(reading_marks) / len(reading_marks)\n",
    "lower_avg_cnt = len([x for x in reading_marks if x < avg_reading_score])\n",
    "print(lower_avg_cnt)"
   ]
  },
  {
   "cell_type": "code",
   "execution_count": 9,
   "metadata": {},
   "outputs": [
    {
     "name": "stdout",
     "output_type": "stream",
     "text": [
      "72.60810810810811\n"
     ]
    }
   ],
   "source": [
    "import collections\n",
    "import re\n",
    "\n",
    "f = open('StudentsPerformance.csv')\n",
    "\n",
    "reading_marks = []\n",
    "for line in f:        \n",
    "    info = line.split(',')\n",
    "    if info[0][1:-1] == 'female':\n",
    "        reading_score = int(info[6][1:-1])    \n",
    "        reading_marks.append(reading_score)\n",
    "    \n",
    "avg_reading_score = sum(reading_marks) / len(reading_marks)\n",
    "lower_avg_cnt = len([x for x in reading_marks if x < avg_reading_score])\n",
    "print(avg_reading_score)"
   ]
  },
  {
   "cell_type": "code",
   "execution_count": 11,
   "metadata": {},
   "outputs": [
    {
     "name": "stdout",
     "output_type": "stream",
     "text": [
      "68\n"
     ]
    }
   ],
   "source": [
    "import collections\n",
    "import re\n",
    "\n",
    "f = open('StudentsPerformance.csv')\n",
    "\n",
    "writing_marks = []\n",
    "for line in f:        \n",
    "    info = line.split(',')    \n",
    "    writing_score = int(info[7][1:-2])    \n",
    "    writing_marks.append(writing_score)\n",
    "    \n",
    "print(len([x for x in writing_marks if x > 90]))"
   ]
  },
  {
   "cell_type": "code",
   "execution_count": 13,
   "metadata": {},
   "outputs": [
    {
     "name": "stdout",
     "output_type": "stream",
     "text": [
      "86.76470588235294\n"
     ]
    }
   ],
   "source": [
    "import collections\n",
    "import re\n",
    "\n",
    "f = open('StudentsPerformance.csv')\n",
    "\n",
    "normal_lunch_cnt = 0\n",
    "writing_marks = []\n",
    "for line in f:        \n",
    "    info = line.split(',')        \n",
    "    writing_score = int(info[7][1:-2])    \n",
    "    writing_marks.append(writing_score)\n",
    "    if info[3][1:-1] == 'standard' and writing_score > 90:\n",
    "        normal_lunch_cnt += 1\n",
    "    \n",
    "print(100 * normal_lunch_cnt / len([x for x in writing_marks if x > 90]))"
   ]
  }
 ],
 "metadata": {
  "kernelspec": {
   "display_name": "Python 3",
   "language": "python",
   "name": "python3"
  },
  "language_info": {
   "codemirror_mode": {
    "name": "ipython",
    "version": 3
   },
   "file_extension": ".py",
   "mimetype": "text/x-python",
   "name": "python",
   "nbconvert_exporter": "python",
   "pygments_lexer": "ipython3",
   "version": "3.6.5"
  }
 },
 "nbformat": 4,
 "nbformat_minor": 2
}
