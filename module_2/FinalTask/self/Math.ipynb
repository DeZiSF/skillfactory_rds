{
 "cells": [
  {
   "cell_type": "markdown",
   "metadata": {},
   "source": [
    "# Проект \"Математика\"\n",
    "Суть проекта — отследить влияние условий жизни учащихся в возрасте от 15 до 22 лет на их успеваемость по математике, чтобы на ранней стадии выявлять студентов, находящихся в группе риска."
   ]
  },
  {
   "cell_type": "markdown",
   "metadata": {},
   "source": [
    "## Описание модели\n",
    "1 school — аббревиатура школы, в которой учится ученик <br />\n",
    "2 sex — пол ученика ('F' - женский, 'M' - мужской) <br />\n",
    "3 age — возраст ученика (от 15 до 22) <br />\n",
    "4 address — тип адреса ученика ('U' - городской, 'R' - за городом) <br />\n",
    "5 famsize — размер семьи('LE3' <= 3, 'GT3' >3) <br />\n",
    "6 Pstatus — статус совместного жилья родителей ('T' - живут вместе 'A' - раздельно) <br />\n",
    "7 Medu — образование матери (0 - нет, 1 - 4 класса, 2 - 5-9 классы, 3 - среднее специальное или 11 классов, 4 - высшее) <br />\n",
    "8 Fedu — образование отца (0 - нет, 1 - 4 класса, 2 - 5-9 классы, 3 - среднее специальное или 11 классов, 4 - высшее) <br />\n",
    "9 Mjob — работа матери ('teacher' - учитель, 'health' - сфера здравоохранения, 'services' - гос служба, 'at_home' - не работает, 'other' - другое) <br />\n",
    "10 Fjob — работа отца ('teacher' - учитель, 'health' - сфера здравоохранения, 'services' - гос служба, 'at_home' - не работает, 'other' - другое) <br />\n",
    "11 reason — причина выбора школы ('home' - близость к дому, 'reputation' - репутация школы, 'course' - образовательная программа, 'other' - другое) <br />\n",
    "12 guardian — опекун ('mother' - мать, 'father' - отец, 'other' - другое) <br />\n",
    "13 traveltime — время в пути до школы (1 - <15 мин., 2 - 15-30 мин., 3 - 30-60 мин., 4 - >60 мин.) <br />\n",
    "14 studytime — время на учёбу помимо школы в неделю (1 - <2 часов, 2 - 2-5 часов, 3 - 5-10 часов, 4 - >10 часов) <br />\n",
    "15 failures — количество внеучебных неудач (n, если 1<=n<3, иначе 0) <br />\n",
    "16 schoolsup — дополнительная образовательная поддержка (yes или no) <br />\n",
    "17 famsup — семейная образовательная поддержка (yes или no) <br />\n",
    "18 paid — дополнительные платные занятия по математике (yes или no) <br />\n",
    "19 activities — дополнительные внеучебные занятия (yes или no) <br />\n",
    "20 nursery — посещал детский сад (yes или no) <br />\n",
    "21 higher — хочет получить высшее образование (yes или no) <br />\n",
    "22 internet — наличие интернета дома (yes или no) <br />\n",
    "23 romantic — в романтических отношениях (yes или no) <br />\n",
    "24 famrel — семейные отношения (от 1 - очень плохо до 5 - очень хорошо) <br />\n",
    "25 freetime — свободное время после школы (от 1 - очень мало до 5 - очень мого) <br />\n",
    "26 goout — проведение времени с друзьями (от 1 - очень мало до 5 - очень много) <br />\n",
    "27 health — текущее состояние здоровья (от 1 - очень плохо до 5 - очень хорошо) <br />\n",
    "28 absences — количество пропущенных занятий <br />\n",
    "29 score — баллы по госэкзамену по математике <br />"
   ]
  },
  {
   "cell_type": "code",
   "execution_count": 1,
   "metadata": {},
   "outputs": [],
   "source": [
    "import pandas as pd\n",
    "import numpy as np\n",
    "import seaborn as sns\n",
    "import math\n",
    "from itertools import combinations\n",
    "from scipy.stats import ttest_ind\n",
    "import matplotlib.pyplot as plt\n",
    "%matplotlib inline\n",
    "\n",
    "pd.set_option('display.max_rows', 50)\n",
    "pd.set_option('display.max_columns', 50)\n",
    "\n",
    "df = pd.read_csv('stud_math.csv')"
   ]
  },
  {
   "cell_type": "code",
   "execution_count": 2,
   "metadata": {},
   "outputs": [
    {
     "data": {
      "text/html": [
       "<div>\n",
       "<style scoped>\n",
       "    .dataframe tbody tr th:only-of-type {\n",
       "        vertical-align: middle;\n",
       "    }\n",
       "\n",
       "    .dataframe tbody tr th {\n",
       "        vertical-align: top;\n",
       "    }\n",
       "\n",
       "    .dataframe thead th {\n",
       "        text-align: right;\n",
       "    }\n",
       "</style>\n",
       "<table border=\"1\" class=\"dataframe\">\n",
       "  <thead>\n",
       "    <tr style=\"text-align: right;\">\n",
       "      <th></th>\n",
       "      <th>school</th>\n",
       "      <th>sex</th>\n",
       "      <th>age</th>\n",
       "      <th>address</th>\n",
       "      <th>famsize</th>\n",
       "      <th>Pstatus</th>\n",
       "      <th>Medu</th>\n",
       "      <th>Fedu</th>\n",
       "      <th>Mjob</th>\n",
       "      <th>Fjob</th>\n",
       "      <th>reason</th>\n",
       "      <th>guardian</th>\n",
       "      <th>traveltime</th>\n",
       "      <th>studytime</th>\n",
       "      <th>failures</th>\n",
       "      <th>schoolsup</th>\n",
       "      <th>famsup</th>\n",
       "      <th>paid</th>\n",
       "      <th>activities</th>\n",
       "      <th>nursery</th>\n",
       "      <th>studytime, granular</th>\n",
       "      <th>higher</th>\n",
       "      <th>internet</th>\n",
       "      <th>romantic</th>\n",
       "      <th>famrel</th>\n",
       "      <th>freetime</th>\n",
       "      <th>goout</th>\n",
       "      <th>health</th>\n",
       "      <th>absences</th>\n",
       "      <th>score</th>\n",
       "    </tr>\n",
       "  </thead>\n",
       "  <tbody>\n",
       "    <tr>\n",
       "      <th>0</th>\n",
       "      <td>GP</td>\n",
       "      <td>F</td>\n",
       "      <td>18</td>\n",
       "      <td>U</td>\n",
       "      <td>NaN</td>\n",
       "      <td>A</td>\n",
       "      <td>4.0</td>\n",
       "      <td>4.0</td>\n",
       "      <td>at_home</td>\n",
       "      <td>teacher</td>\n",
       "      <td>course</td>\n",
       "      <td>mother</td>\n",
       "      <td>2.0</td>\n",
       "      <td>2.0</td>\n",
       "      <td>0.0</td>\n",
       "      <td>yes</td>\n",
       "      <td>no</td>\n",
       "      <td>no</td>\n",
       "      <td>no</td>\n",
       "      <td>yes</td>\n",
       "      <td>-6.0</td>\n",
       "      <td>yes</td>\n",
       "      <td>NaN</td>\n",
       "      <td>no</td>\n",
       "      <td>4.0</td>\n",
       "      <td>3.0</td>\n",
       "      <td>4.0</td>\n",
       "      <td>3.0</td>\n",
       "      <td>6.0</td>\n",
       "      <td>30.0</td>\n",
       "    </tr>\n",
       "    <tr>\n",
       "      <th>1</th>\n",
       "      <td>GP</td>\n",
       "      <td>F</td>\n",
       "      <td>17</td>\n",
       "      <td>U</td>\n",
       "      <td>GT3</td>\n",
       "      <td>NaN</td>\n",
       "      <td>1.0</td>\n",
       "      <td>1.0</td>\n",
       "      <td>at_home</td>\n",
       "      <td>other</td>\n",
       "      <td>course</td>\n",
       "      <td>father</td>\n",
       "      <td>1.0</td>\n",
       "      <td>2.0</td>\n",
       "      <td>0.0</td>\n",
       "      <td>no</td>\n",
       "      <td>yes</td>\n",
       "      <td>no</td>\n",
       "      <td>no</td>\n",
       "      <td>no</td>\n",
       "      <td>-6.0</td>\n",
       "      <td>yes</td>\n",
       "      <td>yes</td>\n",
       "      <td>no</td>\n",
       "      <td>5.0</td>\n",
       "      <td>3.0</td>\n",
       "      <td>3.0</td>\n",
       "      <td>3.0</td>\n",
       "      <td>4.0</td>\n",
       "      <td>30.0</td>\n",
       "    </tr>\n",
       "    <tr>\n",
       "      <th>2</th>\n",
       "      <td>GP</td>\n",
       "      <td>F</td>\n",
       "      <td>15</td>\n",
       "      <td>U</td>\n",
       "      <td>LE3</td>\n",
       "      <td>T</td>\n",
       "      <td>1.0</td>\n",
       "      <td>1.0</td>\n",
       "      <td>at_home</td>\n",
       "      <td>other</td>\n",
       "      <td>other</td>\n",
       "      <td>mother</td>\n",
       "      <td>1.0</td>\n",
       "      <td>2.0</td>\n",
       "      <td>3.0</td>\n",
       "      <td>yes</td>\n",
       "      <td>no</td>\n",
       "      <td>NaN</td>\n",
       "      <td>no</td>\n",
       "      <td>yes</td>\n",
       "      <td>-6.0</td>\n",
       "      <td>yes</td>\n",
       "      <td>yes</td>\n",
       "      <td>NaN</td>\n",
       "      <td>4.0</td>\n",
       "      <td>3.0</td>\n",
       "      <td>2.0</td>\n",
       "      <td>3.0</td>\n",
       "      <td>10.0</td>\n",
       "      <td>50.0</td>\n",
       "    </tr>\n",
       "    <tr>\n",
       "      <th>3</th>\n",
       "      <td>GP</td>\n",
       "      <td>F</td>\n",
       "      <td>15</td>\n",
       "      <td>U</td>\n",
       "      <td>GT3</td>\n",
       "      <td>T</td>\n",
       "      <td>4.0</td>\n",
       "      <td>2.0</td>\n",
       "      <td>health</td>\n",
       "      <td>NaN</td>\n",
       "      <td>home</td>\n",
       "      <td>mother</td>\n",
       "      <td>1.0</td>\n",
       "      <td>3.0</td>\n",
       "      <td>0.0</td>\n",
       "      <td>no</td>\n",
       "      <td>yes</td>\n",
       "      <td>yes</td>\n",
       "      <td>yes</td>\n",
       "      <td>yes</td>\n",
       "      <td>-9.0</td>\n",
       "      <td>yes</td>\n",
       "      <td>yes</td>\n",
       "      <td>yes</td>\n",
       "      <td>3.0</td>\n",
       "      <td>2.0</td>\n",
       "      <td>2.0</td>\n",
       "      <td>5.0</td>\n",
       "      <td>2.0</td>\n",
       "      <td>75.0</td>\n",
       "    </tr>\n",
       "    <tr>\n",
       "      <th>4</th>\n",
       "      <td>GP</td>\n",
       "      <td>F</td>\n",
       "      <td>16</td>\n",
       "      <td>U</td>\n",
       "      <td>GT3</td>\n",
       "      <td>T</td>\n",
       "      <td>3.0</td>\n",
       "      <td>3.0</td>\n",
       "      <td>other</td>\n",
       "      <td>other</td>\n",
       "      <td>home</td>\n",
       "      <td>father</td>\n",
       "      <td>1.0</td>\n",
       "      <td>2.0</td>\n",
       "      <td>0.0</td>\n",
       "      <td>no</td>\n",
       "      <td>yes</td>\n",
       "      <td>yes</td>\n",
       "      <td>no</td>\n",
       "      <td>yes</td>\n",
       "      <td>-6.0</td>\n",
       "      <td>yes</td>\n",
       "      <td>no</td>\n",
       "      <td>no</td>\n",
       "      <td>4.0</td>\n",
       "      <td>3.0</td>\n",
       "      <td>2.0</td>\n",
       "      <td>5.0</td>\n",
       "      <td>4.0</td>\n",
       "      <td>50.0</td>\n",
       "    </tr>\n",
       "  </tbody>\n",
       "</table>\n",
       "</div>"
      ],
      "text/plain": [
       "  school sex  age address famsize Pstatus  Medu  Fedu     Mjob     Fjob  \\\n",
       "0     GP   F   18       U     NaN       A   4.0   4.0  at_home  teacher   \n",
       "1     GP   F   17       U     GT3     NaN   1.0   1.0  at_home    other   \n",
       "2     GP   F   15       U     LE3       T   1.0   1.0  at_home    other   \n",
       "3     GP   F   15       U     GT3       T   4.0   2.0   health      NaN   \n",
       "4     GP   F   16       U     GT3       T   3.0   3.0    other    other   \n",
       "\n",
       "   reason guardian  traveltime  studytime  failures schoolsup famsup paid  \\\n",
       "0  course   mother         2.0        2.0       0.0       yes     no   no   \n",
       "1  course   father         1.0        2.0       0.0        no    yes   no   \n",
       "2   other   mother         1.0        2.0       3.0       yes     no  NaN   \n",
       "3    home   mother         1.0        3.0       0.0        no    yes  yes   \n",
       "4    home   father         1.0        2.0       0.0        no    yes  yes   \n",
       "\n",
       "  activities nursery  studytime, granular higher internet romantic  famrel  \\\n",
       "0         no     yes                 -6.0    yes      NaN       no     4.0   \n",
       "1         no      no                 -6.0    yes      yes       no     5.0   \n",
       "2         no     yes                 -6.0    yes      yes      NaN     4.0   \n",
       "3        yes     yes                 -9.0    yes      yes      yes     3.0   \n",
       "4         no     yes                 -6.0    yes       no       no     4.0   \n",
       "\n",
       "   freetime  goout  health  absences  score  \n",
       "0       3.0    4.0     3.0       6.0   30.0  \n",
       "1       3.0    3.0     3.0       4.0   30.0  \n",
       "2       3.0    2.0     3.0      10.0   50.0  \n",
       "3       2.0    2.0     5.0       2.0   75.0  \n",
       "4       3.0    2.0     5.0       4.0   50.0  "
      ]
     },
     "metadata": {},
     "output_type": "display_data"
    },
    {
     "name": "stdout",
     "output_type": "stream",
     "text": [
      "<class 'pandas.core.frame.DataFrame'>\n",
      "RangeIndex: 395 entries, 0 to 394\n",
      "Data columns (total 30 columns):\n",
      "school                 395 non-null object\n",
      "sex                    395 non-null object\n",
      "age                    395 non-null int64\n",
      "address                378 non-null object\n",
      "famsize                368 non-null object\n",
      "Pstatus                350 non-null object\n",
      "Medu                   392 non-null float64\n",
      "Fedu                   371 non-null float64\n",
      "Mjob                   376 non-null object\n",
      "Fjob                   359 non-null object\n",
      "reason                 378 non-null object\n",
      "guardian               364 non-null object\n",
      "traveltime             367 non-null float64\n",
      "studytime              388 non-null float64\n",
      "failures               373 non-null float64\n",
      "schoolsup              386 non-null object\n",
      "famsup                 356 non-null object\n",
      "paid                   355 non-null object\n",
      "activities             381 non-null object\n",
      "nursery                379 non-null object\n",
      "studytime, granular    388 non-null float64\n",
      "higher                 375 non-null object\n",
      "internet               361 non-null object\n",
      "romantic               364 non-null object\n",
      "famrel                 368 non-null float64\n",
      "freetime               384 non-null float64\n",
      "goout                  387 non-null float64\n",
      "health                 380 non-null float64\n",
      "absences               383 non-null float64\n",
      "score                  389 non-null float64\n",
      "dtypes: float64(12), int64(1), object(17)\n",
      "memory usage: 92.7+ KB\n"
     ]
    },
    {
     "data": {
      "text/plain": [
       "None"
      ]
     },
     "metadata": {},
     "output_type": "display_data"
    }
   ],
   "source": [
    "display(df.head())\n",
    "display(df.info())"
   ]
  },
  {
   "cell_type": "markdown",
   "metadata": {},
   "source": [
    "### studytime, granular\n",
    "В наборе присутствует столбец \"studytime, granular\", который не описан в модели. Исходя из данных в столбце, можно сделать вывод, что значения в нем получены путем умножения -3 на столбец studytime. Поэтому будет целесообразно его удалить, так как он полностью коррелирован с studytime."
   ]
  },
  {
   "cell_type": "code",
   "execution_count": 3,
   "metadata": {},
   "outputs": [
    {
     "name": "stdout",
     "output_type": "stream",
     "text": [
      "<class 'pandas.core.frame.DataFrame'>\n",
      "RangeIndex: 395 entries, 0 to 394\n",
      "Data columns (total 29 columns):\n",
      "school        395 non-null object\n",
      "sex           395 non-null object\n",
      "age           395 non-null int64\n",
      "address       378 non-null object\n",
      "famsize       368 non-null object\n",
      "Pstatus       350 non-null object\n",
      "Medu          392 non-null float64\n",
      "Fedu          371 non-null float64\n",
      "Mjob          376 non-null object\n",
      "Fjob          359 non-null object\n",
      "reason        378 non-null object\n",
      "guardian      364 non-null object\n",
      "traveltime    367 non-null float64\n",
      "studytime     388 non-null float64\n",
      "failures      373 non-null float64\n",
      "schoolsup     386 non-null object\n",
      "famsup        356 non-null object\n",
      "paid          355 non-null object\n",
      "activities    381 non-null object\n",
      "nursery       379 non-null object\n",
      "higher        375 non-null object\n",
      "internet      361 non-null object\n",
      "romantic      364 non-null object\n",
      "famrel        368 non-null float64\n",
      "freetime      384 non-null float64\n",
      "goout         387 non-null float64\n",
      "health        380 non-null float64\n",
      "absences      383 non-null float64\n",
      "score         389 non-null float64\n",
      "dtypes: float64(11), int64(1), object(17)\n",
      "memory usage: 89.6+ KB\n"
     ]
    },
    {
     "data": {
      "text/plain": [
       "None"
      ]
     },
     "metadata": {},
     "output_type": "display_data"
    }
   ],
   "source": [
    "df.drop(columns=['studytime, granular'], inplace=True)\n",
    "display(df.info())"
   ]
  },
  {
   "cell_type": "markdown",
   "metadata": {},
   "source": [
    "**Вывод:** Выборка содержит 395 строк. Всего присутствует 29 столбцов, из них числовых признаков - 12, номинативных признаков - 17. В некоторых записях присутствуют неопределенные значения как для числовых признаков, так и для номинативных.."
   ]
  },
  {
   "cell_type": "markdown",
   "metadata": {},
   "source": [
    "# Первичная обработка данных"
   ]
  },
  {
   "cell_type": "markdown",
   "metadata": {},
   "source": [
    "## Очистка числовых данных\n",
    "В наборе 12 числовых столбцов. В некоторых из них (Medu, Fedu, traveltime и др) есть пустые значения. Обработаем столбцы и применим промежуточное решение (способ заполнения будет определяться позднее): в случае наличия пропусков, будем заполнять средним значением по столбцу."
   ]
  },
  {
   "cell_type": "code",
   "execution_count": 4,
   "metadata": {},
   "outputs": [
    {
     "name": "stdout",
     "output_type": "stream",
     "text": [
      "age\n",
      "       До: Нулевых   0, Среднее 16.7\n",
      "    После: Нулевых   0, Среднее 16.7\n",
      "Medu\n",
      "       До: Нулевых   3, Среднее 2.75\n",
      "    После: Нулевых   0, Среднее 2.75\n",
      "Fedu\n",
      "       До: Нулевых  24, Среднее 2.61\n",
      "    После: Нулевых   0, Среднее 2.61\n",
      "traveltime\n",
      "       До: Нулевых  28, Среднее 1.44\n",
      "    После: Нулевых   0, Среднее 1.44\n",
      "studytime\n",
      "       До: Нулевых   7, Среднее 2.04\n",
      "    После: Нулевых   0, Среднее 2.04\n",
      "failures\n",
      "       До: Нулевых  22, Среднее 0.34\n",
      "    После: Нулевых   0, Среднее 0.34\n",
      "famrel\n",
      "       До: Нулевых  27, Среднее 3.94\n",
      "    После: Нулевых   0, Среднее 3.94\n",
      "freetime\n",
      "       До: Нулевых  11, Среднее 3.23\n",
      "    После: Нулевых   0, Среднее 3.23\n",
      "goout\n",
      "       До: Нулевых   8, Среднее 3.11\n",
      "    После: Нулевых   0, Среднее 3.11\n",
      "health\n",
      "       До: Нулевых  15, Среднее 3.53\n",
      "    После: Нулевых   0, Среднее 3.53\n",
      "absences\n",
      "       До: Нулевых  12, Среднее 7.28\n",
      "    После: Нулевых   0, Среднее 7.28\n",
      "score\n",
      "       До: Нулевых   6, Среднее 52.26\n",
      "    После: Нулевых   0, Среднее 52.26\n"
     ]
    }
   ],
   "source": [
    "def clear_number_columns(df, column):\n",
    "    if (df[column].dtype == np.object):\n",
    "        return\n",
    "    print(column)\n",
    "    mean = df[column].mean()\n",
    "    count_nan = len(df[column]) - df[column].count()\n",
    "    print('       До: Нулевых {0:3}, Среднее {1}'.format(\n",
    "        count_nan, round(mean, 2)))\n",
    "    df[column] = df[column].apply(lambda x: mean if math.isnan(x) else x)\n",
    "    mean = df[column].mean()\n",
    "    count_nan = len(df[column]) - df[column].count()\n",
    "    print('    После: Нулевых {0:3}, Среднее {1}'.format(\n",
    "        count_nan, round(mean, 2)))\n",
    "\n",
    "\n",
    "for column in df.columns:\n",
    "    clear_number_columns(df, column)"
   ]
  },
  {
   "cell_type": "markdown",
   "metadata": {},
   "source": [
    "## Очистка номинативных данных\n",
    "В наборе присутствует 17 столбцов с номинативными данными, в которых есть пропуски. **Исключать такие данные не будем**, но заменим пропуски на строку 'Unknown'."
   ]
  },
  {
   "cell_type": "code",
   "execution_count": 5,
   "metadata": {},
   "outputs": [
    {
     "name": "stdout",
     "output_type": "stream",
     "text": [
      "school\n",
      "       До: Нулевых   0\n",
      "    После: Нулевых   0\n"
     ]
    },
    {
     "data": {
      "text/plain": [
       "GP    349\n",
       "MS     46\n",
       "Name: school, dtype: int64"
      ]
     },
     "metadata": {},
     "output_type": "display_data"
    },
    {
     "name": "stdout",
     "output_type": "stream",
     "text": [
      "sex\n",
      "       До: Нулевых   0\n",
      "    После: Нулевых   0\n"
     ]
    },
    {
     "data": {
      "text/plain": [
       "F    208\n",
       "M    187\n",
       "Name: sex, dtype: int64"
      ]
     },
     "metadata": {},
     "output_type": "display_data"
    },
    {
     "name": "stdout",
     "output_type": "stream",
     "text": [
      "address\n",
      "       До: Нулевых  17\n",
      "    После: Нулевых   0\n"
     ]
    },
    {
     "data": {
      "text/plain": [
       "U          295\n",
       "R           83\n",
       "Unknown     17\n",
       "Name: address, dtype: int64"
      ]
     },
     "metadata": {},
     "output_type": "display_data"
    },
    {
     "name": "stdout",
     "output_type": "stream",
     "text": [
      "famsize\n",
      "       До: Нулевых  27\n",
      "    После: Нулевых   0\n"
     ]
    },
    {
     "data": {
      "text/plain": [
       "GT3        261\n",
       "LE3        107\n",
       "Unknown     27\n",
       "Name: famsize, dtype: int64"
      ]
     },
     "metadata": {},
     "output_type": "display_data"
    },
    {
     "name": "stdout",
     "output_type": "stream",
     "text": [
      "Pstatus\n",
      "       До: Нулевых  45\n",
      "    После: Нулевых   0\n"
     ]
    },
    {
     "data": {
      "text/plain": [
       "T          314\n",
       "Unknown     45\n",
       "A           36\n",
       "Name: Pstatus, dtype: int64"
      ]
     },
     "metadata": {},
     "output_type": "display_data"
    },
    {
     "name": "stdout",
     "output_type": "stream",
     "text": [
      "Mjob\n",
      "       До: Нулевых  19\n",
      "    После: Нулевых   0\n"
     ]
    },
    {
     "data": {
      "text/plain": [
       "other       133\n",
       "services     98\n",
       "at_home      58\n",
       "teacher      55\n",
       "health       32\n",
       "Unknown      19\n",
       "Name: Mjob, dtype: int64"
      ]
     },
     "metadata": {},
     "output_type": "display_data"
    },
    {
     "name": "stdout",
     "output_type": "stream",
     "text": [
      "Fjob\n",
      "       До: Нулевых  36\n",
      "    После: Нулевых   0\n"
     ]
    },
    {
     "data": {
      "text/plain": [
       "other       197\n",
       "services    102\n",
       "Unknown      36\n",
       "teacher      29\n",
       "at_home      16\n",
       "health       15\n",
       "Name: Fjob, dtype: int64"
      ]
     },
     "metadata": {},
     "output_type": "display_data"
    },
    {
     "name": "stdout",
     "output_type": "stream",
     "text": [
      "reason\n",
      "       До: Нулевых  17\n",
      "    После: Нулевых   0\n"
     ]
    },
    {
     "data": {
      "text/plain": [
       "course        137\n",
       "home          104\n",
       "reputation    103\n",
       "other          34\n",
       "Unknown        17\n",
       "Name: reason, dtype: int64"
      ]
     },
     "metadata": {},
     "output_type": "display_data"
    },
    {
     "name": "stdout",
     "output_type": "stream",
     "text": [
      "guardian\n",
      "       До: Нулевых  31\n",
      "    После: Нулевых   0\n"
     ]
    },
    {
     "data": {
      "text/plain": [
       "mother     250\n",
       "father      86\n",
       "Unknown     31\n",
       "other       28\n",
       "Name: guardian, dtype: int64"
      ]
     },
     "metadata": {},
     "output_type": "display_data"
    },
    {
     "name": "stdout",
     "output_type": "stream",
     "text": [
      "schoolsup\n",
      "       До: Нулевых   9\n",
      "    После: Нулевых   0\n"
     ]
    },
    {
     "data": {
      "text/plain": [
       "no         335\n",
       "yes         51\n",
       "Unknown      9\n",
       "Name: schoolsup, dtype: int64"
      ]
     },
     "metadata": {},
     "output_type": "display_data"
    },
    {
     "name": "stdout",
     "output_type": "stream",
     "text": [
      "famsup\n",
      "       До: Нулевых  39\n",
      "    После: Нулевых   0\n"
     ]
    },
    {
     "data": {
      "text/plain": [
       "yes        219\n",
       "no         137\n",
       "Unknown     39\n",
       "Name: famsup, dtype: int64"
      ]
     },
     "metadata": {},
     "output_type": "display_data"
    },
    {
     "name": "stdout",
     "output_type": "stream",
     "text": [
      "paid\n",
      "       До: Нулевых  40\n",
      "    После: Нулевых   0\n"
     ]
    },
    {
     "data": {
      "text/plain": [
       "no         200\n",
       "yes        155\n",
       "Unknown     40\n",
       "Name: paid, dtype: int64"
      ]
     },
     "metadata": {},
     "output_type": "display_data"
    },
    {
     "name": "stdout",
     "output_type": "stream",
     "text": [
      "activities\n",
      "       До: Нулевых  14\n",
      "    После: Нулевых   0\n"
     ]
    },
    {
     "data": {
      "text/plain": [
       "yes        195\n",
       "no         186\n",
       "Unknown     14\n",
       "Name: activities, dtype: int64"
      ]
     },
     "metadata": {},
     "output_type": "display_data"
    },
    {
     "name": "stdout",
     "output_type": "stream",
     "text": [
      "nursery\n",
      "       До: Нулевых  16\n",
      "    После: Нулевых   0\n"
     ]
    },
    {
     "data": {
      "text/plain": [
       "yes        300\n",
       "no          79\n",
       "Unknown     16\n",
       "Name: nursery, dtype: int64"
      ]
     },
     "metadata": {},
     "output_type": "display_data"
    },
    {
     "name": "stdout",
     "output_type": "stream",
     "text": [
      "higher\n",
      "       До: Нулевых  20\n",
      "    После: Нулевых   0\n"
     ]
    },
    {
     "data": {
      "text/plain": [
       "yes        356\n",
       "Unknown     20\n",
       "no          19\n",
       "Name: higher, dtype: int64"
      ]
     },
     "metadata": {},
     "output_type": "display_data"
    },
    {
     "name": "stdout",
     "output_type": "stream",
     "text": [
      "internet\n",
      "       До: Нулевых  34\n",
      "    После: Нулевых   0\n"
     ]
    },
    {
     "data": {
      "text/plain": [
       "yes        305\n",
       "no          56\n",
       "Unknown     34\n",
       "Name: internet, dtype: int64"
      ]
     },
     "metadata": {},
     "output_type": "display_data"
    },
    {
     "name": "stdout",
     "output_type": "stream",
     "text": [
      "romantic\n",
      "       До: Нулевых  31\n",
      "    После: Нулевых   0\n"
     ]
    },
    {
     "data": {
      "text/plain": [
       "no         240\n",
       "yes        124\n",
       "Unknown     31\n",
       "Name: romantic, dtype: int64"
      ]
     },
     "metadata": {},
     "output_type": "display_data"
    }
   ],
   "source": [
    "def clear_object_columns(df, column):\n",
    "    if (df[column].dtype != np.object):\n",
    "        return\n",
    "    print(column)\n",
    "    count_nan = len(df[column]) - df[column].count()\n",
    "    print('       До: Нулевых {0:3}'.format(count_nan))\n",
    "    df[column] = df[column].astype('str').apply(\n",
    "        lambda x: 'Unknown' if x == 'nan' else x)\n",
    "    count_nan = len(df[column]) - df[column].count()\n",
    "    print('    После: Нулевых {0:3}'.format(count_nan))\n",
    "    display(df[column].value_counts())\n",
    "\n",
    "\n",
    "for column in df.columns:\n",
    "    clear_object_columns(df, column)"
   ]
  },
  {
   "cell_type": "markdown",
   "metadata": {},
   "source": [
    "## Проверка заполненонсти набора данных\n",
    "Убедимся, что все столбцы заполненны данными без пропусков (будем держать в голове, что номинативные данные мы заполняли строкой 'Unknown')."
   ]
  },
  {
   "cell_type": "code",
   "execution_count": 6,
   "metadata": {},
   "outputs": [
    {
     "name": "stdout",
     "output_type": "stream",
     "text": [
      "<class 'pandas.core.frame.DataFrame'>\n",
      "RangeIndex: 395 entries, 0 to 394\n",
      "Data columns (total 29 columns):\n",
      "school        395 non-null object\n",
      "sex           395 non-null object\n",
      "age           395 non-null int64\n",
      "address       395 non-null object\n",
      "famsize       395 non-null object\n",
      "Pstatus       395 non-null object\n",
      "Medu          395 non-null float64\n",
      "Fedu          395 non-null float64\n",
      "Mjob          395 non-null object\n",
      "Fjob          395 non-null object\n",
      "reason        395 non-null object\n",
      "guardian      395 non-null object\n",
      "traveltime    395 non-null float64\n",
      "studytime     395 non-null float64\n",
      "failures      395 non-null float64\n",
      "schoolsup     395 non-null object\n",
      "famsup        395 non-null object\n",
      "paid          395 non-null object\n",
      "activities    395 non-null object\n",
      "nursery       395 non-null object\n",
      "higher        395 non-null object\n",
      "internet      395 non-null object\n",
      "romantic      395 non-null object\n",
      "famrel        395 non-null float64\n",
      "freetime      395 non-null float64\n",
      "goout         395 non-null float64\n",
      "health        395 non-null float64\n",
      "absences      395 non-null float64\n",
      "score         395 non-null float64\n",
      "dtypes: float64(11), int64(1), object(17)\n",
      "memory usage: 89.6+ KB\n"
     ]
    }
   ],
   "source": [
    "df.info()"
   ]
  },
  {
   "cell_type": "markdown",
   "metadata": {},
   "source": [
    "**Вывод:** Набор заполнен данными полность. В некоторых номинативных данных появилось значение 'Unknown'."
   ]
  },
  {
   "cell_type": "markdown",
   "metadata": {},
   "source": [
    "# Устранение выбросов, преобразование данных\n"
   ]
  },
  {
   "cell_type": "markdown",
   "metadata": {},
   "source": [
    "## Устранение выбросов числовых переменных\n",
    "Текущая задача - убедиться в отсутствии выбросов. Если выбросы будут обнаружены, придется отфильтровывать эти значения.\n",
    "Числовых признаков ровно 12, поэтому построим 12 гистограмм: 4 ряда по 3 столбца."
   ]
  },
  {
   "cell_type": "code",
   "execution_count": 7,
   "metadata": {
    "code_folding": []
   },
   "outputs": [],
   "source": [
    "def show_hists(df):\n",
    "    col_count = 3\n",
    "    row_count = 4\n",
    "    fig, axes = plt.subplots(row_count, col_count, figsize=(16, 12))\n",
    "\n",
    "    number = 0\n",
    "    for column in df.columns:\n",
    "        if (df[column].dtype != np.object):\n",
    "            row = number // col_count\n",
    "            col = number % col_count\n",
    "            axes[row, col].hist(df[column])\n",
    "            axes[row, col].set_title(column)\n",
    "            number += 1"
   ]
  },
  {
   "cell_type": "code",
   "execution_count": 8,
   "metadata": {},
   "outputs": [
    {
     "data": {
      "image/png": "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\n",
      "text/plain": [
       "<Figure size 1152x864 with 12 Axes>"
      ]
     },
     "metadata": {},
     "output_type": "display_data"
    }
   ],
   "source": [
    "show_hists(df)"
   ]
  },
  {
   "cell_type": "markdown",
   "metadata": {},
   "source": [
    "Найдем предел выбросов для признака absences. Будем применять квантиль 75% * 1.5."
   ]
  },
  {
   "cell_type": "code",
   "execution_count": 9,
   "metadata": {},
   "outputs": [
    {
     "data": {
      "text/plain": [
       "'Предел выбросов: 20.0'"
      ]
     },
     "metadata": {},
     "output_type": "display_data"
    }
   ],
   "source": [
    "perc25 = df.absences.quantile(0.25)\n",
    "perc75 = df.absences.quantile(0.75)\n",
    "IQR = perc75 - perc25\n",
    "\n",
    "limit = perc75 + 1.5 * IQR\n",
    "display('Предел выбросов: {}'.format(limit))"
   ]
  },
  {
   "cell_type": "markdown",
   "metadata": {},
   "source": [
    "Аномальные значения, не соответствующие смыслу столбцов, в которых они хранятся, наблюдаются в следующих колонках:\n",
    "    <li>**Fedu (образование отца)** - значения должны быть в пределах от 1 до 4;</li>\n",
    "    <li>**famrel (семейные отношения)** - значения должны быть от 1 до 5;</li>\n",
    "    <li>**absences (кол-во пропущенных занятий)** - подозрительный столбец, так как наблюдаются значения, на порядок превосходящие средние показатели. С одной стороны, это может говорить о том, что человек не посещал занятия вообще и, как результат, не сдаст тест, но, с другой стороны, если такой человек сдаст тест на хорошую отметку, то это снизит качество предсказания нашей модели. <u>Принимается решение исключить из выборки таких людей. Оставить пределы от 0 до 20</u></li>\n",
    "    <li>**score** - некоторые ученики сдали тест на 0 баллов. Это может означаться, что они его вообще не писали. Избавимся от таких данных, потому что они не несут полезной информации.</li>"
   ]
  },
  {
   "cell_type": "code",
   "execution_count": 10,
   "metadata": {},
   "outputs": [
    {
     "name": "stdout",
     "output_type": "stream",
     "text": [
      "Аномальные значения: Было записей: 395, Стало записей: 374, Уменьшение на 5.3%\n",
      "Нулевики: Было записей: 374, Стало записей: 337, Уменьшение на 9.9%\n"
     ]
    }
   ],
   "source": [
    "fedu_filter = (1 <= df.Fedu) & (df.Fedu <= 4)\n",
    "famrel_filter = (1 <= df.famrel) & (df.famrel <= 5)\n",
    "absences_filter = (0 <= df.absences) & (df.absences <= 20)\n",
    "\n",
    "old_len = len(df)\n",
    "df = df[fedu_filter & famrel_filter & absences_filter]\n",
    "new_len = len(df)\n",
    "\n",
    "print('Аномальные значения: Было записей: {0}, Стало записей: {1}, Уменьшение на {2}%'.format(\n",
    "    old_len, new_len, round(100 * (old_len - new_len) / old_len, 1)))\n",
    "\n",
    "score_filter = (df.score != 0)\n",
    "old_len = len(df)\n",
    "df = df[score_filter]\n",
    "new_len = len(df)\n",
    "print('Нулевики: Было записей: {0}, Стало записей: {1}, Уменьшение на {2}%'.format(\n",
    "    old_len, new_len, round(100 * (old_len - new_len) / old_len, 1)))"
   ]
  },
  {
   "cell_type": "markdown",
   "metadata": {},
   "source": [
    "**Вывод:** Произошло уменьшение выборки на (395-337)/395 = 14.6%, что, в целом, допустимо.<br />\n",
    "           Аномальных значений не много: уменьшение выборки составило только 5.3%. <br />\n",
    "           \"Нулевиков\" существенно больше: уменьшение выборки составило ещё 9.9%. <br />\n",
    "           Теперь числовые данные очищены и не содержат выбросов."
   ]
  },
  {
   "cell_type": "markdown",
   "metadata": {},
   "source": [
    "## Преобразование числовых переменных"
   ]
  },
  {
   "cell_type": "markdown",
   "metadata": {},
   "source": [
    "Заметим, что в данных, где по смыслу должны быть целые значения, прячутся дробные: Medu, filures, traveltime и другие. Это могло произойти, когда мы заполняли пропуски средними значениями. <u>Принимаем решение округлить такие значения до ближайшего целого и привести все столбцы к типу integer.</u> <br /><br />\n",
    "Впоследствии это может снизить качество предсказания, поэтому здесь стоит экспериментировать."
   ]
  },
  {
   "cell_type": "code",
   "execution_count": 11,
   "metadata": {},
   "outputs": [],
   "source": [
    "def cast_to_int_column(df, column):\n",
    "    if (df[column].dtype == np.float64):\n",
    "        df[column] = df[column].apply(lambda x: int(round(x)))\n",
    "\n",
    "\n",
    "for column in df.columns:\n",
    "    cast_to_int_column(df, column)"
   ]
  },
  {
   "cell_type": "markdown",
   "metadata": {},
   "source": [
    "Посмотрим на распределения повторно."
   ]
  },
  {
   "cell_type": "code",
   "execution_count": 12,
   "metadata": {},
   "outputs": [
    {
     "data": {
      "image/png": "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\n",
      "text/plain": [
       "<Figure size 1152x864 with 12 Axes>"
      ]
     },
     "metadata": {},
     "output_type": "display_data"
    }
   ],
   "source": [
    "show_hists(df)"
   ]
  },
  {
   "cell_type": "code",
   "execution_count": 13,
   "metadata": {},
   "outputs": [
    {
     "name": "stdout",
     "output_type": "stream",
     "text": [
      "<class 'pandas.core.frame.DataFrame'>\n",
      "Int64Index: 337 entries, 0 to 394\n",
      "Data columns (total 29 columns):\n",
      "school        337 non-null object\n",
      "sex           337 non-null object\n",
      "age           337 non-null int64\n",
      "address       337 non-null object\n",
      "famsize       337 non-null object\n",
      "Pstatus       337 non-null object\n",
      "Medu          337 non-null int64\n",
      "Fedu          337 non-null int64\n",
      "Mjob          337 non-null object\n",
      "Fjob          337 non-null object\n",
      "reason        337 non-null object\n",
      "guardian      337 non-null object\n",
      "traveltime    337 non-null int64\n",
      "studytime     337 non-null int64\n",
      "failures      337 non-null int64\n",
      "schoolsup     337 non-null object\n",
      "famsup        337 non-null object\n",
      "paid          337 non-null object\n",
      "activities    337 non-null object\n",
      "nursery       337 non-null object\n",
      "higher        337 non-null object\n",
      "internet      337 non-null object\n",
      "romantic      337 non-null object\n",
      "famrel        337 non-null int64\n",
      "freetime      337 non-null int64\n",
      "goout         337 non-null int64\n",
      "health        337 non-null int64\n",
      "absences      337 non-null int64\n",
      "score         337 non-null int64\n",
      "dtypes: int64(12), object(17)\n",
      "memory usage: 79.0+ KB\n"
     ]
    }
   ],
   "source": [
    "df.info()"
   ]
  },
  {
   "cell_type": "markdown",
   "metadata": {},
   "source": [
    "**Вывод:** После обработки выбросы отсутствуют, аномальных значений нет, все данные приведены к целочисленному типу и соответствуют исходным условиям."
   ]
  },
  {
   "cell_type": "markdown",
   "metadata": {},
   "source": [
    "## Анализ и преобразование номинативных переменных\n",
    "Убедимся, что в номинативных данных присутствуют только допустимые значения, а также значения 'Unknown', которое мы установили ранее."
   ]
  },
  {
   "cell_type": "code",
   "execution_count": 14,
   "metadata": {},
   "outputs": [
    {
     "data": {
      "text/plain": [
       "GP    296\n",
       "MS     41\n",
       "Name: school, dtype: int64"
      ]
     },
     "metadata": {},
     "output_type": "display_data"
    },
    {
     "data": {
      "text/plain": [
       "F    171\n",
       "M    166\n",
       "Name: sex, dtype: int64"
      ]
     },
     "metadata": {},
     "output_type": "display_data"
    },
    {
     "data": {
      "text/plain": [
       "U          250\n",
       "R           71\n",
       "Unknown     16\n",
       "Name: address, dtype: int64"
      ]
     },
     "metadata": {},
     "output_type": "display_data"
    },
    {
     "data": {
      "text/plain": [
       "GT3        219\n",
       "LE3         97\n",
       "Unknown     21\n",
       "Name: famsize, dtype: int64"
      ]
     },
     "metadata": {},
     "output_type": "display_data"
    },
    {
     "data": {
      "text/plain": [
       "T          273\n",
       "Unknown     34\n",
       "A           30\n",
       "Name: Pstatus, dtype: int64"
      ]
     },
     "metadata": {},
     "output_type": "display_data"
    },
    {
     "data": {
      "text/plain": [
       "other       114\n",
       "services     81\n",
       "teacher      49\n",
       "at_home      48\n",
       "health       30\n",
       "Unknown      15\n",
       "Name: Mjob, dtype: int64"
      ]
     },
     "metadata": {},
     "output_type": "display_data"
    },
    {
     "data": {
      "text/plain": [
       "other       169\n",
       "services     84\n",
       "Unknown      31\n",
       "teacher      24\n",
       "health       15\n",
       "at_home      14\n",
       "Name: Fjob, dtype: int64"
      ]
     },
     "metadata": {},
     "output_type": "display_data"
    },
    {
     "data": {
      "text/plain": [
       "course        118\n",
       "reputation     90\n",
       "home           82\n",
       "other          32\n",
       "Unknown        15\n",
       "Name: reason, dtype: int64"
      ]
     },
     "metadata": {},
     "output_type": "display_data"
    },
    {
     "data": {
      "text/plain": [
       "mother     212\n",
       "father      76\n",
       "Unknown     28\n",
       "other       21\n",
       "Name: guardian, dtype: int64"
      ]
     },
     "metadata": {},
     "output_type": "display_data"
    },
    {
     "data": {
      "text/plain": [
       "no         281\n",
       "yes         47\n",
       "Unknown      9\n",
       "Name: schoolsup, dtype: int64"
      ]
     },
     "metadata": {},
     "output_type": "display_data"
    },
    {
     "data": {
      "text/plain": [
       "yes        187\n",
       "no         117\n",
       "Unknown     33\n",
       "Name: famsup, dtype: int64"
      ]
     },
     "metadata": {},
     "output_type": "display_data"
    },
    {
     "data": {
      "text/plain": [
       "no         165\n",
       "yes        136\n",
       "Unknown     36\n",
       "Name: paid, dtype: int64"
      ]
     },
     "metadata": {},
     "output_type": "display_data"
    },
    {
     "data": {
      "text/plain": [
       "yes        167\n",
       "no         158\n",
       "Unknown     12\n",
       "Name: activities, dtype: int64"
      ]
     },
     "metadata": {},
     "output_type": "display_data"
    },
    {
     "data": {
      "text/plain": [
       "yes        258\n",
       "no          66\n",
       "Unknown     13\n",
       "Name: nursery, dtype: int64"
      ]
     },
     "metadata": {},
     "output_type": "display_data"
    },
    {
     "data": {
      "text/plain": [
       "yes        309\n",
       "Unknown     16\n",
       "no          12\n",
       "Name: higher, dtype: int64"
      ]
     },
     "metadata": {},
     "output_type": "display_data"
    },
    {
     "data": {
      "text/plain": [
       "yes        260\n",
       "no          49\n",
       "Unknown     28\n",
       "Name: internet, dtype: int64"
      ]
     },
     "metadata": {},
     "output_type": "display_data"
    },
    {
     "data": {
      "text/plain": [
       "no         215\n",
       "yes         94\n",
       "Unknown     28\n",
       "Name: romantic, dtype: int64"
      ]
     },
     "metadata": {},
     "output_type": "display_data"
    }
   ],
   "source": [
    "for column in df.columns:\n",
    "    if (df[column].dtype == np.object):\n",
    "        display(df[column].value_counts())"
   ]
  },
  {
   "cell_type": "markdown",
   "metadata": {},
   "source": [
    "**Вывод:** Колонки, с явным ниличием некорректных данных не найдены. Все данные удовлетворяют первоначальным условиям и содержат либо допустимые значения, либо 'Unknown'."
   ]
  },
  {
   "cell_type": "markdown",
   "metadata": {},
   "source": [
    "# Корреляционный анализ"
   ]
  },
  {
   "cell_type": "markdown",
   "metadata": {},
   "source": [
    "Так как признаков довольно много, будем решать задачу не методом исключения признаков по признаку корреляции друг с другом, а по признаку коррекляции с ключевым полем (score). Во-первых, отберем те признаки, которые коррелируют с ключевым полем, а во-вторых, выберем среди них слабокоррелированные между собой."
   ]
  },
  {
   "cell_type": "markdown",
   "metadata": {},
   "source": [
    "## Отбор корелирующих с ключевым полем (score) признаков"
   ]
  },
  {
   "cell_type": "markdown",
   "metadata": {},
   "source": [
    "### Количественные признаки\n",
    "Построим матрицу коэффициентов корреляций количественных признаков."
   ]
  },
  {
   "cell_type": "code",
   "execution_count": 15,
   "metadata": {},
   "outputs": [
    {
     "data": {
      "text/plain": [
       "<matplotlib.axes._axes.Axes at 0x19e1a0b74a8>"
      ]
     },
     "execution_count": 15,
     "metadata": {},
     "output_type": "execute_result"
    },
    {
     "data": {
      "image/png": "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\n",
      "text/plain": [
       "<Figure size 864x720 with 2 Axes>"
      ]
     },
     "metadata": {},
     "output_type": "display_data"
    }
   ],
   "source": [
    "correlation = df.corr()\n",
    "\n",
    "fig = plt.figure(figsize=(12, 10))\n",
    "axes = fig.add_axes([0, 0, 1, 1])\n",
    "sns.heatmap(correlation, annot=True, cmap='coolwarm', ax=axes)"
   ]
  },
  {
   "cell_type": "markdown",
   "metadata": {},
   "source": [
    "**Вывод:** Установил порог корреляции в 0.1. По этому условия выбираем следующие признаки:<br />\n",
    "        <li>age</li>\n",
    "        <li>Medu</li>\n",
    "        <li>studytime</li>\n",
    "        <li>failures</li>\n",
    "        <li>goout</li>\n",
    "        <li>absences</li>\n",
    "        \n",
    "Признак Fedu исключаем, так как он сильно коррелирует с Medu."
   ]
  },
  {
   "cell_type": "code",
   "execution_count": 16,
   "metadata": {},
   "outputs": [],
   "source": [
    "numeric_columns = ['age', 'Medu', 'studytime', 'failures', 'goout', 'absences']"
   ]
  },
  {
   "cell_type": "markdown",
   "metadata": {},
   "source": [
    "### Номинативные признаки\n",
    "Для номинативных признаков будем использовать боксплоты. При этом данные будем очищать от 'Unknown'."
   ]
  },
  {
   "cell_type": "code",
   "execution_count": 17,
   "metadata": {},
   "outputs": [
    {
     "data": {
      "image/png": "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\n",
      "text/plain": [
       "<Figure size 1152x2160 with 18 Axes>"
      ]
     },
     "metadata": {},
     "output_type": "display_data"
    }
   ],
   "source": [
    "col_count = 2\n",
    "row_count = 9\n",
    "fig, axes = plt.subplots(row_count, col_count, figsize=(16, 30))\n",
    "\n",
    "number = 0\n",
    "for column in df.columns:\n",
    "    if (df[column].dtype == np.object):\n",
    "        row = number // col_count\n",
    "        col = number % col_count\n",
    "        temp_df = df[df[column] != 'Unknown']\n",
    "        sns.boxplot(x=column, y='score', data=temp_df, ax=axes[row, col])\n",
    "        number += 1"
   ]
  },
  {
   "cell_type": "markdown",
   "metadata": {},
   "source": [
    "Визуально сложно понять влияние каждого признака на score. Применим тест Стьюдента для выичления значимых признаков."
   ]
  },
  {
   "cell_type": "code",
   "execution_count": 18,
   "metadata": {},
   "outputs": [],
   "source": [
    "def get_stat_dif(df, column):\n",
    "    temp_df = df[df[column] != 'Unknown']\n",
    "    cols = temp_df.loc[:, column].value_counts().index[:]\n",
    "    combinations_all = list(combinations(cols, 2))\n",
    "    for comb in combinations_all:\n",
    "        coef = ttest_ind(temp_df.loc[temp_df.loc[:, column] == comb[0], 'score'],\n",
    "                         temp_df.loc[temp_df.loc[:, column] == comb[1], 'score']).pvalue\n",
    "        if coef <= 0.05 / len(combinations_all):  # Учли поправку Бонферони\n",
    "            print('Найдены статистически значимые различия для колонки', column)\n",
    "            break"
   ]
  },
  {
   "cell_type": "code",
   "execution_count": 19,
   "metadata": {},
   "outputs": [
    {
     "name": "stdout",
     "output_type": "stream",
     "text": [
      "Найдены статистически значимые различия для колонки sex\n",
      "Найдены статистически значимые различия для колонки address\n",
      "Найдены статистически значимые различия для колонки Mjob\n",
      "Найдены статистически значимые различия для колонки schoolsup\n"
     ]
    }
   ],
   "source": [
    "for column in df.columns:\n",
    "    if (df[column].dtype == np.object):\n",
    "        get_stat_dif(df, column)"
   ]
  },
  {
   "cell_type": "markdown",
   "metadata": {},
   "source": [
    "**Вывод:** Выберем номинативные признаки, которые коррелируют с score:<br />\n",
    "        <li>sex</li>\n",
    "        <li>address</li>\n",
    "        <li>Mjob</li>\n",
    "        <li>schoolsup</li>        "
   ]
  },
  {
   "cell_type": "code",
   "execution_count": 20,
   "metadata": {},
   "outputs": [],
   "source": [
    "numinative_columns = ['sex', 'address', 'Mjob', 'schoolsup']"
   ]
  },
  {
   "cell_type": "markdown",
   "metadata": {},
   "source": [
    "### Отберем из всей выборке только коррелирующие с score признаки"
   ]
  },
  {
   "cell_type": "code",
   "execution_count": 21,
   "metadata": {},
   "outputs": [
    {
     "data": {
      "text/html": [
       "<div>\n",
       "<style scoped>\n",
       "    .dataframe tbody tr th:only-of-type {\n",
       "        vertical-align: middle;\n",
       "    }\n",
       "\n",
       "    .dataframe tbody tr th {\n",
       "        vertical-align: top;\n",
       "    }\n",
       "\n",
       "    .dataframe thead th {\n",
       "        text-align: right;\n",
       "    }\n",
       "</style>\n",
       "<table border=\"1\" class=\"dataframe\">\n",
       "  <thead>\n",
       "    <tr style=\"text-align: right;\">\n",
       "      <th></th>\n",
       "      <th>age</th>\n",
       "      <th>Medu</th>\n",
       "      <th>studytime</th>\n",
       "      <th>failures</th>\n",
       "      <th>goout</th>\n",
       "      <th>absences</th>\n",
       "      <th>sex</th>\n",
       "      <th>address</th>\n",
       "      <th>Mjob</th>\n",
       "      <th>schoolsup</th>\n",
       "      <th>score</th>\n",
       "    </tr>\n",
       "  </thead>\n",
       "  <tbody>\n",
       "    <tr>\n",
       "      <th>0</th>\n",
       "      <td>18</td>\n",
       "      <td>4</td>\n",
       "      <td>2</td>\n",
       "      <td>0</td>\n",
       "      <td>4</td>\n",
       "      <td>6</td>\n",
       "      <td>F</td>\n",
       "      <td>U</td>\n",
       "      <td>at_home</td>\n",
       "      <td>yes</td>\n",
       "      <td>30</td>\n",
       "    </tr>\n",
       "    <tr>\n",
       "      <th>1</th>\n",
       "      <td>17</td>\n",
       "      <td>1</td>\n",
       "      <td>2</td>\n",
       "      <td>0</td>\n",
       "      <td>3</td>\n",
       "      <td>4</td>\n",
       "      <td>F</td>\n",
       "      <td>U</td>\n",
       "      <td>at_home</td>\n",
       "      <td>no</td>\n",
       "      <td>30</td>\n",
       "    </tr>\n",
       "    <tr>\n",
       "      <th>2</th>\n",
       "      <td>15</td>\n",
       "      <td>1</td>\n",
       "      <td>2</td>\n",
       "      <td>3</td>\n",
       "      <td>2</td>\n",
       "      <td>10</td>\n",
       "      <td>F</td>\n",
       "      <td>U</td>\n",
       "      <td>at_home</td>\n",
       "      <td>yes</td>\n",
       "      <td>50</td>\n",
       "    </tr>\n",
       "    <tr>\n",
       "      <th>3</th>\n",
       "      <td>15</td>\n",
       "      <td>4</td>\n",
       "      <td>3</td>\n",
       "      <td>0</td>\n",
       "      <td>2</td>\n",
       "      <td>2</td>\n",
       "      <td>F</td>\n",
       "      <td>U</td>\n",
       "      <td>health</td>\n",
       "      <td>no</td>\n",
       "      <td>75</td>\n",
       "    </tr>\n",
       "    <tr>\n",
       "      <th>4</th>\n",
       "      <td>16</td>\n",
       "      <td>3</td>\n",
       "      <td>2</td>\n",
       "      <td>0</td>\n",
       "      <td>2</td>\n",
       "      <td>4</td>\n",
       "      <td>F</td>\n",
       "      <td>U</td>\n",
       "      <td>other</td>\n",
       "      <td>no</td>\n",
       "      <td>50</td>\n",
       "    </tr>\n",
       "  </tbody>\n",
       "</table>\n",
       "</div>"
      ],
      "text/plain": [
       "   age  Medu  studytime  failures  goout  absences sex address     Mjob  \\\n",
       "0   18     4          2         0      4         6   F       U  at_home   \n",
       "1   17     1          2         0      3         4   F       U  at_home   \n",
       "2   15     1          2         3      2        10   F       U  at_home   \n",
       "3   15     4          3         0      2         2   F       U   health   \n",
       "4   16     3          2         0      2         4   F       U    other   \n",
       "\n",
       "  schoolsup  score  \n",
       "0       yes     30  \n",
       "1        no     30  \n",
       "2       yes     50  \n",
       "3        no     75  \n",
       "4        no     50  "
      ]
     },
     "execution_count": 21,
     "metadata": {},
     "output_type": "execute_result"
    }
   ],
   "source": [
    "df = df.loc[:, numeric_columns + numinative_columns + ['score']]\n",
    "df.head()"
   ]
  },
  {
   "cell_type": "markdown",
   "metadata": {},
   "source": [
    "# Выводы разведывательного анализа"
   ]
  },
  {
   "cell_type": "markdown",
   "metadata": {},
   "source": [
    "В данных присутствовали аномальные значения, а также значения с результатом в 0 баллов.\n",
    "В результате фильтрации произошло уменьшение выборки на 14.6%, что, в целом, допустимо.\n",
    "Аномальных значений не много: уменьшение выборки составило только 5.3%.\n",
    "\"Нулевиков\" существенно больше: уменьшение выборки составило ещё 9.9%.<br /><br />\n",
    "Все номинативные данные изначально удовлетворяют первоначальным условиям и содержат либо допустимые значения, либо 'Unknown', после замены пропусков.<br /><br />\n",
    "Самые важные параметры, которые предлагается использовать в дальнейшем для построения модели, это: age, Medu, studytime, failures, goout, absences, sex, address, Mjob, schoolsup."
   ]
  }
 ],
 "metadata": {
  "hide_input": false,
  "kernelspec": {
   "display_name": "Python 3",
   "language": "python",
   "name": "python3"
  },
  "language_info": {
   "codemirror_mode": {
    "name": "ipython",
    "version": 3
   },
   "file_extension": ".py",
   "mimetype": "text/x-python",
   "name": "python",
   "nbconvert_exporter": "python",
   "pygments_lexer": "ipython3",
<<<<<<< HEAD
   "version": "3.8.3"
=======
   "version": "3.7.6"
>>>>>>> fe4837a6f350fa71a9bf335e2d398151bcce4df9
  },
  "toc": {
   "base_numbering": 1,
   "nav_menu": {},
   "number_sections": true,
   "sideBar": true,
   "skip_h1_title": false,
   "title_cell": "Table of Contents",
   "title_sidebar": "Contents",
   "toc_cell": false,
   "toc_position": {
    "height": "calc(100% - 180px)",
    "left": "10px",
    "top": "150px",
    "width": "192px"
   },
   "toc_section_display": true,
   "toc_window_display": true
  }
 },
 "nbformat": 4,
 "nbformat_minor": 2
}
