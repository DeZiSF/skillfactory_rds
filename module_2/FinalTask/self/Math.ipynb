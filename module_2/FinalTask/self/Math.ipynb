{
 "cells": [
  {
   "cell_type": "markdown",
   "metadata": {},
   "source": [
    "# Проект \"Математика\"\n",
    "Суть проекта — отследить влияние условий жизни учащихся в возрасте от 15 до 22 лет на их успеваемость по математике, чтобы на ранней стадии выявлять студентов, находящихся в группе риска."
   ]
  },
  {
   "cell_type": "markdown",
   "metadata": {},
   "source": [
    "## Описание модели\n",
    "1 school — аббревиатура школы, в которой учится ученик <br />\n",
    "2 sex — пол ученика ('F' - женский, 'M' - мужской) <br />\n",
    "3 age — возраст ученика (от 15 до 22) <br />\n",
    "4 address — тип адреса ученика ('U' - городской, 'R' - за городом) <br />\n",
    "5 famsize — размер семьи('LE3' <= 3, 'GT3' >3) <br />\n",
    "6 Pstatus — статус совместного жилья родителей ('T' - живут вместе 'A' - раздельно) <br />\n",
    "7 Medu — образование матери (0 - нет, 1 - 4 класса, 2 - 5-9 классы, 3 - среднее специальное или 11 классов, 4 - высшее) <br />\n",
    "8 Fedu — образование отца (0 - нет, 1 - 4 класса, 2 - 5-9 классы, 3 - среднее специальное или 11 классов, 4 - высшее) <br />\n",
    "9 Mjob — работа матери ('teacher' - учитель, 'health' - сфера здравоохранения, 'services' - гос служба, 'at_home' - не работает, 'other' - другое) <br />\n",
    "10 Fjob — работа отца ('teacher' - учитель, 'health' - сфера здравоохранения, 'services' - гос служба, 'at_home' - не работает, 'other' - другое) <br />\n",
    "11 reason — причина выбора школы ('home' - близость к дому, 'reputation' - репутация школы, 'course' - образовательная программа, 'other' - другое) <br />\n",
    "12 guardian — опекун ('mother' - мать, 'father' - отец, 'other' - другое) <br />\n",
    "13 traveltime — время в пути до школы (1 - <15 мин., 2 - 15-30 мин., 3 - 30-60 мин., 4 - >60 мин.) <br />\n",
    "14 studytime — время на учёбу помимо школы в неделю (1 - <2 часов, 2 - 2-5 часов, 3 - 5-10 часов, 4 - >10 часов) <br />\n",
    "15 failures — количество внеучебных неудач (n, если 1<=n<3, иначе 0) <br />\n",
    "16 schoolsup — дополнительная образовательная поддержка (yes или no) <br />\n",
    "17 famsup — семейная образовательная поддержка (yes или no) <br />\n",
    "18 paid — дополнительные платные занятия по математике (yes или no) <br />\n",
    "19 activities — дополнительные внеучебные занятия (yes или no) <br />\n",
    "20 nursery — посещал детский сад (yes или no) <br />\n",
    "21 higher — хочет получить высшее образование (yes или no) <br />\n",
    "22 internet — наличие интернета дома (yes или no) <br />\n",
    "23 romantic — в романтических отношениях (yes или no) <br />\n",
    "24 famrel — семейные отношения (от 1 - очень плохо до 5 - очень хорошо) <br />\n",
    "25 freetime — свободное время после школы (от 1 - очень мало до 5 - очень мого) <br />\n",
    "26 goout — проведение времени с друзьями (от 1 - очень мало до 5 - очень много) <br />\n",
    "27 health — текущее состояние здоровья (от 1 - очень плохо до 5 - очень хорошо) <br />\n",
    "28 absences — количество пропущенных занятий <br />\n",
    "29 score — баллы по госэкзамену по математике <br />"
   ]
  },
  {
   "cell_type": "code",
   "execution_count": 1,
   "metadata": {},
   "outputs": [],
   "source": [
    "import pandas as pd\n",
    "import numpy as np\n",
    "import seaborn as sns\n",
    "import math\n",
    "from itertools import combinations\n",
    "from scipy.stats import ttest_ind\n",
    "import matplotlib.pyplot as plt\n",
    "%matplotlib inline\n",
    "\n",
    "pd.set_option('display.max_rows', 50)\n",
    "pd.set_option('display.max_columns', 50)\n",
    "\n",
    "df = pd.read_csv('stud_math.csv')"
   ]
  },
  {
   "cell_type": "code",
   "execution_count": 2,
   "metadata": {},
   "outputs": [
    {
     "data": {
      "text/html": [
       "<div>\n",
       "<style scoped>\n",
       "    .dataframe tbody tr th:only-of-type {\n",
       "        vertical-align: middle;\n",
       "    }\n",
       "\n",
       "    .dataframe tbody tr th {\n",
       "        vertical-align: top;\n",
       "    }\n",
       "\n",
       "    .dataframe thead th {\n",
       "        text-align: right;\n",
       "    }\n",
       "</style>\n",
       "<table border=\"1\" class=\"dataframe\">\n",
       "  <thead>\n",
       "    <tr style=\"text-align: right;\">\n",
       "      <th></th>\n",
       "      <th>school</th>\n",
       "      <th>sex</th>\n",
       "      <th>age</th>\n",
       "      <th>address</th>\n",
       "      <th>famsize</th>\n",
       "      <th>Pstatus</th>\n",
       "      <th>Medu</th>\n",
       "      <th>Fedu</th>\n",
       "      <th>Mjob</th>\n",
       "      <th>Fjob</th>\n",
       "      <th>reason</th>\n",
       "      <th>guardian</th>\n",
       "      <th>traveltime</th>\n",
       "      <th>studytime</th>\n",
       "      <th>failures</th>\n",
       "      <th>schoolsup</th>\n",
       "      <th>famsup</th>\n",
       "      <th>paid</th>\n",
       "      <th>activities</th>\n",
       "      <th>nursery</th>\n",
       "      <th>studytime, granular</th>\n",
       "      <th>higher</th>\n",
       "      <th>internet</th>\n",
       "      <th>romantic</th>\n",
       "      <th>famrel</th>\n",
       "      <th>freetime</th>\n",
       "      <th>goout</th>\n",
       "      <th>health</th>\n",
       "      <th>absences</th>\n",
       "      <th>score</th>\n",
       "    </tr>\n",
       "  </thead>\n",
       "  <tbody>\n",
       "    <tr>\n",
       "      <th>0</th>\n",
       "      <td>GP</td>\n",
       "      <td>F</td>\n",
       "      <td>18</td>\n",
       "      <td>U</td>\n",
       "      <td>NaN</td>\n",
       "      <td>A</td>\n",
       "      <td>4.0</td>\n",
       "      <td>4.0</td>\n",
       "      <td>at_home</td>\n",
       "      <td>teacher</td>\n",
       "      <td>course</td>\n",
       "      <td>mother</td>\n",
       "      <td>2.0</td>\n",
       "      <td>2.0</td>\n",
       "      <td>0.0</td>\n",
       "      <td>yes</td>\n",
       "      <td>no</td>\n",
       "      <td>no</td>\n",
       "      <td>no</td>\n",
       "      <td>yes</td>\n",
       "      <td>-6.0</td>\n",
       "      <td>yes</td>\n",
       "      <td>NaN</td>\n",
       "      <td>no</td>\n",
       "      <td>4.0</td>\n",
       "      <td>3.0</td>\n",
       "      <td>4.0</td>\n",
       "      <td>3.0</td>\n",
       "      <td>6.0</td>\n",
       "      <td>30.0</td>\n",
       "    </tr>\n",
       "    <tr>\n",
       "      <th>1</th>\n",
       "      <td>GP</td>\n",
       "      <td>F</td>\n",
       "      <td>17</td>\n",
       "      <td>U</td>\n",
       "      <td>GT3</td>\n",
       "      <td>NaN</td>\n",
       "      <td>1.0</td>\n",
       "      <td>1.0</td>\n",
       "      <td>at_home</td>\n",
       "      <td>other</td>\n",
       "      <td>course</td>\n",
       "      <td>father</td>\n",
       "      <td>1.0</td>\n",
       "      <td>2.0</td>\n",
       "      <td>0.0</td>\n",
       "      <td>no</td>\n",
       "      <td>yes</td>\n",
       "      <td>no</td>\n",
       "      <td>no</td>\n",
       "      <td>no</td>\n",
       "      <td>-6.0</td>\n",
       "      <td>yes</td>\n",
       "      <td>yes</td>\n",
       "      <td>no</td>\n",
       "      <td>5.0</td>\n",
       "      <td>3.0</td>\n",
       "      <td>3.0</td>\n",
       "      <td>3.0</td>\n",
       "      <td>4.0</td>\n",
       "      <td>30.0</td>\n",
       "    </tr>\n",
       "    <tr>\n",
       "      <th>2</th>\n",
       "      <td>GP</td>\n",
       "      <td>F</td>\n",
       "      <td>15</td>\n",
       "      <td>U</td>\n",
       "      <td>LE3</td>\n",
       "      <td>T</td>\n",
       "      <td>1.0</td>\n",
       "      <td>1.0</td>\n",
       "      <td>at_home</td>\n",
       "      <td>other</td>\n",
       "      <td>other</td>\n",
       "      <td>mother</td>\n",
       "      <td>1.0</td>\n",
       "      <td>2.0</td>\n",
       "      <td>3.0</td>\n",
       "      <td>yes</td>\n",
       "      <td>no</td>\n",
       "      <td>NaN</td>\n",
       "      <td>no</td>\n",
       "      <td>yes</td>\n",
       "      <td>-6.0</td>\n",
       "      <td>yes</td>\n",
       "      <td>yes</td>\n",
       "      <td>NaN</td>\n",
       "      <td>4.0</td>\n",
       "      <td>3.0</td>\n",
       "      <td>2.0</td>\n",
       "      <td>3.0</td>\n",
       "      <td>10.0</td>\n",
       "      <td>50.0</td>\n",
       "    </tr>\n",
       "    <tr>\n",
       "      <th>3</th>\n",
       "      <td>GP</td>\n",
       "      <td>F</td>\n",
       "      <td>15</td>\n",
       "      <td>U</td>\n",
       "      <td>GT3</td>\n",
       "      <td>T</td>\n",
       "      <td>4.0</td>\n",
       "      <td>2.0</td>\n",
       "      <td>health</td>\n",
       "      <td>NaN</td>\n",
       "      <td>home</td>\n",
       "      <td>mother</td>\n",
       "      <td>1.0</td>\n",
       "      <td>3.0</td>\n",
       "      <td>0.0</td>\n",
       "      <td>no</td>\n",
       "      <td>yes</td>\n",
       "      <td>yes</td>\n",
       "      <td>yes</td>\n",
       "      <td>yes</td>\n",
       "      <td>-9.0</td>\n",
       "      <td>yes</td>\n",
       "      <td>yes</td>\n",
       "      <td>yes</td>\n",
       "      <td>3.0</td>\n",
       "      <td>2.0</td>\n",
       "      <td>2.0</td>\n",
       "      <td>5.0</td>\n",
       "      <td>2.0</td>\n",
       "      <td>75.0</td>\n",
       "    </tr>\n",
       "    <tr>\n",
       "      <th>4</th>\n",
       "      <td>GP</td>\n",
       "      <td>F</td>\n",
       "      <td>16</td>\n",
       "      <td>U</td>\n",
       "      <td>GT3</td>\n",
       "      <td>T</td>\n",
       "      <td>3.0</td>\n",
       "      <td>3.0</td>\n",
       "      <td>other</td>\n",
       "      <td>other</td>\n",
       "      <td>home</td>\n",
       "      <td>father</td>\n",
       "      <td>1.0</td>\n",
       "      <td>2.0</td>\n",
       "      <td>0.0</td>\n",
       "      <td>no</td>\n",
       "      <td>yes</td>\n",
       "      <td>yes</td>\n",
       "      <td>no</td>\n",
       "      <td>yes</td>\n",
       "      <td>-6.0</td>\n",
       "      <td>yes</td>\n",
       "      <td>no</td>\n",
       "      <td>no</td>\n",
       "      <td>4.0</td>\n",
       "      <td>3.0</td>\n",
       "      <td>2.0</td>\n",
       "      <td>5.0</td>\n",
       "      <td>4.0</td>\n",
       "      <td>50.0</td>\n",
       "    </tr>\n",
       "  </tbody>\n",
       "</table>\n",
       "</div>"
      ],
      "text/plain": [
       "  school sex  age address famsize Pstatus  Medu  Fedu     Mjob     Fjob  \\\n",
       "0     GP   F   18       U     NaN       A   4.0   4.0  at_home  teacher   \n",
       "1     GP   F   17       U     GT3     NaN   1.0   1.0  at_home    other   \n",
       "2     GP   F   15       U     LE3       T   1.0   1.0  at_home    other   \n",
       "3     GP   F   15       U     GT3       T   4.0   2.0   health      NaN   \n",
       "4     GP   F   16       U     GT3       T   3.0   3.0    other    other   \n",
       "\n",
       "   reason guardian  traveltime  studytime  failures schoolsup famsup paid  \\\n",
       "0  course   mother         2.0        2.0       0.0       yes     no   no   \n",
       "1  course   father         1.0        2.0       0.0        no    yes   no   \n",
       "2   other   mother         1.0        2.0       3.0       yes     no  NaN   \n",
       "3    home   mother         1.0        3.0       0.0        no    yes  yes   \n",
       "4    home   father         1.0        2.0       0.0        no    yes  yes   \n",
       "\n",
       "  activities nursery  studytime, granular higher internet romantic  famrel  \\\n",
       "0         no     yes                 -6.0    yes      NaN       no     4.0   \n",
       "1         no      no                 -6.0    yes      yes       no     5.0   \n",
       "2         no     yes                 -6.0    yes      yes      NaN     4.0   \n",
       "3        yes     yes                 -9.0    yes      yes      yes     3.0   \n",
       "4         no     yes                 -6.0    yes       no       no     4.0   \n",
       "\n",
       "   freetime  goout  health  absences  score  \n",
       "0       3.0    4.0     3.0       6.0   30.0  \n",
       "1       3.0    3.0     3.0       4.0   30.0  \n",
       "2       3.0    2.0     3.0      10.0   50.0  \n",
       "3       2.0    2.0     5.0       2.0   75.0  \n",
       "4       3.0    2.0     5.0       4.0   50.0  "
      ]
     },
     "metadata": {},
     "output_type": "display_data"
    },
    {
     "name": "stdout",
     "output_type": "stream",
     "text": [
      "<class 'pandas.core.frame.DataFrame'>\n",
      "RangeIndex: 395 entries, 0 to 394\n",
      "Data columns (total 30 columns):\n",
      "school                 395 non-null object\n",
      "sex                    395 non-null object\n",
      "age                    395 non-null int64\n",
      "address                378 non-null object\n",
      "famsize                368 non-null object\n",
      "Pstatus                350 non-null object\n",
      "Medu                   392 non-null float64\n",
      "Fedu                   371 non-null float64\n",
      "Mjob                   376 non-null object\n",
      "Fjob                   359 non-null object\n",
      "reason                 378 non-null object\n",
      "guardian               364 non-null object\n",
      "traveltime             367 non-null float64\n",
      "studytime              388 non-null float64\n",
      "failures               373 non-null float64\n",
      "schoolsup              386 non-null object\n",
      "famsup                 356 non-null object\n",
      "paid                   355 non-null object\n",
      "activities             381 non-null object\n",
      "nursery                379 non-null object\n",
      "studytime, granular    388 non-null float64\n",
      "higher                 375 non-null object\n",
      "internet               361 non-null object\n",
      "romantic               364 non-null object\n",
      "famrel                 368 non-null float64\n",
      "freetime               384 non-null float64\n",
      "goout                  387 non-null float64\n",
      "health                 380 non-null float64\n",
      "absences               383 non-null float64\n",
      "score                  389 non-null float64\n",
      "dtypes: float64(12), int64(1), object(17)\n",
      "memory usage: 92.7+ KB\n"
     ]
    },
    {
     "data": {
      "text/plain": [
       "None"
      ]
     },
     "metadata": {},
     "output_type": "display_data"
    }
   ],
   "source": [
    "display(df.head())\n",
    "display(df.info())"
   ]
  },
  {
   "cell_type": "markdown",
   "metadata": {},
   "source": [
    "### studytime, granular\n",
    "В наборе присутствует столбец \"studytime, granular\", который не описан в модели. Исходя из данных в столбце, можно сделать вывод, что значения в нем получены путем умножения -3 на столбец studytime. Поэтому будет целесообразно его удалить, так как он полностью коррелирован с studytime."
   ]
  },
  {
   "cell_type": "code",
   "execution_count": 3,
   "metadata": {},
   "outputs": [
    {
     "name": "stdout",
     "output_type": "stream",
     "text": [
      "<class 'pandas.core.frame.DataFrame'>\n",
      "RangeIndex: 395 entries, 0 to 394\n",
      "Data columns (total 29 columns):\n",
      "school        395 non-null object\n",
      "sex           395 non-null object\n",
      "age           395 non-null int64\n",
      "address       378 non-null object\n",
      "famsize       368 non-null object\n",
      "Pstatus       350 non-null object\n",
      "Medu          392 non-null float64\n",
      "Fedu          371 non-null float64\n",
      "Mjob          376 non-null object\n",
      "Fjob          359 non-null object\n",
      "reason        378 non-null object\n",
      "guardian      364 non-null object\n",
      "traveltime    367 non-null float64\n",
      "studytime     388 non-null float64\n",
      "failures      373 non-null float64\n",
      "schoolsup     386 non-null object\n",
      "famsup        356 non-null object\n",
      "paid          355 non-null object\n",
      "activities    381 non-null object\n",
      "nursery       379 non-null object\n",
      "higher        375 non-null object\n",
      "internet      361 non-null object\n",
      "romantic      364 non-null object\n",
      "famrel        368 non-null float64\n",
      "freetime      384 non-null float64\n",
      "goout         387 non-null float64\n",
      "health        380 non-null float64\n",
      "absences      383 non-null float64\n",
      "score         389 non-null float64\n",
      "dtypes: float64(11), int64(1), object(17)\n",
      "memory usage: 89.6+ KB\n"
     ]
    },
    {
     "data": {
      "text/plain": [
       "None"
      ]
     },
     "metadata": {},
     "output_type": "display_data"
    }
   ],
   "source": [
    "df.drop(columns=['studytime, granular'], inplace=True)\n",
    "display(df.info())"
   ]
  },
  {
   "cell_type": "markdown",
   "metadata": {},
   "source": [
    "**Вывод:** Выборка содержит 395 строк. Всего присутствует 29 столбцов, из них числовых признаков - 12, номинативных признаков - 17. В некоторых записях присутствуют неопределенные значения как для числовых признаков, так и для номинативных.."
   ]
  },
  {
   "cell_type": "markdown",
   "metadata": {},
   "source": [
    "# Первичная обработка данных"
   ]
  },
  {
   "cell_type": "markdown",
   "metadata": {},
   "source": [
    "## Очистка числовых данных\n",
    "В наборе 12 числовых столбцов. В некоторых из них (Medu, Fedu, traveltime и др) есть пустые значения. Обработаем столбцы и применим промежуточное решение (способ заполнения будет определяться позднее): в случае наличия пропусков, будем заполнять средним значением по столбцу."
   ]
  },
  {
   "cell_type": "code",
   "execution_count": 4,
   "metadata": {},
   "outputs": [
    {
     "name": "stdout",
     "output_type": "stream",
     "text": [
      "age\n",
      "       До: Нулевых   0, Среднее 16.7\n",
      "    После: Нулевых   0, Среднее 16.7\n",
      "Medu\n",
      "       До: Нулевых   3, Среднее 2.75\n",
      "    После: Нулевых   0, Среднее 2.75\n",
      "Fedu\n",
      "       До: Нулевых  24, Среднее 2.61\n",
      "    После: Нулевых   0, Среднее 2.61\n",
      "traveltime\n",
      "       До: Нулевых  28, Среднее 1.44\n",
      "    После: Нулевых   0, Среднее 1.44\n",
      "studytime\n",
      "       До: Нулевых   7, Среднее 2.04\n",
      "    После: Нулевых   0, Среднее 2.04\n",
      "failures\n",
      "       До: Нулевых  22, Среднее 0.34\n",
      "    После: Нулевых   0, Среднее 0.34\n",
      "famrel\n",
      "       До: Нулевых  27, Среднее 3.94\n",
      "    После: Нулевых   0, Среднее 3.94\n",
      "freetime\n",
      "       До: Нулевых  11, Среднее 3.23\n",
      "    После: Нулевых   0, Среднее 3.23\n",
      "goout\n",
      "       До: Нулевых   8, Среднее 3.11\n",
      "    После: Нулевых   0, Среднее 3.11\n",
      "health\n",
      "       До: Нулевых  15, Среднее 3.53\n",
      "    После: Нулевых   0, Среднее 3.53\n",
      "absences\n",
      "       До: Нулевых  12, Среднее 7.28\n",
      "    После: Нулевых   0, Среднее 7.28\n",
      "score\n",
      "       До: Нулевых   6, Среднее 52.26\n",
      "    После: Нулевых   0, Среднее 52.26\n"
     ]
    }
   ],
   "source": [
    "def clear_number_columns(df, column):\n",
    "    if (df[column].dtype == np.object):\n",
    "        return\n",
    "    print(column)\n",
    "    mean = df[column].mean()\n",
    "    count_nan = len(df[column]) - df[column].count()\n",
    "    print('       До: Нулевых {0:3}, Среднее {1}'.format(\n",
    "        count_nan, round(mean, 2)))\n",
    "    df[column] = df[column].apply(lambda x: mean if math.isnan(x) else x)\n",
    "    mean = df[column].mean()\n",
    "    count_nan = len(df[column]) - df[column].count()\n",
    "    print('    После: Нулевых {0:3}, Среднее {1}'.format(\n",
    "        count_nan, round(mean, 2)))\n",
    "\n",
    "\n",
    "for column in df.columns:\n",
    "    clear_number_columns(df, column)"
   ]
  },
  {
   "cell_type": "markdown",
   "metadata": {},
   "source": [
    "## Очистка номинативных данных\n",
    "В наборе присутствует 17 столбцов с номинативными данными, в которых есть пропуски. **Исключать такие данные не будем**, но заменим пропуски на строку 'Unknown'."
   ]
  },
  {
   "cell_type": "code",
   "execution_count": 5,
   "metadata": {},
   "outputs": [
    {
     "name": "stdout",
     "output_type": "stream",
     "text": [
      "school\n",
      "       До: Нулевых   0\n",
      "    После: Нулевых   0\n"
     ]
    },
    {
     "data": {
      "text/plain": [
       "GP    349\n",
       "MS     46\n",
       "Name: school, dtype: int64"
      ]
     },
     "metadata": {},
     "output_type": "display_data"
    },
    {
     "name": "stdout",
     "output_type": "stream",
     "text": [
      "sex\n",
      "       До: Нулевых   0\n",
      "    После: Нулевых   0\n"
     ]
    },
    {
     "data": {
      "text/plain": [
       "F    208\n",
       "M    187\n",
       "Name: sex, dtype: int64"
      ]
     },
     "metadata": {},
     "output_type": "display_data"
    },
    {
     "name": "stdout",
     "output_type": "stream",
     "text": [
      "address\n",
      "       До: Нулевых  17\n",
      "    После: Нулевых   0\n"
     ]
    },
    {
     "data": {
      "text/plain": [
       "U          295\n",
       "R           83\n",
       "Unknown     17\n",
       "Name: address, dtype: int64"
      ]
     },
     "metadata": {},
     "output_type": "display_data"
    },
    {
     "name": "stdout",
     "output_type": "stream",
     "text": [
      "famsize\n",
      "       До: Нулевых  27\n",
      "    После: Нулевых   0\n"
     ]
    },
    {
     "data": {
      "text/plain": [
       "GT3        261\n",
       "LE3        107\n",
       "Unknown     27\n",
       "Name: famsize, dtype: int64"
      ]
     },
     "metadata": {},
     "output_type": "display_data"
    },
    {
     "name": "stdout",
     "output_type": "stream",
     "text": [
      "Pstatus\n",
      "       До: Нулевых  45\n",
      "    После: Нулевых   0\n"
     ]
    },
    {
     "data": {
      "text/plain": [
       "T          314\n",
       "Unknown     45\n",
       "A           36\n",
       "Name: Pstatus, dtype: int64"
      ]
     },
     "metadata": {},
     "output_type": "display_data"
    },
    {
     "name": "stdout",
     "output_type": "stream",
     "text": [
      "Mjob\n",
      "       До: Нулевых  19\n",
      "    После: Нулевых   0\n"
     ]
    },
    {
     "data": {
      "text/plain": [
       "other       133\n",
       "services     98\n",
       "at_home      58\n",
       "teacher      55\n",
       "health       32\n",
       "Unknown      19\n",
       "Name: Mjob, dtype: int64"
      ]
     },
     "metadata": {},
     "output_type": "display_data"
    },
    {
     "name": "stdout",
     "output_type": "stream",
     "text": [
      "Fjob\n",
      "       До: Нулевых  36\n",
      "    После: Нулевых   0\n"
     ]
    },
    {
     "data": {
      "text/plain": [
       "other       197\n",
       "services    102\n",
       "Unknown      36\n",
       "teacher      29\n",
       "at_home      16\n",
       "health       15\n",
       "Name: Fjob, dtype: int64"
      ]
     },
     "metadata": {},
     "output_type": "display_data"
    },
    {
     "name": "stdout",
     "output_type": "stream",
     "text": [
      "reason\n",
      "       До: Нулевых  17\n",
      "    После: Нулевых   0\n"
     ]
    },
    {
     "data": {
      "text/plain": [
       "course        137\n",
       "home          104\n",
       "reputation    103\n",
       "other          34\n",
       "Unknown        17\n",
       "Name: reason, dtype: int64"
      ]
     },
     "metadata": {},
     "output_type": "display_data"
    },
    {
     "name": "stdout",
     "output_type": "stream",
     "text": [
      "guardian\n",
      "       До: Нулевых  31\n",
      "    После: Нулевых   0\n"
     ]
    },
    {
     "data": {
      "text/plain": [
       "mother     250\n",
       "father      86\n",
       "Unknown     31\n",
       "other       28\n",
       "Name: guardian, dtype: int64"
      ]
     },
     "metadata": {},
     "output_type": "display_data"
    },
    {
     "name": "stdout",
     "output_type": "stream",
     "text": [
      "schoolsup\n",
      "       До: Нулевых   9\n",
      "    После: Нулевых   0\n"
     ]
    },
    {
     "data": {
      "text/plain": [
       "no         335\n",
       "yes         51\n",
       "Unknown      9\n",
       "Name: schoolsup, dtype: int64"
      ]
     },
     "metadata": {},
     "output_type": "display_data"
    },
    {
     "name": "stdout",
     "output_type": "stream",
     "text": [
      "famsup\n",
      "       До: Нулевых  39\n",
      "    После: Нулевых   0\n"
     ]
    },
    {
     "data": {
      "text/plain": [
       "yes        219\n",
       "no         137\n",
       "Unknown     39\n",
       "Name: famsup, dtype: int64"
      ]
     },
     "metadata": {},
     "output_type": "display_data"
    },
    {
     "name": "stdout",
     "output_type": "stream",
     "text": [
      "paid\n",
      "       До: Нулевых  40\n",
      "    После: Нулевых   0\n"
     ]
    },
    {
     "data": {
      "text/plain": [
       "no         200\n",
       "yes        155\n",
       "Unknown     40\n",
       "Name: paid, dtype: int64"
      ]
     },
     "metadata": {},
     "output_type": "display_data"
    },
    {
     "name": "stdout",
     "output_type": "stream",
     "text": [
      "activities\n",
      "       До: Нулевых  14\n",
      "    После: Нулевых   0\n"
     ]
    },
    {
     "data": {
      "text/plain": [
       "yes        195\n",
       "no         186\n",
       "Unknown     14\n",
       "Name: activities, dtype: int64"
      ]
     },
     "metadata": {},
     "output_type": "display_data"
    },
    {
     "name": "stdout",
     "output_type": "stream",
     "text": [
      "nursery\n",
      "       До: Нулевых  16\n",
      "    После: Нулевых   0\n"
     ]
    },
    {
     "data": {
      "text/plain": [
       "yes        300\n",
       "no          79\n",
       "Unknown     16\n",
       "Name: nursery, dtype: int64"
      ]
     },
     "metadata": {},
     "output_type": "display_data"
    },
    {
     "name": "stdout",
     "output_type": "stream",
     "text": [
      "higher\n",
      "       До: Нулевых  20\n",
      "    После: Нулевых   0\n"
     ]
    },
    {
     "data": {
      "text/plain": [
       "yes        356\n",
       "Unknown     20\n",
       "no          19\n",
       "Name: higher, dtype: int64"
      ]
     },
     "metadata": {},
     "output_type": "display_data"
    },
    {
     "name": "stdout",
     "output_type": "stream",
     "text": [
      "internet\n",
      "       До: Нулевых  34\n",
      "    После: Нулевых   0\n"
     ]
    },
    {
     "data": {
      "text/plain": [
       "yes        305\n",
       "no          56\n",
       "Unknown     34\n",
       "Name: internet, dtype: int64"
      ]
     },
     "metadata": {},
     "output_type": "display_data"
    },
    {
     "name": "stdout",
     "output_type": "stream",
     "text": [
      "romantic\n",
      "       До: Нулевых  31\n",
      "    После: Нулевых   0\n"
     ]
    },
    {
     "data": {
      "text/plain": [
       "no         240\n",
       "yes        124\n",
       "Unknown     31\n",
       "Name: romantic, dtype: int64"
      ]
     },
     "metadata": {},
     "output_type": "display_data"
    }
   ],
   "source": [
    "def clear_object_columns(df, column):\n",
    "    if (df[column].dtype != np.object):\n",
    "        return\n",
    "    print(column)\n",
    "    count_nan = len(df[column]) - df[column].count()\n",
    "    print('       До: Нулевых {0:3}'.format(count_nan))\n",
    "    df[column] = df[column].astype('str').apply(\n",
    "        lambda x: 'Unknown' if x == 'nan' else x)\n",
    "    count_nan = len(df[column]) - df[column].count()\n",
    "    print('    После: Нулевых {0:3}'.format(count_nan))\n",
    "    display(df[column].value_counts())\n",
    "\n",
    "\n",
    "for column in df.columns:\n",
    "    clear_object_columns(df, column)"
   ]
  },
  {
   "cell_type": "markdown",
   "metadata": {},
   "source": [
    "## Проверка заполненонсти набора данных\n",
    "Убедимся, что все столбцы заполненны данными без пропусков (будем держать в голове, что номинативные данные мы заполняли строкой 'Unknown')."
   ]
  },
  {
   "cell_type": "code",
   "execution_count": 6,
   "metadata": {},
   "outputs": [
    {
     "name": "stdout",
     "output_type": "stream",
     "text": [
      "<class 'pandas.core.frame.DataFrame'>\n",
      "RangeIndex: 395 entries, 0 to 394\n",
      "Data columns (total 29 columns):\n",
      "school        395 non-null object\n",
      "sex           395 non-null object\n",
      "age           395 non-null int64\n",
      "address       395 non-null object\n",
      "famsize       395 non-null object\n",
      "Pstatus       395 non-null object\n",
      "Medu          395 non-null float64\n",
      "Fedu          395 non-null float64\n",
      "Mjob          395 non-null object\n",
      "Fjob          395 non-null object\n",
      "reason        395 non-null object\n",
      "guardian      395 non-null object\n",
      "traveltime    395 non-null float64\n",
      "studytime     395 non-null float64\n",
      "failures      395 non-null float64\n",
      "schoolsup     395 non-null object\n",
      "famsup        395 non-null object\n",
      "paid          395 non-null object\n",
      "activities    395 non-null object\n",
      "nursery       395 non-null object\n",
      "higher        395 non-null object\n",
      "internet      395 non-null object\n",
      "romantic      395 non-null object\n",
      "famrel        395 non-null float64\n",
      "freetime      395 non-null float64\n",
      "goout         395 non-null float64\n",
      "health        395 non-null float64\n",
      "absences      395 non-null float64\n",
      "score         395 non-null float64\n",
      "dtypes: float64(11), int64(1), object(17)\n",
      "memory usage: 89.6+ KB\n"
     ]
    }
   ],
   "source": [
    "df.info()"
   ]
  },
  {
   "cell_type": "markdown",
   "metadata": {},
   "source": [
    "**Вывод:** Набор заполнен данными полность. В некоторых номинативных данных появилось значение 'Unknown'."
   ]
  },
  {
   "cell_type": "markdown",
   "metadata": {},
   "source": [
    "# Устранение выбросов, преобразование данных\n"
   ]
  },
  {
   "cell_type": "markdown",
   "metadata": {},
   "source": [
    "## Устранение выбросов числовых переменных\n",
    "Текущая задача - убедиться в отсутствии выбросов. Если выбросы будут обнаружены, придется отфильтровывать эти значения.\n",
    "Числовых признаков ровно 12, поэтому построим 12 гистограмм: 4 ряда по 3 столбца."
   ]
  },
  {
   "cell_type": "code",
   "execution_count": 7,
   "metadata": {
    "code_folding": []
   },
   "outputs": [],
   "source": [
    "def show_hists(df):\n",
    "    col_count = 3\n",
    "    row_count = 4\n",
    "    fig, axes = plt.subplots(row_count, col_count, figsize=(16, 12))\n",
    "\n",
    "    number = 0\n",
    "    for column in df.columns:\n",
    "        if (df[column].dtype != np.object):\n",
    "            row = number // col_count\n",
    "            col = number % col_count\n",
    "            axes[row, col].hist(df[column])\n",
    "            axes[row, col].set_title(column)\n",
    "            number += 1"
   ]
  },
  {
   "cell_type": "code",
   "execution_count": 8,
   "metadata": {},
   "outputs": [
    {
     "data": {
      "image/png": "[encoded data removed]",
      "text/plain": [
       "<Figure size 1152x864 with 12 Axes>"
      ]
     },
     "metadata": {},
     "output_type": "display_data"
    }
   ],
   "source": [
    "show_hists(df)"
   ]
  },
  {
   "cell_type": "markdown",
   "metadata": {},
   "source": [
    "Аномальные значения, не соответствующие смыслу столбцов, в которых они хранятся, наблюдаются в следующих колонках:\n",
    "    <li>**Fedu (образование отца)** - значения должны быть в пределах от 1 до 4;</li>\n",
    "    <li>**famrel (семейные отношения)** - значения должны быть от 1 до 5;</li>\n",
    "    <li>**absences (кол-во пропущенных занятий)** - подозрительный столбец, так как наблюдаются значения, на порядок превосходящие средние показатели. С одной стороны, это может говорить о том, что человек не посещал занятия вообще и, как результат, не сдаст тест, но, с другой стороны, если такой человек сдаст тест на хорошую отметку, то это снизит качество предсказания нашей модели. <u>Принимается решение исключить из выборки таких людей. Оставить пределы от 0 до 35</u> (граница 35 вычислена экспериментально с учетом гипотезы о том, что лучше выкинуть небольшое кол-во значимых данных, чем оставить много выбросов, приводящих к ухудшению предсказаний).</li>\n",
    "    <li>**score** - некоторые ученики сдали тест на 0 баллов. Это может означаться, что они его вообще не писали. Избавимся от таких данных, потому что они не несут полезной информации.</li>"
   ]
  },
  {
   "cell_type": "code",
   "execution_count": 9,
   "metadata": {},
   "outputs": [
    {
     "name": "stdout",
     "output_type": "stream",
     "text": [
      "Аномальные значения: Было записей: 395, Стало записей: 384, Уменьшение на 2.8%\n",
      "Нулевики: Было записей: 384, Стало записей: 347, Уменьшение на 9.6%\n"
     ]
    }
   ],
   "source": [
    "fedu_filter = (1 <= df.Fedu) & (df.Fedu <= 4)\n",
    "famrel_filter = (1 <= df.famrel) & (df.famrel <= 5)\n",
    "absences_filter = (0 <= df.absences) & (df.absences <= 35)\n",
    "\n",
    "old_len = len(df)\n",
    "df = df[fedu_filter & famrel_filter & absences_filter]\n",
    "new_len = len(df)\n",
    "\n",
    "print('Аномальные значения: Было записей: {0}, Стало записей: {1}, Уменьшение на {2}%'.format(\n",
    "    old_len, new_len, round(100 * (old_len - new_len) / old_len, 1)))\n",
    "\n",
    "score_filter = (df.score != 0)\n",
    "old_len = len(df)\n",
    "df = df[score_filter]\n",
    "new_len = len(df)\n",
    "print('Нулевики: Было записей: {0}, Стало записей: {1}, Уменьшение на {2}%'.format(\n",
    "    old_len, new_len, round(100 * (old_len - new_len) / old_len, 1)))"
   ]
  },
  {
   "cell_type": "markdown",
   "metadata": {},
   "source": [
    "**Вывод:** Произошло уменьшение выборки на (395-347)/395 = 12.2%, что, в целом, допустимо.<br />\n",
    "           Аномальных значений не много: уменьшение выборки составило только 2.8%. <br />\n",
    "           \"Нулевиков\" существенно больше: уменьшение выборки составило ещё 9.6%. <br />\n",
    "           Теперь числовые данные очищены и не содержат выбросов."
   ]
  },
  {
   "cell_type": "markdown",
   "metadata": {},
   "source": [
    "## Преобразование числовых переменных"
   ]
  },
  {
   "cell_type": "markdown",
   "metadata": {},
   "source": [
    "Заметим, что в данных, где по смыслу должны быть целые значения, прячутся дробные: Medu, filures, traveltime и другие. Это могло произойти, когда мы заполняли пропуски средними значениями. <u>Принимаем решение округлить такие значения до ближайшего целого и привести все столбцы к типу integer.</u> <br /><br />\n",
    "Впоследствии это может снизить качество предсказания, поэтому здесь стоит экспериментировать."
   ]
  },
  {
   "cell_type": "code",
   "execution_count": 10,
   "metadata": {},
   "outputs": [],
   "source": [
    "def cast_to_int_column(df, column):\n",
    "    if (df[column].dtype == np.float64):\n",
    "        df[column] = df[column].apply(lambda x: int(round(x)))\n",
    "\n",
    "\n",
    "for column in df.columns:\n",
    "    cast_to_int_column(df, column)"
   ]
  },
  {
   "cell_type": "markdown",
   "metadata": {},
   "source": [
    "Посмотрим на распределения повторно."
   ]
  },
  {
   "cell_type": "code",
   "execution_count": 11,
   "metadata": {},
   "outputs": [
    {
     "data": {
      "image/png": "[encoded data removed]",
      "text/plain": [
       "<Figure size 1152x864 with 12 Axes>"
      ]
     },
     "metadata": {},
     "output_type": "display_data"
    }
   ],
   "source": [
    "show_hists(df)"
   ]
  },
  {
   "cell_type": "code",
   "execution_count": 12,
   "metadata": {},
   "outputs": [
    {
     "name": "stdout",
     "output_type": "stream",
     "text": [
      "<class 'pandas.core.frame.DataFrame'>\n",
      "Int64Index: 347 entries, 0 to 394\n",
      "Data columns (total 29 columns):\n",
      "school        347 non-null object\n",
      "sex           347 non-null object\n",
      "age           347 non-null int64\n",
      "address       347 non-null object\n",
      "famsize       347 non-null object\n",
      "Pstatus       347 non-null object\n",
      "Medu          347 non-null int64\n",
      "Fedu          347 non-null int64\n",
      "Mjob          347 non-null object\n",
      "Fjob          347 non-null object\n",
      "reason        347 non-null object\n",
      "guardian      347 non-null object\n",
      "traveltime    347 non-null int64\n",
      "studytime     347 non-null int64\n",
      "failures      347 non-null int64\n",
      "schoolsup     347 non-null object\n",
      "famsup        347 non-null object\n",
      "paid          347 non-null object\n",
      "activities    347 non-null object\n",
      "nursery       347 non-null object\n",
      "higher        347 non-null object\n",
      "internet      347 non-null object\n",
      "romantic      347 non-null object\n",
      "famrel        347 non-null int64\n",
      "freetime      347 non-null int64\n",
      "goout         347 non-null int64\n",
      "health        347 non-null int64\n",
      "absences      347 non-null int64\n",
      "score         347 non-null int64\n",
      "dtypes: int64(12), object(17)\n",
      "memory usage: 81.3+ KB\n"
     ]
    }
   ],
   "source": [
    "df.info()"
   ]
  },
  {
   "cell_type": "markdown",
   "metadata": {},
   "source": [
    "**Вывод:** После обработки выбросы отсутствуют, аномальных значений нет, все данные приведены к целочисленному типу и соответствуют исходным условиям."
   ]
  },
  {
   "cell_type": "markdown",
   "metadata": {},
   "source": [
    "## Анализ и преобразование номинативных переменных\n",
    "Убедимся, что в номинативных данных присутствуют только допустимые значения, а также значения 'Unknown', которое мы установили ранее."
   ]
  },
  {
   "cell_type": "code",
   "execution_count": 13,
   "metadata": {},
   "outputs": [
    {
     "data": {
      "text/plain": [
       "GP    306\n",
       "MS     41\n",
       "Name: school, dtype: int64"
      ]
     },
     "metadata": {},
     "output_type": "display_data"
    },
    {
     "data": {
      "text/plain": [
       "F    179\n",
       "M    168\n",
       "Name: sex, dtype: int64"
      ]
     },
     "metadata": {},
     "output_type": "display_data"
    },
    {
     "data": {
      "text/plain": [
       "U          260\n",
       "R           71\n",
       "Unknown     16\n",
       "Name: address, dtype: int64"
      ]
     },
     "metadata": {},
     "output_type": "display_data"
    },
    {
     "data": {
      "text/plain": [
       "GT3        226\n",
       "LE3         98\n",
       "Unknown     23\n",
       "Name: famsize, dtype: int64"
      ]
     },
     "metadata": {},
     "output_type": "display_data"
    },
    {
     "data": {
      "text/plain": [
       "T          278\n",
       "Unknown     37\n",
       "A           32\n",
       "Name: Pstatus, dtype: int64"
      ]
     },
     "metadata": {},
     "output_type": "display_data"
    },
    {
     "data": {
      "text/plain": [
       "other       116\n",
       "services     86\n",
       "at_home      49\n",
       "teacher      49\n",
       "health       30\n",
       "Unknown      17\n",
       "Name: Mjob, dtype: int64"
      ]
     },
     "metadata": {},
     "output_type": "display_data"
    },
    {
     "data": {
      "text/plain": [
       "other       174\n",
       "services     87\n",
       "Unknown      32\n",
       "teacher      25\n",
       "health       15\n",
       "at_home      14\n",
       "Name: Fjob, dtype: int64"
      ]
     },
     "metadata": {},
     "output_type": "display_data"
    },
    {
     "data": {
      "text/plain": [
       "course        119\n",
       "reputation     92\n",
       "home           89\n",
       "other          32\n",
       "Unknown        15\n",
       "Name: reason, dtype: int64"
      ]
     },
     "metadata": {},
     "output_type": "display_data"
    },
    {
     "data": {
      "text/plain": [
       "mother     220\n",
       "father      77\n",
       "Unknown     28\n",
       "other       22\n",
       "Name: guardian, dtype: int64"
      ]
     },
     "metadata": {},
     "output_type": "display_data"
    },
    {
     "data": {
      "text/plain": [
       "no         290\n",
       "yes         48\n",
       "Unknown      9\n",
       "Name: schoolsup, dtype: int64"
      ]
     },
     "metadata": {},
     "output_type": "display_data"
    },
    {
     "data": {
      "text/plain": [
       "yes        192\n",
       "no         120\n",
       "Unknown     35\n",
       "Name: famsup, dtype: int64"
      ]
     },
     "metadata": {},
     "output_type": "display_data"
    },
    {
     "data": {
      "text/plain": [
       "no         167\n",
       "yes        143\n",
       "Unknown     37\n",
       "Name: paid, dtype: int64"
      ]
     },
     "metadata": {},
     "output_type": "display_data"
    },
    {
     "data": {
      "text/plain": [
       "yes        170\n",
       "no         165\n",
       "Unknown     12\n",
       "Name: activities, dtype: int64"
      ]
     },
     "metadata": {},
     "output_type": "display_data"
    },
    {
     "data": {
      "text/plain": [
       "yes        266\n",
       "no          68\n",
       "Unknown     13\n",
       "Name: nursery, dtype: int64"
      ]
     },
     "metadata": {},
     "output_type": "display_data"
    },
    {
     "data": {
      "text/plain": [
       "yes        318\n",
       "Unknown     17\n",
       "no          12\n",
       "Name: higher, dtype: int64"
      ]
     },
     "metadata": {},
     "output_type": "display_data"
    },
    {
     "data": {
      "text/plain": [
       "yes        269\n",
       "no          49\n",
       "Unknown     29\n",
       "Name: internet, dtype: int64"
      ]
     },
     "metadata": {},
     "output_type": "display_data"
    },
    {
     "data": {
      "text/plain": [
       "no         218\n",
       "yes        100\n",
       "Unknown     29\n",
       "Name: romantic, dtype: int64"
      ]
     },
     "metadata": {},
     "output_type": "display_data"
    }
   ],
   "source": [
    "for column in df.columns:\n",
    "    if (df[column].dtype == np.object):\n",
    "        display(df[column].value_counts())"
   ]
  },
  {
   "cell_type": "markdown",
   "metadata": {},
   "source": [
    "**Вывод:** Колонки, с явным ниличием некорректных данных не найдены. Все данные удовлетворяют первоначальным условиям и содержат либо допустимые значения, либо 'Unknown'."
   ]
  },
  {
   "cell_type": "markdown",
   "metadata": {},
   "source": [
    "# Корреляционный анализ"
   ]
  },
  {
   "cell_type": "markdown",
   "metadata": {},
   "source": [
    "Так как признаков довольно много, будем решать задачу не методом исключения признаков по признаку корреляции друг с другом, а по признаку коррекляции с ключевым полем (score). Во-первых, отберем те признаки, которые коррелируют с ключевым полем, а во-вторых, выберем среди них слабокоррелированные между собой."
   ]
  },
  {
   "cell_type": "markdown",
   "metadata": {},
   "source": [
    "## Отбор корелирующих с ключевым полем (score) признаков"
   ]
  },
  {
   "cell_type": "markdown",
   "metadata": {},
   "source": [
    "### Количественные признаки\n",
    "Построим матрицу коэффициентов корреляций количественных признаков."
   ]
  },
  {
   "cell_type": "code",
   "execution_count": 14,
   "metadata": {},
   "outputs": [
    {
     "data": {
      "text/plain": [
       "<matplotlib.axes._axes.Axes at 0x1e2b25949e8>"
      ]
     },
     "execution_count": 14,
     "metadata": {},
     "output_type": "execute_result"
    },
    {
     "data": {
      "image/png": "[encoded data removed]",
      "text/plain": [
       "<Figure size 864x720 with 2 Axes>"
      ]
     },
     "metadata": {},
     "output_type": "display_data"
    }
   ],
   "source": [
    "correlation = df.corr()\n",
    "\n",
    "fig = plt.figure(figsize=(12, 10))\n",
    "axes = fig.add_axes([0, 0, 1, 1])\n",
    "sns.heatmap(correlation, annot=True, cmap='coolwarm', ax=axes)"
   ]
  },
  {
   "cell_type": "markdown",
   "metadata": {},
   "source": [
    "**Вывод:** Установил порог корреляции в 0.1. По этому условия выбираем следующие признаки:<br />\n",
    "        <li>age</li>\n",
    "        <li>Medu</li>\n",
    "        <li>studytime</li>\n",
    "        <li>failures</li>\n",
    "        <li>goout</li>\n",
    "        <li>absences</li>\n",
    "        \n",
    "Признак Fedu исключаем, так как он сильно коррелирует с Medu."
   ]
  },
  {
   "cell_type": "code",
   "execution_count": 15,
   "metadata": {},
   "outputs": [],
   "source": [
    "numeric_columns = ['age', 'Medu', 'studytime', 'failures', 'goout', 'absences']"
   ]
  },
  {
   "cell_type": "markdown",
   "metadata": {},
   "source": [
    "### Номинативные признаки\n",
    "Для номинативных признаков будем использовать боксплоты. При этом данные будем очищать от 'Unknown'."
   ]
  },
  {
   "cell_type": "code",
   "execution_count": 16,
   "metadata": {},
   "outputs": [
    {
     "data": {
      "image/png": "[encoded data removed]",
      "text/plain": [
       "<Figure size 1152x2160 with 18 Axes>"
      ]
     },
     "metadata": {},
     "output_type": "display_data"
    }
   ],
   "source": [
    "col_count = 2\n",
    "row_count = 9\n",
    "fig, axes = plt.subplots(row_count, col_count, figsize=(16, 30))\n",
    "\n",
    "number = 0\n",
    "for column in df.columns:\n",
    "    if (df[column].dtype == np.object):\n",
    "        row = number // col_count\n",
    "        col = number % col_count\n",
    "        temp_df = df[df[column] != 'Unknown']\n",
    "        sns.boxplot(x=column, y='score', data=temp_df, ax=axes[row, col])\n",
    "        number += 1"
   ]
  },
  {
   "cell_type": "markdown",
   "metadata": {},
   "source": [
    "**Вывод:** Выберем номинативные признаки, которые коррелируют с score:<br />\n",
    "        <li>address</li>\n",
    "        <li>Fjob</li>\n",
    "        <li>Mjob</li>\n",
    "        <li>schoolsup</li>\n",
    "        <li>higher</li>"
   ]
  },
  {
   "cell_type": "code",
   "execution_count": 17,
   "metadata": {},
   "outputs": [],
   "source": [
    "numinative_columns = ['address', 'Fjob', 'Mjob', 'schoolsup', 'higher']"
   ]
  },
  {
   "cell_type": "markdown",
   "metadata": {},
   "source": [
    "### Отберем из всей выборке только коррелирующие с score признаки"
   ]
  },
  {
   "cell_type": "code",
   "execution_count": 18,
   "metadata": {},
   "outputs": [
    {
     "data": {
      "text/html": [
       "<div>\n",
       "<style scoped>\n",
       "    .dataframe tbody tr th:only-of-type {\n",
       "        vertical-align: middle;\n",
       "    }\n",
       "\n",
       "    .dataframe tbody tr th {\n",
       "        vertical-align: top;\n",
       "    }\n",
       "\n",
       "    .dataframe thead th {\n",
       "        text-align: right;\n",
       "    }\n",
       "</style>\n",
       "<table border=\"1\" class=\"dataframe\">\n",
       "  <thead>\n",
       "    <tr style=\"text-align: right;\">\n",
       "      <th></th>\n",
       "      <th>age</th>\n",
       "      <th>Medu</th>\n",
       "      <th>studytime</th>\n",
       "      <th>failures</th>\n",
       "      <th>goout</th>\n",
       "      <th>absences</th>\n",
       "      <th>address</th>\n",
       "      <th>Fjob</th>\n",
       "      <th>Mjob</th>\n",
       "      <th>schoolsup</th>\n",
       "      <th>higher</th>\n",
       "      <th>score</th>\n",
       "    </tr>\n",
       "  </thead>\n",
       "  <tbody>\n",
       "    <tr>\n",
       "      <th>0</th>\n",
       "      <td>18</td>\n",
       "      <td>4</td>\n",
       "      <td>2</td>\n",
       "      <td>0</td>\n",
       "      <td>4</td>\n",
       "      <td>6</td>\n",
       "      <td>U</td>\n",
       "      <td>teacher</td>\n",
       "      <td>at_home</td>\n",
       "      <td>yes</td>\n",
       "      <td>yes</td>\n",
       "      <td>30</td>\n",
       "    </tr>\n",
       "    <tr>\n",
       "      <th>1</th>\n",
       "      <td>17</td>\n",
       "      <td>1</td>\n",
       "      <td>2</td>\n",
       "      <td>0</td>\n",
       "      <td>3</td>\n",
       "      <td>4</td>\n",
       "      <td>U</td>\n",
       "      <td>other</td>\n",
       "      <td>at_home</td>\n",
       "      <td>no</td>\n",
       "      <td>yes</td>\n",
       "      <td>30</td>\n",
       "    </tr>\n",
       "    <tr>\n",
       "      <th>2</th>\n",
       "      <td>15</td>\n",
       "      <td>1</td>\n",
       "      <td>2</td>\n",
       "      <td>3</td>\n",
       "      <td>2</td>\n",
       "      <td>10</td>\n",
       "      <td>U</td>\n",
       "      <td>other</td>\n",
       "      <td>at_home</td>\n",
       "      <td>yes</td>\n",
       "      <td>yes</td>\n",
       "      <td>50</td>\n",
       "    </tr>\n",
       "    <tr>\n",
       "      <th>3</th>\n",
       "      <td>15</td>\n",
       "      <td>4</td>\n",
       "      <td>3</td>\n",
       "      <td>0</td>\n",
       "      <td>2</td>\n",
       "      <td>2</td>\n",
       "      <td>U</td>\n",
       "      <td>Unknown</td>\n",
       "      <td>health</td>\n",
       "      <td>no</td>\n",
       "      <td>yes</td>\n",
       "      <td>75</td>\n",
       "    </tr>\n",
       "    <tr>\n",
       "      <th>4</th>\n",
       "      <td>16</td>\n",
       "      <td>3</td>\n",
       "      <td>2</td>\n",
       "      <td>0</td>\n",
       "      <td>2</td>\n",
       "      <td>4</td>\n",
       "      <td>U</td>\n",
       "      <td>other</td>\n",
       "      <td>other</td>\n",
       "      <td>no</td>\n",
       "      <td>yes</td>\n",
       "      <td>50</td>\n",
       "    </tr>\n",
       "  </tbody>\n",
       "</table>\n",
       "</div>"
      ],
      "text/plain": [
       "   age  Medu  studytime  failures  goout  absences address     Fjob     Mjob  \\\n",
       "0   18     4          2         0      4         6       U  teacher  at_home   \n",
       "1   17     1          2         0      3         4       U    other  at_home   \n",
       "2   15     1          2         3      2        10       U    other  at_home   \n",
       "3   15     4          3         0      2         2       U  Unknown   health   \n",
       "4   16     3          2         0      2         4       U    other    other   \n",
       "\n",
       "  schoolsup higher  score  \n",
       "0       yes    yes     30  \n",
       "1        no    yes     30  \n",
       "2       yes    yes     50  \n",
       "3        no    yes     75  \n",
       "4        no    yes     50  "
      ]
     },
     "execution_count": 18,
     "metadata": {},
     "output_type": "execute_result"
    }
   ],
   "source": [
    "df = df.loc[:, numeric_columns + numinative_columns + ['score']]\n",
    "df.head()"
   ]
  },
  {
   "cell_type": "markdown",
   "metadata": {},
   "source": [
    "# Выводы разведывательного анализа"
   ]
  },
  {
   "cell_type": "markdown",
   "metadata": {},
   "source": [
    "В данных присутствовали аномальные значения, а также значения с результатом в 0 баллов.\n",
    "В результате фильтрации произошло уменьшение выборки на 12.2%, что, в целом, допустимо.\n",
    "Аномальных значений не много: уменьшение выборки составило только 2.8%.\n",
    "\"Нулевиков\" существенно больше: уменьшение выборки составило ещё 9.6%.<br /><br />\n",
    "Все номинативные данные изначально удовлетворяют первоначальным условиям и содержат либо допустимые значения, либо 'Unknown', после замены пропусков.<br /><br />\n",
    "Самые важные параметры, которые предлагается использовать в дальнейшем для построения модели, это: age, Medu, studytime, failures, goout, absences, address, Fjob, Mjob, schoolsup, higher."
   ]
  }
 ],
 "metadata": {
  "hide_input": false,
  "kernelspec": {
   "display_name": "Python 3",
   "language": "python",
   "name": "python3"
  },
  "language_info": {
   "codemirror_mode": {
    "name": "ipython",
    "version": 3
   },
   "file_extension": ".py",
   "mimetype": "text/x-python",
   "name": "python",
   "nbconvert_exporter": "python",
   "pygments_lexer": "ipython3",
   "version": "3.6.5"
  },
  "toc": {
   "base_numbering": 1,
   "nav_menu": {},
   "number_sections": true,
   "sideBar": true,
   "skip_h1_title": false,
   "title_cell": "Table of Contents",
   "title_sidebar": "Contents",
   "toc_cell": false,
   "toc_position": {
    "height": "calc(100% - 180px)",
    "left": "10px",
    "top": "150px",
    "width": "192px"
   },
   "toc_section_display": true,
   "toc_window_display": true
  }
 },
 "nbformat": 4,
 "nbformat_minor": 2
}
