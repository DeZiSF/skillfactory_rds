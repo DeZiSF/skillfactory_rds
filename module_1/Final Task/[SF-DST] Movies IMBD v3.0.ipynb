{
 "cells": [
  {
   "cell_type": "code",
   "execution_count": 1,
   "metadata": {
    "_cell_guid": "b1076dfc-b9ad-4769-8c92-a6c4dae69d19",
    "_uuid": "8f2839f25d086af736a60e9eeb907d3b93b6e0e5"
   },
   "outputs": [],
   "source": [
    "import numpy as np\n",
    "import pandas as pd\n",
    "import seaborn as sns\n",
    "import matplotlib.pyplot as plt\n",
    "import os\n",
    "import collections\n",
    "import calendar"
   ]
  },
  {
   "cell_type": "code",
   "execution_count": 2,
   "metadata": {},
   "outputs": [
    {
     "data": {
      "text/html": [
       "<div>\n",
       "<style scoped>\n",
       "    .dataframe tbody tr th:only-of-type {\n",
       "        vertical-align: middle;\n",
       "    }\n",
       "\n",
       "    .dataframe tbody tr th {\n",
       "        vertical-align: top;\n",
       "    }\n",
       "\n",
       "    .dataframe thead th {\n",
       "        text-align: right;\n",
       "    }\n",
       "</style>\n",
       "<table border=\"1\" class=\"dataframe\">\n",
       "  <thead>\n",
       "    <tr style=\"text-align: right;\">\n",
       "      <th></th>\n",
       "      <th>imdb_id</th>\n",
       "      <th>popularity</th>\n",
       "      <th>budget</th>\n",
       "      <th>revenue</th>\n",
       "      <th>original_title</th>\n",
       "      <th>cast</th>\n",
       "      <th>director</th>\n",
       "      <th>tagline</th>\n",
       "      <th>overview</th>\n",
       "      <th>runtime</th>\n",
       "      <th>genres</th>\n",
       "      <th>production_companies</th>\n",
       "      <th>release_date</th>\n",
       "      <th>vote_count</th>\n",
       "      <th>vote_average</th>\n",
       "      <th>release_year</th>\n",
       "    </tr>\n",
       "  </thead>\n",
       "  <tbody>\n",
       "    <tr>\n",
       "      <th>0</th>\n",
       "      <td>tt0369610</td>\n",
       "      <td>32.985763</td>\n",
       "      <td>150000000</td>\n",
       "      <td>1513528810</td>\n",
       "      <td>Jurassic World</td>\n",
       "      <td>Chris Pratt|Bryce Dallas Howard|Irrfan Khan|Vi...</td>\n",
       "      <td>Colin Trevorrow</td>\n",
       "      <td>The park is open.</td>\n",
       "      <td>Twenty-two years after the events of Jurassic ...</td>\n",
       "      <td>124</td>\n",
       "      <td>Action|Adventure|Science Fiction|Thriller</td>\n",
       "      <td>Universal Studios|Amblin Entertainment|Legenda...</td>\n",
       "      <td>6/9/2015</td>\n",
       "      <td>5562</td>\n",
       "      <td>6.5</td>\n",
       "      <td>2015</td>\n",
       "    </tr>\n",
       "    <tr>\n",
       "      <th>1</th>\n",
       "      <td>tt1392190</td>\n",
       "      <td>28.419936</td>\n",
       "      <td>150000000</td>\n",
       "      <td>378436354</td>\n",
       "      <td>Mad Max: Fury Road</td>\n",
       "      <td>Tom Hardy|Charlize Theron|Hugh Keays-Byrne|Nic...</td>\n",
       "      <td>George Miller</td>\n",
       "      <td>What a Lovely Day.</td>\n",
       "      <td>An apocalyptic story set in the furthest reach...</td>\n",
       "      <td>120</td>\n",
       "      <td>Action|Adventure|Science Fiction|Thriller</td>\n",
       "      <td>Village Roadshow Pictures|Kennedy Miller Produ...</td>\n",
       "      <td>5/13/2015</td>\n",
       "      <td>6185</td>\n",
       "      <td>7.1</td>\n",
       "      <td>2015</td>\n",
       "    </tr>\n",
       "    <tr>\n",
       "      <th>2</th>\n",
       "      <td>tt2908446</td>\n",
       "      <td>13.112507</td>\n",
       "      <td>110000000</td>\n",
       "      <td>295238201</td>\n",
       "      <td>Insurgent</td>\n",
       "      <td>Shailene Woodley|Theo James|Kate Winslet|Ansel...</td>\n",
       "      <td>Robert Schwentke</td>\n",
       "      <td>One Choice Can Destroy You</td>\n",
       "      <td>Beatrice Prior must confront her inner demons ...</td>\n",
       "      <td>119</td>\n",
       "      <td>Adventure|Science Fiction|Thriller</td>\n",
       "      <td>Summit Entertainment|Mandeville Films|Red Wago...</td>\n",
       "      <td>3/18/2015</td>\n",
       "      <td>2480</td>\n",
       "      <td>6.3</td>\n",
       "      <td>2015</td>\n",
       "    </tr>\n",
       "    <tr>\n",
       "      <th>3</th>\n",
       "      <td>tt2488496</td>\n",
       "      <td>11.173104</td>\n",
       "      <td>200000000</td>\n",
       "      <td>2068178225</td>\n",
       "      <td>Star Wars: The Force Awakens</td>\n",
       "      <td>Harrison Ford|Mark Hamill|Carrie Fisher|Adam D...</td>\n",
       "      <td>J.J. Abrams</td>\n",
       "      <td>Every generation has a story.</td>\n",
       "      <td>Thirty years after defeating the Galactic Empi...</td>\n",
       "      <td>136</td>\n",
       "      <td>Action|Adventure|Science Fiction|Fantasy</td>\n",
       "      <td>Lucasfilm|Truenorth Productions|Bad Robot</td>\n",
       "      <td>12/15/2015</td>\n",
       "      <td>5292</td>\n",
       "      <td>7.5</td>\n",
       "      <td>2015</td>\n",
       "    </tr>\n",
       "    <tr>\n",
       "      <th>4</th>\n",
       "      <td>tt2820852</td>\n",
       "      <td>9.335014</td>\n",
       "      <td>190000000</td>\n",
       "      <td>1506249360</td>\n",
       "      <td>Furious 7</td>\n",
       "      <td>Vin Diesel|Paul Walker|Jason Statham|Michelle ...</td>\n",
       "      <td>James Wan</td>\n",
       "      <td>Vengeance Hits Home</td>\n",
       "      <td>Deckard Shaw seeks revenge against Dominic Tor...</td>\n",
       "      <td>137</td>\n",
       "      <td>Action|Crime|Thriller</td>\n",
       "      <td>Universal Pictures|Original Film|Media Rights ...</td>\n",
       "      <td>4/1/2015</td>\n",
       "      <td>2947</td>\n",
       "      <td>7.3</td>\n",
       "      <td>2015</td>\n",
       "    </tr>\n",
       "  </tbody>\n",
       "</table>\n",
       "</div>"
      ],
      "text/plain": [
       "     imdb_id  popularity     budget     revenue                original_title  \\\n",
       "0  tt0369610   32.985763  150000000  1513528810                Jurassic World   \n",
       "1  tt1392190   28.419936  150000000   378436354            Mad Max: Fury Road   \n",
       "2  tt2908446   13.112507  110000000   295238201                     Insurgent   \n",
       "3  tt2488496   11.173104  200000000  2068178225  Star Wars: The Force Awakens   \n",
       "4  tt2820852    9.335014  190000000  1506249360                     Furious 7   \n",
       "\n",
       "                                                cast          director  \\\n",
       "0  Chris Pratt|Bryce Dallas Howard|Irrfan Khan|Vi...   Colin Trevorrow   \n",
       "1  Tom Hardy|Charlize Theron|Hugh Keays-Byrne|Nic...     George Miller   \n",
       "2  Shailene Woodley|Theo James|Kate Winslet|Ansel...  Robert Schwentke   \n",
       "3  Harrison Ford|Mark Hamill|Carrie Fisher|Adam D...       J.J. Abrams   \n",
       "4  Vin Diesel|Paul Walker|Jason Statham|Michelle ...         James Wan   \n",
       "\n",
       "                         tagline  \\\n",
       "0              The park is open.   \n",
       "1             What a Lovely Day.   \n",
       "2     One Choice Can Destroy You   \n",
       "3  Every generation has a story.   \n",
       "4            Vengeance Hits Home   \n",
       "\n",
       "                                            overview  runtime  \\\n",
       "0  Twenty-two years after the events of Jurassic ...      124   \n",
       "1  An apocalyptic story set in the furthest reach...      120   \n",
       "2  Beatrice Prior must confront her inner demons ...      119   \n",
       "3  Thirty years after defeating the Galactic Empi...      136   \n",
       "4  Deckard Shaw seeks revenge against Dominic Tor...      137   \n",
       "\n",
       "                                      genres  \\\n",
       "0  Action|Adventure|Science Fiction|Thriller   \n",
       "1  Action|Adventure|Science Fiction|Thriller   \n",
       "2         Adventure|Science Fiction|Thriller   \n",
       "3   Action|Adventure|Science Fiction|Fantasy   \n",
       "4                      Action|Crime|Thriller   \n",
       "\n",
       "                                production_companies release_date  vote_count  \\\n",
       "0  Universal Studios|Amblin Entertainment|Legenda...     6/9/2015        5562   \n",
       "1  Village Roadshow Pictures|Kennedy Miller Produ...    5/13/2015        6185   \n",
       "2  Summit Entertainment|Mandeville Films|Red Wago...    3/18/2015        2480   \n",
       "3          Lucasfilm|Truenorth Productions|Bad Robot   12/15/2015        5292   \n",
       "4  Universal Pictures|Original Film|Media Rights ...     4/1/2015        2947   \n",
       "\n",
       "   vote_average  release_year  \n",
       "0           6.5          2015  \n",
       "1           7.1          2015  \n",
       "2           6.3          2015  \n",
       "3           7.5          2015  \n",
       "4           7.3          2015  "
      ]
     },
     "execution_count": 2,
     "metadata": {},
     "output_type": "execute_result"
    }
   ],
   "source": [
    "data = pd.read_csv('data.csv')\n",
    "data.head(5)"
   ]
  },
  {
   "cell_type": "code",
   "execution_count": 3,
   "metadata": {},
   "outputs": [
    {
     "data": {
      "text/plain": [
       "1890"
      ]
     },
     "execution_count": 3,
     "metadata": {},
     "output_type": "execute_result"
    }
   ],
   "source": [
    "len(data)"
   ]
  },
  {
   "cell_type": "markdown",
   "metadata": {},
   "source": [
    "# Предобработка датасета"
   ]
  },
  {
   "cell_type": "code",
   "execution_count": 4,
   "metadata": {},
   "outputs": [],
   "source": [
    "answer_ls = {} # создадим список с ответами. сюда будем добавлять ответы по мере прохождения теста\n",
    "# сюда можем вписать создание новых колонок в датасете"
   ]
  },
  {
   "cell_type": "markdown",
   "metadata": {},
   "source": [
    "# 1. У какого фильма из списка самый большой бюджет?\n",
    "Варианты ответов:\n",
    "1. The Dark Knight Rises (tt1345836)\n",
    "2. Spider-Man 3 (tt0413300)\n",
    "3. Avengers: Age of Ultron (tt2395427)\n",
    "4. The Warrior's Way\t(tt1032751)\n",
    "5. Pirates of the Caribbean: On Stranger Tides (tt1298650)"
   ]
  },
  {
   "cell_type": "code",
   "execution_count": 5,
   "metadata": {},
   "outputs": [
    {
     "data": {
      "text/html": [
       "<div>\n",
       "<style scoped>\n",
       "    .dataframe tbody tr th:only-of-type {\n",
       "        vertical-align: middle;\n",
       "    }\n",
       "\n",
       "    .dataframe tbody tr th {\n",
       "        vertical-align: top;\n",
       "    }\n",
       "\n",
       "    .dataframe thead th {\n",
       "        text-align: right;\n",
       "    }\n",
       "</style>\n",
       "<table border=\"1\" class=\"dataframe\">\n",
       "  <thead>\n",
       "    <tr style=\"text-align: right;\">\n",
       "      <th></th>\n",
       "      <th>imdb_id</th>\n",
       "      <th>original_title</th>\n",
       "    </tr>\n",
       "  </thead>\n",
       "  <tbody>\n",
       "    <tr>\n",
       "      <th>491</th>\n",
       "      <td>tt1032751</td>\n",
       "      <td>The Warrior's Way</td>\n",
       "    </tr>\n",
       "  </tbody>\n",
       "</table>\n",
       "</div>"
      ],
      "text/plain": [
       "       imdb_id     original_title\n",
       "491  tt1032751  The Warrior's Way"
      ]
     },
     "metadata": {},
     "output_type": "display_data"
    }
   ],
   "source": [
    "answer = data[data.budget == data.budget.max()][['imdb_id', 'original_title']]\n",
    "display(answer)\n",
    "\n",
    "answer_ls['1. У какого фильма из списка самый большой бюджет?'] = answer.values"
   ]
  },
  {
   "cell_type": "markdown",
   "metadata": {},
   "source": [
    "# 2. Какой из фильмов самый длительный (в минутах)\n",
    "1. The Lord of the Rings: The Return of the King\t(tt0167260)\n",
    "2. Gods and Generals\t(tt0279111)\n",
    "3. King Kong\t(tt0360717)\n",
    "4. Pearl Harbor\t(tt0213149)\n",
    "5. Alexander\t(tt0346491)"
   ]
  },
  {
   "cell_type": "code",
   "execution_count": 6,
   "metadata": {},
   "outputs": [
    {
     "data": {
      "text/html": [
       "<div>\n",
       "<style scoped>\n",
       "    .dataframe tbody tr th:only-of-type {\n",
       "        vertical-align: middle;\n",
       "    }\n",
       "\n",
       "    .dataframe tbody tr th {\n",
       "        vertical-align: top;\n",
       "    }\n",
       "\n",
       "    .dataframe thead th {\n",
       "        text-align: right;\n",
       "    }\n",
       "</style>\n",
       "<table border=\"1\" class=\"dataframe\">\n",
       "  <thead>\n",
       "    <tr style=\"text-align: right;\">\n",
       "      <th></th>\n",
       "      <th>imdb_id</th>\n",
       "      <th>original_title</th>\n",
       "    </tr>\n",
       "  </thead>\n",
       "  <tbody>\n",
       "    <tr>\n",
       "      <th>1158</th>\n",
       "      <td>tt0279111</td>\n",
       "      <td>Gods and Generals</td>\n",
       "    </tr>\n",
       "  </tbody>\n",
       "</table>\n",
       "</div>"
      ],
      "text/plain": [
       "        imdb_id     original_title\n",
       "1158  tt0279111  Gods and Generals"
      ]
     },
     "metadata": {},
     "output_type": "display_data"
    }
   ],
   "source": [
    "answer = data[data.runtime == data.runtime.max()][['imdb_id', 'original_title']]\n",
    "display(answer)\n",
    "\n",
    "answer_ls['2. Какой из фильмов самый длительный (в минутах)'] = answer.values"
   ]
  },
  {
   "cell_type": "markdown",
   "metadata": {},
   "source": [
    "# 3. Какой из фильмов самый короткий (в минутах)\n",
    "Варианты ответов:\n",
    "\n",
    "1. Home on the Range\ttt0299172\n",
    "2. The Jungle Book 2\ttt0283426\n",
    "3. Winnie the Pooh\ttt1449283\n",
    "4. Corpse Bride\ttt0121164\n",
    "5. Hoodwinked!\ttt0443536"
   ]
  },
  {
   "cell_type": "code",
   "execution_count": 7,
   "metadata": {},
   "outputs": [
    {
     "data": {
      "text/html": [
       "<div>\n",
       "<style scoped>\n",
       "    .dataframe tbody tr th:only-of-type {\n",
       "        vertical-align: middle;\n",
       "    }\n",
       "\n",
       "    .dataframe tbody tr th {\n",
       "        vertical-align: top;\n",
       "    }\n",
       "\n",
       "    .dataframe thead th {\n",
       "        text-align: right;\n",
       "    }\n",
       "</style>\n",
       "<table border=\"1\" class=\"dataframe\">\n",
       "  <thead>\n",
       "    <tr style=\"text-align: right;\">\n",
       "      <th></th>\n",
       "      <th>imdb_id</th>\n",
       "      <th>original_title</th>\n",
       "    </tr>\n",
       "  </thead>\n",
       "  <tbody>\n",
       "    <tr>\n",
       "      <th>769</th>\n",
       "      <td>tt1449283</td>\n",
       "      <td>Winnie the Pooh</td>\n",
       "    </tr>\n",
       "  </tbody>\n",
       "</table>\n",
       "</div>"
      ],
      "text/plain": [
       "       imdb_id   original_title\n",
       "769  tt1449283  Winnie the Pooh"
      ]
     },
     "metadata": {},
     "output_type": "display_data"
    }
   ],
   "source": [
    "answer = data[data.runtime == data.runtime.min()][['imdb_id', 'original_title']]\n",
    "display(answer)\n",
    "\n",
    "answer_ls['3. Какой из фильмов самый короткий (в минутах)'] = answer.values"
   ]
  },
  {
   "cell_type": "markdown",
   "metadata": {},
   "source": [
    "# 4. Средняя длительность фильма?\n",
    "\n",
    "Варианты ответов:\n",
    "1. 115\n",
    "2. 110\n",
    "3. 105\n",
    "4. 120\n",
    "5. 100\n"
   ]
  },
  {
   "cell_type": "code",
   "execution_count": 8,
   "metadata": {},
   "outputs": [
    {
     "data": {
      "text/plain": [
       "109"
      ]
     },
     "metadata": {},
     "output_type": "display_data"
    }
   ],
   "source": [
    "answer = int(data.runtime.mean())\n",
    "display(answer)\n",
    "\n",
    "answer_ls['4. Средняя длительность фильма?'] = answer"
   ]
  },
  {
   "cell_type": "markdown",
   "metadata": {},
   "source": [
    "# 5. Средняя длительность фильма по медиане?\n",
    "Варианты ответов:\n",
    "1. 106\n",
    "2. 112\n",
    "3. 101\n",
    "4. 120\n",
    "5. 115\n",
    "\n",
    "\n"
   ]
  },
  {
   "cell_type": "code",
   "execution_count": 9,
   "metadata": {},
   "outputs": [
    {
     "data": {
      "text/plain": [
       "106"
      ]
     },
     "metadata": {},
     "output_type": "display_data"
    }
   ],
   "source": [
    "answer = int(data.runtime.median())\n",
    "display(answer)\n",
    "\n",
    "answer_ls['5. Средняя длительность фильма по медиане?'] = answer"
   ]
  },
  {
   "cell_type": "markdown",
   "metadata": {},
   "source": [
    "# 6. Какой самый прибыльный фильм?\n",
    "Варианты ответов:\n",
    "1. The Avengers\ttt0848228\n",
    "2. Minions\ttt2293640\n",
    "3. Star Wars: The Force Awakens\ttt2488496\n",
    "4. Furious 7\ttt2820852\n",
    "5. Avatar\ttt0499549"
   ]
  },
  {
   "cell_type": "code",
   "execution_count": 10,
   "metadata": {},
   "outputs": [
    {
     "data": {
      "text/html": [
       "<div>\n",
       "<style scoped>\n",
       "    .dataframe tbody tr th:only-of-type {\n",
       "        vertical-align: middle;\n",
       "    }\n",
       "\n",
       "    .dataframe tbody tr th {\n",
       "        vertical-align: top;\n",
       "    }\n",
       "\n",
       "    .dataframe thead th {\n",
       "        text-align: right;\n",
       "    }\n",
       "</style>\n",
       "<table border=\"1\" class=\"dataframe\">\n",
       "  <thead>\n",
       "    <tr style=\"text-align: right;\">\n",
       "      <th></th>\n",
       "      <th>imdb_id</th>\n",
       "      <th>original_title</th>\n",
       "    </tr>\n",
       "  </thead>\n",
       "  <tbody>\n",
       "    <tr>\n",
       "      <th>239</th>\n",
       "      <td>tt0499549</td>\n",
       "      <td>Avatar</td>\n",
       "    </tr>\n",
       "  </tbody>\n",
       "</table>\n",
       "</div>"
      ],
      "text/plain": [
       "       imdb_id original_title\n",
       "239  tt0499549         Avatar"
      ]
     },
     "metadata": {},
     "output_type": "display_data"
    }
   ],
   "source": [
    "answer = data[(data.revenue - data.budget) == (data.revenue - data.budget).max()][['imdb_id', 'original_title']]\n",
    "display(answer)\n",
    "\n",
    "answer_ls['6. Какой самый прибыльный фильм?'] = answer.values"
   ]
  },
  {
   "cell_type": "markdown",
   "metadata": {},
   "source": [
    "# 7. Какой фильм самый убыточный?\n",
    "Варианты ответов:\n",
    "1. Supernova tt0134983\n",
    "2. The Warrior's Way tt1032751\n",
    "3. Flushed Away\ttt0424095\n",
    "4. The Adventures of Pluto Nash\ttt0180052\n",
    "5. The Lone Ranger\ttt1210819"
   ]
  },
  {
   "cell_type": "code",
   "execution_count": 11,
   "metadata": {},
   "outputs": [
    {
     "data": {
      "text/html": [
       "<div>\n",
       "<style scoped>\n",
       "    .dataframe tbody tr th:only-of-type {\n",
       "        vertical-align: middle;\n",
       "    }\n",
       "\n",
       "    .dataframe tbody tr th {\n",
       "        vertical-align: top;\n",
       "    }\n",
       "\n",
       "    .dataframe thead th {\n",
       "        text-align: right;\n",
       "    }\n",
       "</style>\n",
       "<table border=\"1\" class=\"dataframe\">\n",
       "  <thead>\n",
       "    <tr style=\"text-align: right;\">\n",
       "      <th></th>\n",
       "      <th>imdb_id</th>\n",
       "      <th>original_title</th>\n",
       "    </tr>\n",
       "  </thead>\n",
       "  <tbody>\n",
       "    <tr>\n",
       "      <th>491</th>\n",
       "      <td>tt1032751</td>\n",
       "      <td>The Warrior's Way</td>\n",
       "    </tr>\n",
       "  </tbody>\n",
       "</table>\n",
       "</div>"
      ],
      "text/plain": [
       "       imdb_id     original_title\n",
       "491  tt1032751  The Warrior's Way"
      ]
     },
     "metadata": {},
     "output_type": "display_data"
    }
   ],
   "source": [
    "answer = data[(data.revenue - data.budget) == (data.revenue - data.budget).min()][['imdb_id', 'original_title']]\n",
    "display(answer)\n",
    "\n",
    "answer_ls['7. Какой фильм самый убыточный?'] = answer.values"
   ]
  },
  {
   "cell_type": "markdown",
   "metadata": {},
   "source": [
    "# 8. Сколько всего фильмов в прибыли?\n",
    "Варианты ответов:\n",
    "1. 1478\n",
    "2. 1520\n",
    "3. 1241\n",
    "4. 1135\n",
    "5. 1398\n"
   ]
  },
  {
   "cell_type": "code",
   "execution_count": 12,
   "metadata": {},
   "outputs": [
    {
     "data": {
      "text/plain": [
       "1478"
      ]
     },
     "metadata": {},
     "output_type": "display_data"
    }
   ],
   "source": [
    "answer = data[data.revenue - data.budget  > 0].imdb_id.count()\n",
    "display(answer)\n",
    "\n",
    "answer_ls['8. Сколько всего фильмов в прибыли?'] = answer"
   ]
  },
  {
   "cell_type": "markdown",
   "metadata": {},
   "source": [
    "# 9. Самый прибыльный фильм в 2008 году?\n",
    "Варианты ответов:\n",
    "1. Madagascar: Escape 2 Africa\ttt0479952\n",
    "2. Iron Man\ttt0371746\n",
    "3. Kung Fu Panda\ttt0441773\n",
    "4. The Dark Knight\ttt0468569\n",
    "5. Mamma Mia!\ttt0795421"
   ]
  },
  {
   "cell_type": "code",
   "execution_count": 13,
   "metadata": {},
   "outputs": [
    {
     "data": {
      "text/html": [
       "<div>\n",
       "<style scoped>\n",
       "    .dataframe tbody tr th:only-of-type {\n",
       "        vertical-align: middle;\n",
       "    }\n",
       "\n",
       "    .dataframe tbody tr th {\n",
       "        vertical-align: top;\n",
       "    }\n",
       "\n",
       "    .dataframe thead th {\n",
       "        text-align: right;\n",
       "    }\n",
       "</style>\n",
       "<table border=\"1\" class=\"dataframe\">\n",
       "  <thead>\n",
       "    <tr style=\"text-align: right;\">\n",
       "      <th></th>\n",
       "      <th>imdb_id</th>\n",
       "      <th>original_title</th>\n",
       "    </tr>\n",
       "  </thead>\n",
       "  <tbody>\n",
       "    <tr>\n",
       "      <th>600</th>\n",
       "      <td>tt0468569</td>\n",
       "      <td>The Dark Knight</td>\n",
       "    </tr>\n",
       "  </tbody>\n",
       "</table>\n",
       "</div>"
      ],
      "text/plain": [
       "       imdb_id   original_title\n",
       "600  tt0468569  The Dark Knight"
      ]
     },
     "metadata": {},
     "output_type": "display_data"
    }
   ],
   "source": [
    "y2008 = data[data.release_year == 2008]\n",
    "answer = y2008[(y2008.revenue - y2008.budget) == (y2008.revenue - y2008.budget).max()][['imdb_id', 'original_title']]\n",
    "display(answer)\n",
    "\n",
    "answer_ls['9. Самый прибыльный фильм в 2008 году?'] = answer.values"
   ]
  },
  {
   "cell_type": "markdown",
   "metadata": {},
   "source": [
    "# 10. Самый убыточный фильм за период с 2012 по 2014 (включительно)?\n",
    "Варианты ответов:\n",
    "1. Winter's Tale\ttt1837709\n",
    "2. Stolen\ttt1656186\n",
    "3. Broken City\ttt1235522\n",
    "4. Upside Down\ttt1374992\n",
    "5. The Lone Ranger\ttt1210819\n"
   ]
  },
  {
   "cell_type": "code",
   "execution_count": 14,
   "metadata": {},
   "outputs": [
    {
     "data": {
      "text/html": [
       "<div>\n",
       "<style scoped>\n",
       "    .dataframe tbody tr th:only-of-type {\n",
       "        vertical-align: middle;\n",
       "    }\n",
       "\n",
       "    .dataframe tbody tr th {\n",
       "        vertical-align: top;\n",
       "    }\n",
       "\n",
       "    .dataframe thead th {\n",
       "        text-align: right;\n",
       "    }\n",
       "</style>\n",
       "<table border=\"1\" class=\"dataframe\">\n",
       "  <thead>\n",
       "    <tr style=\"text-align: right;\">\n",
       "      <th></th>\n",
       "      <th>imdb_id</th>\n",
       "      <th>original_title</th>\n",
       "    </tr>\n",
       "  </thead>\n",
       "  <tbody>\n",
       "    <tr>\n",
       "      <th>1246</th>\n",
       "      <td>tt1210819</td>\n",
       "      <td>The Lone Ranger</td>\n",
       "    </tr>\n",
       "  </tbody>\n",
       "</table>\n",
       "</div>"
      ],
      "text/plain": [
       "        imdb_id   original_title\n",
       "1246  tt1210819  The Lone Ranger"
      ]
     },
     "metadata": {},
     "output_type": "display_data"
    }
   ],
   "source": [
    "y20122014 = data[(data.release_year >= 2012) & (data.release_year <= 2014)]\n",
    "answer = y20122014[(y20122014.revenue - y20122014.budget) == (y20122014.revenue - y20122014.budget).min()][['imdb_id', 'original_title']]\n",
    "display(answer)\n",
    "\n",
    "answer_ls['10. Самый убыточный фильм за период с 2012 по 2014 (включительно)?'] = answer.values"
   ]
  },
  {
   "cell_type": "markdown",
   "metadata": {},
   "source": [
    "# 11. Какого жанра фильмов больше всего?\n",
    "Варианты ответов:\n",
    "1. Action\n",
    "2. Adventure\n",
    "3. Drama\n",
    "4. Comedy\n",
    "5. Thriller"
   ]
  },
  {
   "cell_type": "code",
   "execution_count": 15,
   "metadata": {},
   "outputs": [
    {
     "name": "stdout",
     "output_type": "stream",
     "text": [
      "('Drama', 782)\n"
     ]
    }
   ],
   "source": [
    "genres = []\n",
    "data.genres.apply(lambda g: [genres.append(x) for x in g.split('|')])\n",
    "answer = collections.Counter(genres).most_common()[0]\n",
    "print(answer)\n",
    "\n",
    "answer_ls['11. Какого жанра фильмов больше всего?'] = answer[0]"
   ]
  },
  {
   "cell_type": "markdown",
   "metadata": {},
   "source": [
    "# 12. Какого жанра среди прибыльных фильмов больше всего?\n",
    "Варианты ответов:\n",
    "1. Drama\n",
    "2. Comedy\n",
    "3. Action\n",
    "4. Thriller\n",
    "5. Adventure"
   ]
  },
  {
   "cell_type": "code",
   "execution_count": 16,
   "metadata": {},
   "outputs": [
    {
     "name": "stdout",
     "output_type": "stream",
     "text": [
      "('Drama', 560)\n"
     ]
    }
   ],
   "source": [
    "genres = []\n",
    "data[data.revenue - data.budget > 0].genres.apply(lambda g: [genres.append(x) for x in g.split('|')])\n",
    "answer = collections.Counter(genres).most_common()[0]\n",
    "print(answer)\n",
    "\n",
    "answer_ls['12. Какого жанра среди прибыльных фильмов больше всего?'] = answer[0]"
   ]
  },
  {
   "cell_type": "markdown",
   "metadata": {},
   "source": [
    "# 13. Кто из режиссеров снял больше всего фильмов?\n",
    "Варианты ответов:\n",
    "1. Steven Spielberg\n",
    "2. Ridley Scott \n",
    "3. Steven Soderbergh\n",
    "4. Christopher Nolan\n",
    "5. Clint Eastwood"
   ]
  },
  {
   "cell_type": "code",
   "execution_count": 17,
   "metadata": {},
   "outputs": [
    {
     "name": "stdout",
     "output_type": "stream",
     "text": [
      "('Steven Soderbergh', 13)\n"
     ]
    }
   ],
   "source": [
    "directors = []\n",
    "data.director.apply(lambda d: [directors.append(x) for x in d.split('|')])\n",
    "answer = collections.Counter(directors).most_common()[0]\n",
    "print(answer)\n",
    "\n",
    "answer_ls['13. Кто из режиссеров снял больше всего фильмов?'] = answer[0]"
   ]
  },
  {
   "cell_type": "markdown",
   "metadata": {},
   "source": [
    "# 14. Кто из режиссеров снял больше всего Прибыльных фильмов?\n",
    "Варианты ответов:\n",
    "1. Steven Soderbergh\n",
    "2. Clint Eastwood\n",
    "3. Steven Spielberg\n",
    "4. Ridley Scott\n",
    "5. Christopher Nolan"
   ]
  },
  {
   "cell_type": "code",
   "execution_count": 18,
   "metadata": {},
   "outputs": [
    {
     "name": "stdout",
     "output_type": "stream",
     "text": [
      "('Ridley Scott', 12)\n"
     ]
    }
   ],
   "source": [
    "directors = []\n",
    "data[data.revenue - data.budget > 0].director.apply(lambda d: [directors.append(x) for x in d.split('|')])\n",
    "answer = collections.Counter(directors).most_common()[0]\n",
    "print(answer)\n",
    "\n",
    "answer_ls['14. Кто из режиссеров снял больше всего Прибыльных фильмов?'] = answer[0]"
   ]
  },
  {
   "cell_type": "markdown",
   "metadata": {},
   "source": [
    "# 15. Кто из режиссеров принес больше всего прибыли?\n",
    "Варианты ответов:\n",
    "1. Steven Spielberg\n",
    "2. Christopher Nolan\n",
    "3. David Yates\n",
    "4. James Cameron\n",
    "5. Peter Jackson\n"
   ]
  },
  {
   "cell_type": "code",
   "execution_count": 19,
   "metadata": {},
   "outputs": [
    {
     "name": "stdout",
     "output_type": "stream",
     "text": [
      "('Peter Jackson', 5202593685)\n"
     ]
    }
   ],
   "source": [
    "income = collections.Counter()\n",
    "def calc_income(director, money):\n",
    "    income[director] += money\n",
    "    \n",
    "data.apply(lambda row: [calc_income(d, row.revenue - row.budget) for d in row.director.split('|')], axis = 1)\n",
    "answer = income.most_common()[0]\n",
    "print(answer)\n",
    "\n",
    "answer_ls['15. Кто из режиссеров принес больше всего прибыли?'] = answer[0]"
   ]
  },
  {
   "cell_type": "markdown",
   "metadata": {},
   "source": [
    "# 16. Какой актер принес больше всего прибыли?\n",
    "Варианты ответов:\n",
    "1. Emma Watson\n",
    "2. Johnny Depp\n",
    "3. Michelle Rodriguez\n",
    "4. Orlando Bloom\n",
    "5. Rupert Grint"
   ]
  },
  {
   "cell_type": "code",
   "execution_count": 20,
   "metadata": {},
   "outputs": [
    {
     "name": "stdout",
     "output_type": "stream",
     "text": [
      "('Emma Watson', 6666245597)\n"
     ]
    }
   ],
   "source": [
    "income = collections.Counter()\n",
    "def calc_income(cast, money):\n",
    "    income[cast] += money\n",
    "    \n",
    "data.apply(lambda row: [calc_income(c, row.revenue - row.budget) for c in row.cast.split('|')], axis = 1)\n",
    "answer = income.most_common()[0]\n",
    "print(answer)\n",
    "\n",
    "answer_ls['16. Какой актер принес больше всего прибыли?'] = answer[0]"
   ]
  },
  {
   "cell_type": "markdown",
   "metadata": {},
   "source": [
    "# 17. Какой актер принес меньше всего прибыли в 2012 году?\n",
    "Варианты ответов:\n",
    "1. Nicolas Cage\n",
    "2. Danny Huston\n",
    "3. Kirsten Dunst\n",
    "4. Jim Sturgess\n",
    "5. Sami Gayle"
   ]
  },
  {
   "cell_type": "code",
   "execution_count": 21,
   "metadata": {},
   "outputs": [
    {
     "name": "stdout",
     "output_type": "stream",
     "text": [
      "('Kirsten Dunst', -68109207)\n"
     ]
    }
   ],
   "source": [
    "income = collections.Counter()\n",
    "def calc_income(cast, money):\n",
    "    income[cast] += money\n",
    "    \n",
    "data[data.release_year == 2012].apply(lambda row: [calc_income(c, row.revenue - row.budget) for c in row.cast.split('|')], axis = 1)\n",
    "answer = income.most_common()[-1]\n",
    "print(answer)\n",
    "\n",
    "answer_ls['17. Какой актер принес меньше всего прибыли в 2012 году?'] = answer[0]"
   ]
  },
  {
   "cell_type": "markdown",
   "metadata": {},
   "source": [
    "# 18. Какой актер снялся в большем количестве высокобюджетных фильмов? (в фильмах где бюджет выше среднего по данной выборке)\n",
    "Варианты ответов:\n",
    "1. Tom Cruise\n",
    "2. Mark Wahlberg \n",
    "3. Matt Damon\n",
    "4. Angelina Jolie\n",
    "5. Adam Sandler"
   ]
  },
  {
   "cell_type": "code",
   "execution_count": 22,
   "metadata": {},
   "outputs": [
    {
     "name": "stdout",
     "output_type": "stream",
     "text": [
      "('Matt Damon', 18)\n"
     ]
    }
   ],
   "source": [
    "films = collections.Counter()\n",
    "def calc_films(cast):\n",
    "    films[cast] += 1\n",
    "    \n",
    "data[data.budget > data.budget.mean()].cast.apply(lambda cast: [calc_films(c) for c in cast.split('|')])\n",
    "answer = films.most_common()[0]\n",
    "print(answer)\n",
    "\n",
    "answer_ls['18. Какой актер снялся в большем количестве высокобюджетных фильмов?'] = answer[0]"
   ]
  },
  {
   "cell_type": "markdown",
   "metadata": {},
   "source": [
    "# 19. В фильмах какого жанра больше всего снимался Nicolas Cage?  \n",
    "Варианты ответа:\n",
    "1. Drama\n",
    "2. Action\n",
    "3. Thriller\n",
    "4. Adventure\n",
    "5. Crime"
   ]
  },
  {
   "cell_type": "code",
   "execution_count": 23,
   "metadata": {},
   "outputs": [
    {
     "name": "stdout",
     "output_type": "stream",
     "text": [
      "('Action', 17)\n"
     ]
    }
   ],
   "source": [
    "films = collections.Counter()\n",
    "def calc_films(genre):\n",
    "    films[genre] += 1\n",
    "    \n",
    "data[data.cast.str.contains('Nicolas Cage')].genres.apply(lambda genre: [calc_films(g) for g in genre.split('|')])\n",
    "answer = films.most_common()[0]\n",
    "print(answer)\n",
    "\n",
    "answer_ls['19. В фильмах какого жанра больше всего снимался Nicolas Cage?'] = answer[0]"
   ]
  },
  {
   "cell_type": "markdown",
   "metadata": {},
   "source": [
    "# 20. Какая студия сняла больше всего фильмов?\n",
    "Варианты ответа:\n",
    "1. Universal Pictures (Universal)\n",
    "2. Paramount Pictures\n",
    "3. Columbia Pictures\n",
    "4. Warner Bros\n",
    "5. Twentieth Century Fox Film Corporation"
   ]
  },
  {
   "cell_type": "code",
   "execution_count": 24,
   "metadata": {},
   "outputs": [
    {
     "name": "stdout",
     "output_type": "stream",
     "text": [
      "('Universal Pictures', 173)\n"
     ]
    }
   ],
   "source": [
    "companies = collections.Counter()\n",
    "def calc_films(c):\n",
    "    companies[c] += 1\n",
    "    \n",
    "data.production_companies.apply(lambda company: [calc_films(c) for c in company.split('|')])\n",
    "answer = companies.most_common()[0]\n",
    "print(answer)\n",
    "\n",
    "answer_ls['20. Какая студия сняла больше всего фильмов?'] = answer[0]"
   ]
  },
  {
   "cell_type": "markdown",
   "metadata": {},
   "source": [
    "# 21. Какая студия сняла больше всего фильмов в 2015 году?\n",
    "Варианты ответа:\n",
    "1. Universal Pictures\n",
    "2. Paramount Pictures\n",
    "3. Columbia Pictures\n",
    "4. Warner Bros\n",
    "5. Twentieth Century Fox Film Corporation"
   ]
  },
  {
   "cell_type": "code",
   "execution_count": 25,
   "metadata": {},
   "outputs": [
    {
     "name": "stdout",
     "output_type": "stream",
     "text": [
      "('Warner Bros.', 12)\n"
     ]
    }
   ],
   "source": [
    "companies = collections.Counter()\n",
    "def calc_films(c):\n",
    "    companies[c] += 1\n",
    "    \n",
    "data[data.release_year == 2015].production_companies.apply(lambda company: [calc_films(c) for c in company.split('|')])\n",
    "answer = companies.most_common()[0]\n",
    "print(answer)\n",
    "\n",
    "answer_ls['21. Какая студия сняла больше всего фильмов в 2015 году?'] = answer[0]"
   ]
  },
  {
   "cell_type": "markdown",
   "metadata": {},
   "source": [
    "# 22. Какая студия заработала больше всего денег в жанре комедий за все время?\n",
    "Варианты ответа:\n",
    "1. Warner Bros\n",
    "2. Universal Pictures (Universal)\n",
    "3. Columbia Pictures\n",
    "4. Paramount Pictures\n",
    "5. Walt Disney"
   ]
  },
  {
   "cell_type": "code",
   "execution_count": 227,
   "metadata": {},
   "outputs": [
    {
     "name": "stdout",
     "output_type": "stream",
     "text": [
      "('Universal Pictures', 8961545581)\n"
     ]
    }
   ],
   "source": [
    "income = collections.Counter()\n",
    "def calc_income(company, money):\n",
    "    income[company] += money\n",
    "    \n",
    "data[data.genres.str.contains('Comedy')].apply(lambda row: [calc_income(c, row.revenue - row.budget) for c in row.production_companies.split('|')], axis = 1)\n",
    "answer = income.most_common()[0]\n",
    "print(answer)\n",
    "\n",
    "answer_ls['22. Какая студия заработала больше всего денег в жанре комедий за все время?'] = answer[0]"
   ]
  },
  {
   "cell_type": "markdown",
   "metadata": {},
   "source": [
    "# 23. Какая студия заработала больше всего денег в 2012 году?\n",
    "Варианты ответа:\n",
    "1. Universal Pictures (Universal)\n",
    "2. Warner Bros\n",
    "3. Columbia Pictures\n",
    "4. Paramount Pictures\n",
    "5. Lucasfilm"
   ]
  },
  {
   "cell_type": "code",
   "execution_count": 27,
   "metadata": {},
   "outputs": [
    {
     "name": "stdout",
     "output_type": "stream",
     "text": [
      "('Columbia Pictures', 2501406608)\n"
     ]
    }
   ],
   "source": [
    "income = collections.Counter()\n",
    "def calc_income(company, money):\n",
    "    income[company] += money\n",
    "    \n",
    "data[data.release_year == 2012].apply(lambda row: [calc_income(c, row.revenue - row.budget) for c in row.production_companies.split('|')], axis = 1)\n",
    "answer = income.most_common()[0]\n",
    "print(answer)\n",
    "\n",
    "answer_ls['23. Какая студия заработала больше всего денег в 2012 году?'] = answer[0]"
   ]
  },
  {
   "cell_type": "markdown",
   "metadata": {},
   "source": [
    "# 24. Самый убыточный фильм от Paramount Pictures\n",
    "Варианты ответа:\n",
    "\n",
    "1. K-19: The Widowmaker tt0267626\n",
    "2. Next tt0435705\n",
    "3. Twisted tt0315297\n",
    "4. The Love Guru tt0811138\n",
    "5. The Fighter tt0964517"
   ]
  },
  {
   "cell_type": "code",
   "execution_count": 28,
   "metadata": {},
   "outputs": [
    {
     "name": "stdout",
     "output_type": "stream",
     "text": [
      "('K-19: The Widowmaker', -64831034)\n"
     ]
    }
   ],
   "source": [
    "income = collections.Counter()\n",
    "def calc_income(film, money):\n",
    "    income[film] += money\n",
    "    \n",
    "data[data.production_companies.str.contains('Paramount Pictures')].apply(lambda row: calc_income(row.original_title, row.revenue - row.budget), axis = 1)\n",
    "answer = income.most_common()[-1]\n",
    "print(answer)\n",
    "\n",
    "answer_ls['24. Самый убыточный фильм от Paramount Pictures'] = answer[0]"
   ]
  },
  {
   "cell_type": "markdown",
   "metadata": {},
   "source": [
    "# 25. Какой Самый прибыльный год (заработали больше всего)?\n",
    "Варианты ответа:\n",
    "1. 2014\n",
    "2. 2008\n",
    "3. 2012\n",
    "4. 2002\n",
    "5. 2015"
   ]
  },
  {
   "cell_type": "code",
   "execution_count": 229,
   "metadata": {},
   "outputs": [
    {
     "data": {
      "text/plain": [
       "2015"
      ]
     },
     "metadata": {},
     "output_type": "display_data"
    }
   ],
   "source": [
    "groupped = data.groupby(['release_year'])['revenue', 'budget'].sum().apply(lambda row: row.revenue - row.budget, axis = 1)\n",
    "answer = groupped[groupped == groupped.max()].index[0]\n",
    "display(answer)\n",
    "\n",
    "answer_ls['25. Какой Самый прибыльный год (заработали больше всего)?'] = answer"
   ]
  },
  {
   "cell_type": "markdown",
   "metadata": {},
   "source": [
    "# 26. Какой Самый прибыльный год для студии Warner Bros?\n",
    "Варианты ответа:\n",
    "1. 2014\n",
    "2. 2008\n",
    "3. 2012\n",
    "4. 2010\n",
    "5. 2015"
   ]
  },
  {
   "cell_type": "code",
   "execution_count": 231,
   "metadata": {},
   "outputs": [
    {
     "data": {
      "text/plain": [
       "2014"
      ]
     },
     "metadata": {},
     "output_type": "display_data"
    }
   ],
   "source": [
    "groupped = data[data.production_companies.str.contains('Warner Bros')].groupby(['release_year'])['revenue', 'budget'].sum().apply(lambda row: row.revenue - row.budget, axis = 1)\n",
    "answer = groupped[groupped == groupped.max()].index[0]\n",
    "display(answer)\n",
    "\n",
    "answer_ls['26. Какой Самый прибыльный год для студии Warner Bros?'] = answer"
   ]
  },
  {
   "cell_type": "markdown",
   "metadata": {},
   "source": [
    "# 27. В каком месяце за все годы суммарно вышло больше всего фильмов?\n",
    "Варианты ответа:\n",
    "1. Январь\n",
    "2. Июнь\n",
    "3. Декабрь\n",
    "4. Сентябрь\n",
    "5. Май"
   ]
  },
  {
   "cell_type": "code",
   "execution_count": 44,
   "metadata": {},
   "outputs": [
    {
     "data": {
      "text/plain": [
       "'September'"
      ]
     },
     "metadata": {},
     "output_type": "display_data"
    }
   ],
   "source": [
    "data['release_month'] = data['release_date'].apply(lambda d: d.split('/')[0])\n",
    "groupped = data.groupby(['release_month']).imdb_id.count()\n",
    "month_number =  groupped[groupped == groupped.max()].index[0]\n",
    "answer = calendar.month_name[int(month_number)] \n",
    "display(answer)\n",
    "\n",
    "answer_ls['27. В каком месяце за все годы суммарно вышло больше всего фильмов?'] = answer"
   ]
  },
  {
   "cell_type": "markdown",
   "metadata": {},
   "source": [
    "# 28. Сколько суммарно вышло фильмов летом? (за июнь, июль, август)\n",
    "Варианты ответа:\n",
    "1. 345\n",
    "2. 450\n",
    "3. 478\n",
    "4. 523\n",
    "5. 381"
   ]
  },
  {
   "cell_type": "code",
   "execution_count": 53,
   "metadata": {},
   "outputs": [
    {
     "data": {
      "text/plain": [
       "450"
      ]
     },
     "metadata": {},
     "output_type": "display_data"
    }
   ],
   "source": [
    "data['release_month'] = data['release_date'].apply(lambda d: d.split('/')[0])\n",
    "groupped = data.groupby(['release_month']).imdb_id.count()\n",
    "answer = groupped['6'] + groupped['7'] + groupped['8']\n",
    "display(answer)\n",
    "\n",
    "answer_ls['28. Сколько суммарно вышло фильмов летом? (за июнь, июль, август)'] = answer"
   ]
  },
  {
   "cell_type": "markdown",
   "metadata": {},
   "source": [
    "# 29. Какой режисер выпускает (суммарно по годам) больше всего фильмов зимой?\n",
    "Варианты ответов:\n",
    "1. Steven Soderbergh\n",
    "2. Christopher Nolan\n",
    "3. Clint Eastwood\n",
    "4. Ridley Scott\n",
    "5. Peter Jackson"
   ]
  },
  {
   "cell_type": "code",
   "execution_count": 59,
   "metadata": {},
   "outputs": [
    {
     "name": "stdout",
     "output_type": "stream",
     "text": [
      "('Peter Jackson', 8)\n"
     ]
    }
   ],
   "source": [
    "data['release_month'] = data['release_date'].apply(lambda d: d.split('/')[0])\n",
    "directors = []\n",
    "data.apply(lambda row: [directors.append(d) for d in row.director.split('|') if row.release_month in ['1', '11', '12']], axis = 1)\n",
    "answer = collections.Counter(directors).most_common()[0]\n",
    "print(answer)\n",
    "\n",
    "answer_ls['29. Какой режисер выпускает (суммарно по годам) больше всего фильмов зимой?'] = answer[0]"
   ]
  },
  {
   "cell_type": "markdown",
   "metadata": {},
   "source": [
    "# 30. Какой месяц чаще всего по годам самый прибыльный?\n",
    "Варианты ответа:\n",
    "1. Январь\n",
    "2. Июнь\n",
    "3. Декабрь\n",
    "4. Сентябрь\n",
    "5. Май"
   ]
  },
  {
   "cell_type": "code",
   "execution_count": 123,
   "metadata": {},
   "outputs": [
    {
     "name": "stdout",
     "output_type": "stream",
     "text": [
      "June\n"
     ]
    }
   ],
   "source": [
    "data['release_month'] = data['release_date'].apply(lambda d: d.split('/')[0])\n",
    "data['income'] = data.apply(lambda row: row.revenue - row.budget, axis = 1)\n",
    "\n",
    "year_groupped = data.groupby(['release_year', 'release_month']).income.sum().reset_index()\n",
    "year_max = year_groupped.groupby(['release_year']).income.max().reset_index()\n",
    "year_max.columns = ['release_year', 'max_income']\n",
    "\n",
    "year_groupped = year_groupped.merge(year_max, on = 'release_year', how = 'left')\n",
    "year_max = year_groupped[year_groupped.income == year_groupped.max_income]\n",
    "\n",
    "month_numbers = []\n",
    "year_max.release_month.apply(lambda m: month_numbers.append(m))\n",
    "\n",
    "best_month = collections.Counter(month_numbers).most_common()[0]\n",
    "answer = calendar.month_name[int(best_month[0])]\n",
    "print(answer)\n",
    "\n",
    "answer_ls['30. Какой месяц чаще всего по годам самый прибыльный?'] = answer"
   ]
  },
  {
   "cell_type": "markdown",
   "metadata": {},
   "source": [
    "# 31. Названия фильмов какой студии в среднем самые длинные по количеству символов?\n",
    "Варианты ответа:\n",
    "1. Universal Pictures (Universal)\n",
    "2. Warner Bros\n",
    "3. Jim Henson Company, The\n",
    "4. Paramount Pictures\n",
    "5. Four By Two Productions"
   ]
  },
  {
   "cell_type": "code",
   "execution_count": 137,
   "metadata": {},
   "outputs": [
    {
     "data": {
      "text/plain": [
       "'Four By Two Productions'"
      ]
     },
     "metadata": {},
     "output_type": "display_data"
    }
   ],
   "source": [
    "company = []\n",
    "film_id = []\n",
    "def add_company(c, f):\n",
    "    company.append(c)\n",
    "    film_id.append(f)\n",
    "    \n",
    "data.apply(lambda row: [add_company(c, row.imdb_id) for c in row.production_companies.split('|')], axis = 1)\n",
    "data['title_length'] = data.original_title.apply(lambda t: len(t))\n",
    "\n",
    "df_company = pd.DataFrame({'company': company, 'imdb_id': film_id})\n",
    "df_company = df_company.merge(data, on = 'imdb_id', how = 'left')\n",
    "\n",
    "groupped = df_company.groupby(['company']).title_length.mean().reset_index()\n",
    "answer = groupped[groupped.title_length == groupped.title_length.max()].iloc[0][0]\n",
    "display(answer)\n",
    "\n",
    "answer_ls['31. Названия фильмов какой студии в среднем самые длинные по количеству символов?'] = answer"
   ]
  },
  {
   "cell_type": "markdown",
   "metadata": {},
   "source": [
    "# 32. Названия фильмов какой студии в среднем самые длинные по количеству слов?\n",
    "Варианты ответа:\n",
    "1. Universal Pictures (Universal)\n",
    "2. Warner Bros\n",
    "3. Jim Henson Company, The\n",
    "4. Paramount Pictures\n",
    "5. Four By Two Productions"
   ]
  },
  {
   "cell_type": "code",
   "execution_count": 138,
   "metadata": {},
   "outputs": [
    {
     "data": {
      "text/plain": [
       "'Four By Two Productions'"
      ]
     },
     "metadata": {},
     "output_type": "display_data"
    }
   ],
   "source": [
    "company = []\n",
    "film_id = []\n",
    "def add_company(c, f):\n",
    "    company.append(c)\n",
    "    film_id.append(f)\n",
    "    \n",
    "data.apply(lambda row: [add_company(c, row.imdb_id) for c in row.production_companies.split('|')], axis = 1)\n",
    "data['title_length'] = data.original_title.apply(lambda t: len(t.split()))\n",
    "\n",
    "df_company = pd.DataFrame({'company': company, 'imdb_id': film_id})\n",
    "df_company = df_company.merge(data, on = 'imdb_id', how = 'left')\n",
    "\n",
    "groupped = df_company.groupby(['company']).title_length.mean().reset_index()\n",
    "answer = groupped[groupped.title_length == groupped.title_length.max()].iloc[0][0]\n",
    "display(answer)\n",
    "\n",
    "answer_ls['32. Названия фильмов какой студии в среднем самые длинные по количеству слов?'] = answer"
   ]
  },
  {
   "cell_type": "markdown",
   "metadata": {},
   "source": [
    "# 33. Сколько разных слов используется в названиях фильмов?(без учета регистра)\n",
    "Варианты ответа:\n",
    "1. 6540\n",
    "2. 1002\n",
    "3. 2461\n",
    "4. 28304\n",
    "5. 3432"
   ]
  },
  {
   "cell_type": "code",
   "execution_count": 150,
   "metadata": {},
   "outputs": [
    {
     "data": {
      "text/plain": [
       "2461"
      ]
     },
     "metadata": {},
     "output_type": "display_data"
    }
   ],
   "source": [
    "words = []\n",
    "data.original_title.apply(lambda t: [words.append(w.lower()) for w in t.split()])\n",
    "\n",
    "answer = len(collections.Counter(words).keys())\n",
    "display(answer)\n",
    "\n",
    "answer_ls['33. Сколько разных слов используется в названиях фильмов?(без учета регистра)'] = answer"
   ]
  },
  {
   "cell_type": "markdown",
   "metadata": {},
   "source": [
    "# 34. Какие фильмы входят в 1 процент лучших по рейтингу?\n",
    "Варианты ответа:\n",
    "1. Inside Out, Gone Girl, 12 Years a Slave\n",
    "2. BloodRayne, The Adventures of Rocky & Bullwinkle\n",
    "3. The Lord of the Rings: The Return of the King\n",
    "4. 300, Lucky Number Slevin"
   ]
  },
  {
   "cell_type": "code",
   "execution_count": 6,
   "metadata": {},
   "outputs": [
    {
     "data": {
      "text/html": [
       "<div>\n",
       "<style scoped>\n",
       "    .dataframe tbody tr th:only-of-type {\n",
       "        vertical-align: middle;\n",
       "    }\n",
       "\n",
       "    .dataframe tbody tr th {\n",
       "        vertical-align: top;\n",
       "    }\n",
       "\n",
       "    .dataframe thead th {\n",
       "        text-align: right;\n",
       "    }\n",
       "</style>\n",
       "<table border=\"1\" class=\"dataframe\">\n",
       "  <thead>\n",
       "    <tr style=\"text-align: right;\">\n",
       "      <th></th>\n",
       "      <th>original_title</th>\n",
       "      <th>vote_average</th>\n",
       "    </tr>\n",
       "  </thead>\n",
       "  <tbody>\n",
       "    <tr>\n",
       "      <th>600</th>\n",
       "      <td>The Dark Knight</td>\n",
       "      <td>8.1</td>\n",
       "    </tr>\n",
       "    <tr>\n",
       "      <th>125</th>\n",
       "      <td>The Imitation Game</td>\n",
       "      <td>8.0</td>\n",
       "    </tr>\n",
       "    <tr>\n",
       "      <th>9</th>\n",
       "      <td>Inside Out</td>\n",
       "      <td>8.0</td>\n",
       "    </tr>\n",
       "    <tr>\n",
       "      <th>118</th>\n",
       "      <td>Interstellar</td>\n",
       "      <td>8.0</td>\n",
       "    </tr>\n",
       "    <tr>\n",
       "      <th>34</th>\n",
       "      <td>Room</td>\n",
       "      <td>8.0</td>\n",
       "    </tr>\n",
       "    <tr>\n",
       "      <th>1082</th>\n",
       "      <td>The Lord of the Rings: The Return of the King</td>\n",
       "      <td>7.9</td>\n",
       "    </tr>\n",
       "    <tr>\n",
       "      <th>873</th>\n",
       "      <td>The Pianist</td>\n",
       "      <td>7.9</td>\n",
       "    </tr>\n",
       "    <tr>\n",
       "      <th>1801</th>\n",
       "      <td>Memento</td>\n",
       "      <td>7.9</td>\n",
       "    </tr>\n",
       "    <tr>\n",
       "      <th>1192</th>\n",
       "      <td>12 Years a Slave</td>\n",
       "      <td>7.9</td>\n",
       "    </tr>\n",
       "    <tr>\n",
       "      <th>128</th>\n",
       "      <td>Gone Girl</td>\n",
       "      <td>7.9</td>\n",
       "    </tr>\n",
       "    <tr>\n",
       "      <th>138</th>\n",
       "      <td>The Grand Budapest Hotel</td>\n",
       "      <td>7.9</td>\n",
       "    </tr>\n",
       "    <tr>\n",
       "      <th>119</th>\n",
       "      <td>Guardians of the Galaxy</td>\n",
       "      <td>7.9</td>\n",
       "    </tr>\n",
       "    <tr>\n",
       "      <th>1184</th>\n",
       "      <td>The Wolf of Wall Street</td>\n",
       "      <td>7.9</td>\n",
       "    </tr>\n",
       "    <tr>\n",
       "      <th>370</th>\n",
       "      <td>Inception</td>\n",
       "      <td>7.9</td>\n",
       "    </tr>\n",
       "    <tr>\n",
       "      <th>316</th>\n",
       "      <td>3 Idiots</td>\n",
       "      <td>7.8</td>\n",
       "    </tr>\n",
       "    <tr>\n",
       "      <th>1564</th>\n",
       "      <td>Eternal Sunshine of the Spotless Mind</td>\n",
       "      <td>7.8</td>\n",
       "    </tr>\n",
       "    <tr>\n",
       "      <th>497</th>\n",
       "      <td>The Lord of the Rings: The Fellowship of the Ring</td>\n",
       "      <td>7.8</td>\n",
       "    </tr>\n",
       "    <tr>\n",
       "      <th>28</th>\n",
       "      <td>Spotlight</td>\n",
       "      <td>7.8</td>\n",
       "    </tr>\n",
       "  </tbody>\n",
       "</table>\n",
       "</div>"
      ],
      "text/plain": [
       "                                         original_title  vote_average\n",
       "600                                     The Dark Knight           8.1\n",
       "125                                  The Imitation Game           8.0\n",
       "9                                            Inside Out           8.0\n",
       "118                                        Interstellar           8.0\n",
       "34                                                 Room           8.0\n",
       "1082      The Lord of the Rings: The Return of the King           7.9\n",
       "873                                         The Pianist           7.9\n",
       "1801                                            Memento           7.9\n",
       "1192                                   12 Years a Slave           7.9\n",
       "128                                           Gone Girl           7.9\n",
       "138                            The Grand Budapest Hotel           7.9\n",
       "119                             Guardians of the Galaxy           7.9\n",
       "1184                            The Wolf of Wall Street           7.9\n",
       "370                                           Inception           7.9\n",
       "316                                            3 Idiots           7.8\n",
       "1564              Eternal Sunshine of the Spotless Mind           7.8\n",
       "497   The Lord of the Rings: The Fellowship of the Ring           7.8\n",
       "28                                            Spotlight           7.8"
      ]
     },
     "metadata": {},
     "output_type": "display_data"
    },
    {
     "ename": "NameError",
     "evalue": "name 'answer_ls' is not defined",
     "output_type": "error",
     "traceback": [
      "\u001b[1;31m---------------------------------------------------------------------------\u001b[0m",
      "\u001b[1;31mNameError\u001b[0m                                 Traceback (most recent call last)",
      "\u001b[1;32m<ipython-input-6-b576af5cd6fa>\u001b[0m in \u001b[0;36m<module>\u001b[1;34m()\u001b[0m\n\u001b[0;32m      3\u001b[0m \u001b[0mdisplay\u001b[0m\u001b[1;33m(\u001b[0m\u001b[0mtitles\u001b[0m\u001b[1;33m)\u001b[0m\u001b[1;33m\u001b[0m\u001b[0m\n\u001b[0;32m      4\u001b[0m \u001b[1;33m\u001b[0m\u001b[0m\n\u001b[1;32m----> 5\u001b[1;33m \u001b[0manswer_ls\u001b[0m\u001b[1;33m[\u001b[0m\u001b[1;34m'34. Какие фильмы входят в 1 процент лучших по рейтингу?'\u001b[0m\u001b[1;33m]\u001b[0m \u001b[1;33m=\u001b[0m \u001b[1;34m'Inside Out, Gone Girl, 12 Years a Slave'\u001b[0m\u001b[1;33m\u001b[0m\u001b[0m\n\u001b[0m",
      "\u001b[1;31mNameError\u001b[0m: name 'answer_ls' is not defined"
     ]
    }
   ],
   "source": [
    "films_best = data.sort_values(by = 'vote_average', ascending = False).head(int(len(data) / 100))\n",
    "titles = films_best[['original_title', 'vote_average']]\n",
    "display(titles)\n",
    "\n",
    "answer_ls['34. Какие фильмы входят в 1 процент лучших по рейтингу?'] = 'Inside Out, Gone Girl, 12 Years a Slave'"
   ]
  },
  {
   "cell_type": "markdown",
   "metadata": {},
   "source": [
    "# 35. Какие актеры чаще всего снимаются в одном фильме вместе\n",
    "Варианты ответа:\n",
    "1. Johnny Depp & Helena Bonham Carter\n",
    "2. Hugh Jackman & Ian McKellen\n",
    "3. Vin Diesel & Paul Walker\n",
    "4. Adam Sandler & Kevin James\n",
    "5. Daniel Radcliffe & Rupert Grint"
   ]
  },
  {
   "cell_type": "code",
   "execution_count": 19,
   "metadata": {},
   "outputs": [
    {
     "data": {
      "text/plain": [
       "[(('Daniel Radcliffe', 'Emma Watson'), 8),\n",
       " (('Daniel Radcliffe', 'Rupert Grint'), 8),\n",
       " (('Emma Watson', 'Rupert Grint'), 8),\n",
       " (('Ben Stiller', 'Owen Wilson'), 6),\n",
       " (('Helena Bonham Carter', 'Johnny Depp'), 6),\n",
       " (('Paul Walker', 'Vin Diesel'), 5),\n",
       " (('Adam Sandler', 'Kevin James'), 5),\n",
       " (('Hugh Jackman', 'Ian McKellen'), 5),\n",
       " (('Kristen Stewart', 'Robert Pattinson'), 5),\n",
       " (('Kristen Stewart', 'Taylor Lautner'), 5),\n",
       " (('Robert Pattinson', 'Taylor Lautner'), 5),\n",
       " (('Chris Evans', 'Scarlett Johansson'), 4),\n",
       " (('Jennifer Lawrence', 'Josh Hutcherson'), 4),\n",
       " (('Jennifer Lawrence', 'Liam Hemsworth'), 4),\n",
       " (('Jennifer Lawrence', 'Woody Harrelson'), 4),\n",
       " (('Josh Hutcherson', 'Liam Hemsworth'), 4),\n",
       " (('Josh Hutcherson', 'Woody Harrelson'), 4),\n",
       " (('Liam Hemsworth', 'Woody Harrelson'), 4),\n",
       " (('Hugh Jackman', 'Patrick Stewart'), 4),\n",
       " (('Ian McKellen', 'Patrick Stewart'), 4),\n",
       " (('George Clooney', 'Matt Damon'), 4),\n",
       " (('Bradley Cooper', 'Justin Bartha'), 4),\n",
       " (('Betsy Russell', 'Costas Mandylor'), 4),\n",
       " (('Betsy Russell', 'Tobin Bell'), 4),\n",
       " (('Costas Mandylor', 'Tobin Bell'), 4),\n",
       " (('Jordana Brewster', 'Paul Walker'), 4),\n",
       " (('Jordana Brewster', 'Vin Diesel'), 4),\n",
       " (('Cameron Diaz', 'Eddie Murphy'), 4),\n",
       " (('Cameron Diaz', 'Mike Myers'), 4),\n",
       " (('Eddie Murphy', 'Mike Myers'), 4),\n",
       " (('Kristen Stewart', 'Peter Facinelli'), 4),\n",
       " (('Peter Facinelli', 'Robert Pattinson'), 4),\n",
       " (('Peter Facinelli', 'Taylor Lautner'), 4),\n",
       " (('Paul Rudd', 'Steve Carell'), 4),\n",
       " (('Brad Pitt', 'George Clooney'), 4),\n",
       " (('Brad Pitt', 'Julia Roberts'), 4),\n",
       " (('Halle Berry', 'Hugh Jackman'), 4),\n",
       " (('Christian Bale', 'Michael Caine'), 4),\n",
       " (('Dwayne Johnson', 'Paul Walker'), 3),\n",
       " (('Dwayne Johnson', 'Vin Diesel'), 3),\n",
       " (('Michelle Rodriguez', 'Paul Walker'), 3),\n",
       " (('Michelle Rodriguez', 'Vin Diesel'), 3),\n",
       " (('Mark Ruffalo', 'Robert Downey Jr.'), 3),\n",
       " (('Robert Downey Jr.', 'Scarlett Johansson'), 3),\n",
       " (('Famke Janssen', 'Liam Neeson'), 3),\n",
       " (('Famke Janssen', 'Maggie Grace'), 3),\n",
       " (('Liam Neeson', 'Maggie Grace'), 3),\n",
       " (('Elizabeth Banks', 'Jennifer Lawrence'), 3),\n",
       " (('Elizabeth Banks', 'Josh Hutcherson'), 3),\n",
       " (('Elizabeth Banks', 'Liam Hemsworth'), 3),\n",
       " (('Elizabeth Banks', 'Woody Harrelson'), 3),\n",
       " (('Tom Cruise', 'Ving Rhames'), 3),\n",
       " (('Giovanni Ribisi', 'Mark Wahlberg'), 3),\n",
       " (('Johnny Depp', 'Paul Bettany'), 3),\n",
       " (('Adam Sandler', 'Steve Buscemi'), 3),\n",
       " (('Ian McKellen', 'Martin Freeman'), 3),\n",
       " (('Ian McKellen', 'Richard Armitage'), 3),\n",
       " (('Martin Freeman', 'Richard Armitage'), 3),\n",
       " (('Ben Stiller', 'Robin Williams'), 3),\n",
       " (('Jason Bateman', 'Jennifer Aniston'), 3),\n",
       " (('James Franco', 'Seth Rogen'), 3),\n",
       " (('Jay Baruchel', 'Jonah Hill'), 3),\n",
       " (('Arnold Schwarzenegger', 'Sylvester Stallone'), 3),\n",
       " (('Jason Statham', 'Sylvester Stallone'), 3),\n",
       " (('Jennifer Connelly', 'Russell Crowe'), 3),\n",
       " (('Ashley Judd', 'Morgan Freeman'), 3),\n",
       " (('Bradley Cooper', 'Ed Helms'), 3),\n",
       " (('Bradley Cooper', 'Zach Galifianakis'), 3),\n",
       " (('Ed Helms', 'Justin Bartha'), 3),\n",
       " (('Ed Helms', 'Zach Galifianakis'), 3),\n",
       " (('Justin Bartha', 'Zach Galifianakis'), 3),\n",
       " (('Ashley Greene', 'Kristen Stewart'), 3),\n",
       " (('Ashley Greene', 'Robert Pattinson'), 3),\n",
       " (('Ashley Greene', 'Taylor Lautner'), 3),\n",
       " (('Paul Rudd', 'Seth Rogen'), 3),\n",
       " (('Bradley Cooper', 'Ken Jeong'), 3),\n",
       " (('David Cross', 'Jason Lee'), 3),\n",
       " (('David Cross', 'Justin Long'), 3),\n",
       " (('Jason Lee', 'Justin Long'), 3),\n",
       " (('Jason Segel', 'Paul Rudd'), 3),\n",
       " (('Josh Duhamel', 'Shia LaBeouf'), 3),\n",
       " (('Jonah Hill', 'Seth Rogen'), 3),\n",
       " (('Gwyneth Paltrow', 'Robert Downey Jr.'), 3),\n",
       " (('Daniel Radcliffe', 'Ralph Fiennes'), 3),\n",
       " (('Emma Watson', 'Ralph Fiennes'), 3),\n",
       " (('Ralph Fiennes', 'Rupert Grint'), 3),\n",
       " (('Georgie Henley', 'Skandar Keynes'), 3),\n",
       " (('Ben Stiller', 'Robert De Niro'), 3),\n",
       " (('Antonio Banderas', 'Cameron Diaz'), 3),\n",
       " (('Antonio Banderas', 'Eddie Murphy'), 3),\n",
       " (('Antonio Banderas', 'Julie Andrews'), 3),\n",
       " (('Antonio Banderas', 'Mike Myers'), 3),\n",
       " (('Cameron Diaz', 'Julie Andrews'), 3),\n",
       " (('Eddie Murphy', 'Julie Andrews'), 3),\n",
       " (('Julie Andrews', 'Mike Myers'), 3),\n",
       " (('Emily Blunt', 'Jason Segel'), 3),\n",
       " (('Rachael Harris', 'Steve Zahn'), 3),\n",
       " (('Rachael Harris', 'Zachary Gordon'), 3),\n",
       " (('Steve Zahn', 'Zachary Gordon'), 3),\n",
       " (('Elijah Wood', 'Ian McKellen'), 3),\n",
       " (('Elijah Wood', 'Liv Tyler'), 3),\n",
       " (('Elijah Wood', 'Orlando Bloom'), 3),\n",
       " (('Elijah Wood', 'Viggo Mortensen'), 3),\n",
       " (('Ian McKellen', 'Liv Tyler'), 3),\n",
       " (('Ian McKellen', 'Orlando Bloom'), 3),\n",
       " (('Ian McKellen', 'Viggo Mortensen'), 3),\n",
       " (('Liv Tyler', 'Orlando Bloom'), 3),\n",
       " (('Liv Tyler', 'Viggo Mortensen'), 3),\n",
       " (('Orlando Bloom', 'Viggo Mortensen'), 3),\n",
       " (('Jason Biggs', 'Seann William Scott'), 3),\n",
       " (('Jason Biggs', 'Thomas Ian Nicholas'), 3),\n",
       " (('Seann William Scott', 'Thomas Ian Nicholas'), 3),\n",
       " (('Marlon Wayans', 'Shawn Wayans'), 3),\n",
       " (('Alexa PenaVega', 'Antonio Banderas'), 3),\n",
       " (('Alexa PenaVega', 'Carla Gugino'), 3),\n",
       " (('Alexa PenaVega', 'Daryl Sabara'), 3),\n",
       " (('Antonio Banderas', 'Carla Gugino'), 3),\n",
       " (('Antonio Banderas', 'Daryl Sabara'), 3),\n",
       " (('Carla Gugino', 'Daryl Sabara'), 3),\n",
       " (('Christian Bale', 'Gary Oldman'), 3),\n",
       " (('Gary Oldman', 'Michael Caine'), 3),\n",
       " (('Daniel Craig', 'Judi Dench'), 3),\n",
       " (('Angelina Jolie', 'Jack Black'), 3),\n",
       " (('Ben Stiller', 'Chris Rock'), 3),\n",
       " (('Ben Stiller', 'David Schwimmer'), 3),\n",
       " (('Chris Rock', 'David Schwimmer'), 3),\n",
       " (('John Hurt', 'Ron Perlman'), 3),\n",
       " (('Hayden Christensen', 'Samuel L. Jackson'), 3),\n",
       " (('FranÃ§ois BerlÃ©and', 'Jason Statham'), 3),\n",
       " (('Danny McBride', 'James Franco'), 3),\n",
       " (('John Cho', 'Kal Penn'), 3),\n",
       " (('John Cho', 'Neil Patrick Harris'), 3),\n",
       " (('Kal Penn', 'Neil Patrick Harris'), 3),\n",
       " (('Amy Adams', 'Philip Seymour Hoffman'), 3),\n",
       " (('Geoffrey Rush', 'Johnny Depp'), 3),\n",
       " (('Bill Nighy', 'Johnny Depp'), 3),\n",
       " (('Jude Law', 'Kate Winslet'), 3),\n",
       " (('Denis Leary', 'John Leguizamo'), 3),\n",
       " (('Denis Leary', 'Ray Romano'), 3),\n",
       " (('John Leguizamo', 'Ray Romano'), 3),\n",
       " (('James Franco', 'Kirsten Dunst'), 3),\n",
       " (('James Franco', 'Tobey Maguire'), 3),\n",
       " (('Kirsten Dunst', 'Tobey Maguire'), 3),\n",
       " (('Spencer Breslin', 'Tim Allen'), 3),\n",
       " (('Denzel Washington', 'Kimberly Elise'), 3),\n",
       " (('Ice Cube', 'Mike Epps'), 3),\n",
       " (('Johnny Depp', 'Keira Knightley'), 3),\n",
       " (('Johnny Depp', 'Orlando Bloom'), 3),\n",
       " (('Keira Knightley', 'Orlando Bloom'), 3),\n",
       " (('Famke Janssen', 'Halle Berry'), 3),\n",
       " (('Famke Janssen', 'Hugh Jackman'), 3),\n",
       " (('Famke Janssen', 'Ian McKellen'), 3),\n",
       " (('Famke Janssen', 'Patrick Stewart'), 3),\n",
       " (('Halle Berry', 'Ian McKellen'), 3),\n",
       " (('Halle Berry', 'Patrick Stewart'), 3),\n",
       " (('Owen Wilson', 'Vince Vaughn'), 3),\n",
       " (('Bruce Willis', 'Kevin Pollak'), 3),\n",
       " (('Ansel Elgort', 'Shailene Woodley'), 2),\n",
       " (('Kate Winslet', 'Miles Teller'), 2),\n",
       " (('Kate Winslet', 'Shailene Woodley'), 2),\n",
       " (('Kate Winslet', 'Theo James'), 2),\n",
       " (('Miles Teller', 'Shailene Woodley'), 2),\n",
       " (('Miles Teller', 'Theo James'), 2),\n",
       " (('Shailene Woodley', 'Theo James'), 2),\n",
       " (('Leonardo DiCaprio', 'Tom Hardy'), 2),\n",
       " (('Daniel Craig', 'Ralph Fiennes'), 2),\n",
       " (('Chris Evans', 'Chris Hemsworth'), 2),\n",
       " (('Chris Evans', 'Mark Ruffalo'), 2),\n",
       " (('Chris Evans', 'Robert Downey Jr.'), 2),\n",
       " (('Chris Hemsworth', 'Mark Ruffalo'), 2),\n",
       " (('Chris Hemsworth', 'Robert Downey Jr.'), 2),\n",
       " (('Chris Hemsworth', 'Scarlett Johansson'), 2),\n",
       " (('Mark Ruffalo', 'Scarlett Johansson'), 2),\n",
       " (('Carla Gugino', 'Dwayne Johnson'), 2),\n",
       " (('Christian Bale', 'Melissa Leo'), 2),\n",
       " (('Ryan Gosling', 'Steve Carell'), 2),\n",
       " (('Jeremy Renner', 'Simon Pegg'), 2),\n",
       " (('Jeremy Renner', 'Tom Cruise'), 2),\n",
       " (('Simon Pegg', 'Tom Cruise'), 2),\n",
       " (('Giovanni Ribisi', 'Seth MacFarlane'), 2),\n",
       " (('Mark Wahlberg', 'Seth MacFarlane'), 2),\n",
       " ((\"Dylan O'Brien\", 'Kaya Scodelario'), 2),\n",
       " (('Anna Kendrick', 'Brittany Snow'), 2),\n",
       " (('Anna Kendrick', 'Rebel Wilson'), 2),\n",
       " (('Anna Kendrick', 'Skylar Astin'), 2),\n",
       " (('Brittany Snow', 'Rebel Wilson'), 2),\n",
       " (('Brittany Snow', 'Skylar Astin'), 2),\n",
       " (('Rebel Wilson', 'Skylar Astin'), 2),\n",
       " (('Boyd Holbrook', 'Liam Neeson'), 2),\n",
       " (('Jim Parsons', 'Steve Martin'), 2),\n",
       " (('Rene Russo', 'Robert De Niro'), 2),\n",
       " (('Delroy Lindo', 'Edgar RamÃ\\xadrez'), 2),\n",
       " (('Bradley Cooper', 'Sienna Miller'), 2),\n",
       " (('Michael B. Jordan', 'Miles Teller'), 2),\n",
       " (('Bobby Cannavale', 'Rose Byrne'), 2),\n",
       " (('Ben Whishaw', 'Brendan Gleeson'), 2),\n",
       " (('Amanda Seyfried', 'Hugh Jackman'), 2),\n",
       " (('Joseph Gordon-Levitt', 'Seth Rogen'), 2),\n",
       " (('Lizzy Caplan', 'Seth Rogen'), 2),\n",
       " (('Adam Sandler', 'Andy Samberg'), 2),\n",
       " (('Adam Sandler', 'Selena Gomez'), 2),\n",
       " (('Kevin James', 'Selena Gomez'), 2),\n",
       " (('Kevin James', 'Steve Buscemi'), 2),\n",
       " (('Selena Gomez', 'Steve Buscemi'), 2),\n",
       " (('Alan Arkin', 'John Goodman'), 2),\n",
       " (('Gary Oldman', 'Joel Kinnaman'), 2),\n",
       " (('Gary Oldman', 'Tom Hardy'), 2),\n",
       " (('Mark Wahlberg', 'Will Ferrell'), 2),\n",
       " (('Kevin James', 'Raini Rodriguez'), 2),\n",
       " (('Amy Poehler', 'Tina Fey'), 2),\n",
       " (('Jessica Chastain', 'Mia Wasikowska'), 2),\n",
       " (('Bill Fagerbakke', 'Carolyn Lawrence'), 2),\n",
       " (('Bill Fagerbakke', 'Clancy Brown'), 2),\n",
       " (('Bill Fagerbakke', 'Rodger Bumpass'), 2),\n",
       " (('Bill Fagerbakke', 'Tom Kenny'), 2),\n",
       " (('Carolyn Lawrence', 'Clancy Brown'), 2),\n",
       " (('Carolyn Lawrence', 'Rodger Bumpass'), 2),\n",
       " (('Carolyn Lawrence', 'Tom Kenny'), 2),\n",
       " (('Clancy Brown', 'Rodger Bumpass'), 2),\n",
       " (('Clancy Brown', 'Tom Kenny'), 2),\n",
       " (('Rodger Bumpass', 'Tom Kenny'), 2),\n",
       " (('Morris Chestnut', 'Sanaa Lathan'), 2),\n",
       " (('Bill Murray', 'Bruce Willis'), 2),\n",
       " (('Anne Hathaway', 'Michael Caine'), 2),\n",
       " (('Bradley Cooper', 'Zoe Saldana'), 2),\n",
       " (('Chris Evans', 'Sebastian Stan'), 2),\n",
       " (('Samuel L. Jackson', 'Scarlett Johansson'), 2),\n",
       " (('Graham McTavish', 'Ian McKellen'), 2),\n",
       " (('Graham McTavish', 'Ken Stott'), 2),\n",
       " (('Graham McTavish', 'Martin Freeman'), 2),\n",
       " (('Graham McTavish', 'Richard Armitage'), 2),\n",
       " (('Ian McKellen', 'Ken Stott'), 2),\n",
       " (('Ken Stott', 'Martin Freeman'), 2),\n",
       " (('Ken Stott', 'Richard Armitage'), 2),\n",
       " (('Owen Wilson', 'Robin Williams'), 2),\n",
       " (('James McAvoy', 'Michael Fassbender'), 2),\n",
       " (('James McAvoy', 'Patrick Stewart'), 2),\n",
       " (('Megan Fox', 'Will Arnett'), 2),\n",
       " (('Cameron Diaz', 'Jason Segel'), 2),\n",
       " (('Mark Wahlberg', 'Stanley Tucci'), 2),\n",
       " (('Andy Serkis', 'Judy Greer'), 2),\n",
       " (('Charlie Day', 'Jason Bateman'), 2),\n",
       " (('Charlie Day', 'Jason Sudeikis'), 2),\n",
       " (('Charlie Day', 'Jennifer Aniston'), 2),\n",
       " (('Jason Bateman', 'Jason Sudeikis'), 2),\n",
       " (('Jason Sudeikis', 'Jennifer Aniston'), 2),\n",
       " (('Andrew Garfield', 'Emma Stone'), 2),\n",
       " (('James Franco', 'Lizzy Caplan'), 2),\n",
       " (('Gerard Butler', 'Jay Baruchel'), 2),\n",
       " (('Gerard Butler', 'Jonah Hill'), 2),\n",
       " (('Arnold Schwarzenegger', 'Jason Statham'), 2),\n",
       " (('Emily Blunt', 'Meryl Streep'), 2),\n",
       " (('David Wenham', 'Lena Headey'), 2),\n",
       " (('Channing Tatum', 'Dave Franco'), 2),\n",
       " (('Channing Tatum', 'Jonah Hill'), 2),\n",
       " (('Dave Franco', 'Jonah Hill'), 2),\n",
       " (('Ben Whishaw', 'Michael Gambon'), 2),\n",
       " (('Emma Watson', 'Logan Lerman'), 2),\n",
       " (('Logan Lerman', 'Russell Crowe'), 2),\n",
       " (('Adam Sandler', 'Drew Barrymore'), 2),\n",
       " (('Dave Franco', 'Zac Efron'), 2),\n",
       " (('Ryan Guzman', 'Stephen Boss'), 2),\n",
       " (('Joaquin Phoenix', 'Reese Witherspoon'), 2),\n",
       " (('Owen Wilson', 'Reese Witherspoon'), 2),\n",
       " (('Julianne Moore', 'Liam Neeson'), 2),\n",
       " (('Jessica Alba', 'Josh Brolin'), 2),\n",
       " (('Jessica Alba', 'Rosario Dawson'), 2),\n",
       " (('Anne Hathaway', 'Jesse Eisenberg'), 2),\n",
       " (('Anne Hathaway', 'Leslie Mann'), 2),\n",
       " (('Jesse Eisenberg', 'Leslie Mann'), 2),\n",
       " (('Bill Murray', 'Cate Blanchett'), 2),\n",
       " (('Bill Murray', 'George Clooney'), 2),\n",
       " (('Cate Blanchett', 'George Clooney'), 2),\n",
       " (('George Clooney', 'John Goodman'), 2),\n",
       " (('Carrie-Anne Moss', 'Kit Harington'), 2),\n",
       " (('Channing Tatum', 'Sienna Miller'), 2),\n",
       " (('Imogen Poots', 'Zac Efron'), 2),\n",
       " (('Kevin Hart', 'Michael Ealy'), 2),\n",
       " (('Kevin Hart', 'Regina Hall'), 2),\n",
       " (('Michael Ealy', 'Regina Hall'), 2),\n",
       " (('Ashley Judd', 'Harry Connick Jr.'), 2),\n",
       " (('Ashley Judd', 'Nathan Gamble'), 2),\n",
       " (('Harry Connick Jr.', 'Morgan Freeman'), 2),\n",
       " (('Harry Connick Jr.', 'Nathan Gamble'), 2),\n",
       " (('Morgan Freeman', 'Nathan Gamble'), 2),\n",
       " (('Bill Nighy', 'Michael Sheen'), 2),\n",
       " (('Bill Nighy', 'Shane Brolly'), 2),\n",
       " (('Michael Sheen', 'Shane Brolly'), 2),\n",
       " (('Chris Pine', 'Zachary Quinto'), 2),\n",
       " (('Jude Law', 'Robert Downey Jr.'), 2),\n",
       " (('Amanda Peet', 'John Cusack'), 2),\n",
       " (('Christopher Plummer', 'Jennifer Connelly'), 2),\n",
       " (('Jennifer Connelly', 'John C. Reilly'), 2),\n",
       " (('Jesse Eisenberg', 'Woody Harrelson'), 2),\n",
       " (('Billy Burke', 'Kristen Stewart'), 2),\n",
       " (('Billy Burke', 'Robert Pattinson'), 2),\n",
       " (('Billy Burke', 'Taylor Lautner'), 2),\n",
       " (('Anna Faris', 'Bill Hader'), 2),\n",
       " (('Anna Faris', 'James Caan'), 2),\n",
       " (('Bill Hader', 'James Caan'), 2),\n",
       " (('Stanley Tucci', 'Susan Sarandon'), 2),\n",
       " (('Amy Smart', 'Dwight Yoakam'), 2),\n",
       " (('Amy Smart', 'Efren Ramirez'), 2),\n",
       " (('Amy Smart', 'Jason Statham'), 2),\n",
       " (('Dwight Yoakam', 'Efren Ramirez'), 2),\n",
       " (('Dwight Yoakam', 'Jason Statham'), 2),\n",
       " (('Efren Ramirez', 'Jason Statham'), 2),\n",
       " (('Jason Bateman', 'Jon Favreau'), 2),\n",
       " (('Jon Favreau', 'Vince Vaughn'), 2),\n",
       " (('Charlize Theron', 'Guy Pearce'), 2),\n",
       " (('Paul Rudd', 'Reese Witherspoon'), 2),\n",
       " (('Amy Adams', 'Meryl Streep'), 2),\n",
       " (('Meryl Streep', 'Stanley Tucci'), 2),\n",
       " (('Billy Crudup', 'Marion Cotillard'), 2),\n",
       " (('Giovanni Ribisi', 'Johnny Depp'), 2),\n",
       " (('Ben Affleck', 'Jason Bateman'), 2),\n",
       " (('Matt Damon', 'Scott Bakula'), 2),\n",
       " (('Emma Thompson', 'Rhys Ifans'), 2),\n",
       " (('Betsy Russell', 'Mark Rolston'), 2),\n",
       " (('Costas Mandylor', 'Mark Rolston'), 2),\n",
       " (('Mark Rolston', 'Tobin Bell'), 2),\n",
       " (('Josh Duhamel', 'Megan Fox'), 2),\n",
       " (('Josh Duhamel', 'Tyrese Gibson'), 2),\n",
       " (('Megan Fox', 'Shia LaBeouf'), 2),\n",
       " (('Megan Fox', 'Tyrese Gibson'), 2),\n",
       " (('Shia LaBeouf', 'Tyrese Gibson'), 2),\n",
       " (('Jeff Bridges', 'Kevin Spacey'), 2),\n",
       " (('Dwayne Johnson', 'Seann William Scott'), 2),\n",
       " (('Justin Long', 'Matt Dillon'), 2),\n",
       " (('Eva Mendes', 'Nicolas Cage'), 2),\n",
       " (('Leslie Mann', 'Seth Rogen'), 2),\n",
       " (('Armin Mueller-Stahl', 'Naomi Watts'), 2),\n",
       " (('Jordana Brewster', 'Michelle Rodriguez'), 2),\n",
       " (('Brad Dourif', 'Scout Taylor-Compton'), 2),\n",
       " (('Brad Dourif', 'Tyler Mane'), 2),\n",
       " (('Scout Taylor-Compton', 'Tyler Mane'), 2),\n",
       " (('Clive Owen', 'Julia Roberts'), 2),\n",
       " (('Clive Owen', 'Paul Giamatti'), 2),\n",
       " (('Julia Roberts', 'Paul Giamatti'), 2),\n",
       " (('Jason Bateman', 'Kristen Wiig'), 2),\n",
       " (('Jamie Foxx', 'Robert Downey Jr.'), 2),\n",
       " (('Emily Mortimer', 'Michael Caine'), 2),\n",
       " (('Danny Huston', 'Lynn Collins'), 2),\n",
       " (('Don Cheadle', 'Gwyneth Paltrow'), 2),\n",
       " (('Don Cheadle', 'Robert Downey Jr.'), 2),\n",
       " (('Helena Bonham Carter', 'Ralph Fiennes'), 2),\n",
       " (('Jason Segel', 'Russell Brand'), 2),\n",
       " (('Russell Brand', 'Steve Carell'), 2),\n",
       " (('Steve Carell', 'Will Arnett'), 2),\n",
       " (('Dolph Lundgren', 'Jason Statham'), 2),\n",
       " (('Dolph Lundgren', 'Sylvester Stallone'), 2),\n",
       " (('Mark Strong', 'Russell Crowe'), 2),\n",
       " (('Liam Neeson', 'Ralph Fiennes'), 2),\n",
       " (('Liam Neeson', 'Sam Worthington'), 2),\n",
       " (('Ralph Fiennes', 'Sam Worthington'), 2),\n",
       " (('Barbra Streisand', 'Ben Stiller'), 2),\n",
       " (('Barbra Streisand', 'Dustin Hoffman'), 2),\n",
       " (('Barbra Streisand', 'Robert De Niro'), 2),\n",
       " (('Ben Stiller', 'Dustin Hoffman'), 2),\n",
       " (('Dustin Hoffman', 'Robert De Niro'), 2),\n",
       " (('Owen Wilson', 'Robert De Niro'), 2),\n",
       " (('Alexandra Daddario', 'Brandon T. Jackson'), 2),\n",
       " (('Alexandra Daddario', 'Logan Lerman'), 2),\n",
       " (('Brandon T. Jackson', 'Logan Lerman'), 2),\n",
       " (('Channing Tatum', 'Richard Jenkins'), 2),\n",
       " (('Bradley Cooper', 'Jessica Biel'), 2),\n",
       " (('Danny Trejo', 'Michelle Rodriguez'), 2),\n",
       " (('Adam Sandler', 'Salma Hayek'), 2),\n",
       " (('Ashley Greene', 'Peter Facinelli'), 2),\n",
       " (('Brad Pitt', 'Jonah Hill'), 2),\n",
       " (('Dwayne Johnson', 'Mark Wahlberg'), 2),\n",
       " (('Eva Mendes', 'Mark Wahlberg'), 2),\n",
       " (('Eva Mendes', 'Samuel L. Jackson'), 2),\n",
       " (('Helena Bonham Carter', 'Timothy Spall'), 2),\n",
       " (('Anne Hathaway', 'Jake Gyllenhaal'), 2),\n",
       " (('Cameron Diaz', 'Tom Cruise'), 2),\n",
       " (('Greg Kinnear', 'Matt Damon'), 2),\n",
       " (('Amanda Peet', 'Jack Black'), 2),\n",
       " (('Amy Adams', 'Christian Bale'), 2),\n",
       " (('Ashton Kutcher', 'Katherine Heigl'), 2),\n",
       " (('Chris Noth', 'Cynthia Nixon'), 2),\n",
       " (('Chris Noth', 'Kim Cattrall'), 2),\n",
       " (('Chris Noth', 'Kristin Davis'), 2),\n",
       " (('Chris Noth', 'Sarah Jessica Parker'), 2),\n",
       " (('Cynthia Nixon', 'Kim Cattrall'), 2),\n",
       " (('Cynthia Nixon', 'Kristin Davis'), 2),\n",
       " (('Cynthia Nixon', 'Sarah Jessica Parker'), 2),\n",
       " (('Kim Cattrall', 'Kristin Davis'), 2),\n",
       " (('Kim Cattrall', 'Sarah Jessica Parker'), 2),\n",
       " (('Kristin Davis', 'Sarah Jessica Parker'), 2),\n",
       " (('Emma Thompson', 'Maggie Gyllenhaal'), 2),\n",
       " (('Edward Norton', 'Robert De Niro'), 2),\n",
       " (('Rachael Harris', 'Robert Capron'), 2),\n",
       " (('Robert Capron', 'Steve Zahn'), 2),\n",
       " (('Robert Capron', 'Zachary Gordon'), 2),\n",
       " (('Naomi Watts', 'Sean Penn'), 2),\n",
       " (('Kristen Wiig', 'Maya Rudolph'), 2),\n",
       " (('Andy Serkis', 'Simon Pegg'), 2),\n",
       " (('Janet Jackson', 'Jill Scott'), 2),\n",
       " (('Janet Jackson', 'Malik Yoba'), 2),\n",
       " (('Janet Jackson', 'Tyler Perry'), 2),\n",
       " (('Jill Scott', 'Malik Yoba'), 2),\n",
       " (('Jill Scott', 'Tyler Perry'), 2),\n",
       " (('Malik Yoba', 'Tyler Perry'), 2),\n",
       " (('Ali Larter', 'Milla Jovovich'), 2),\n",
       " (('Billy Crystal', 'John Goodman'), 2),\n",
       " (('Billy Crystal', 'Steve Buscemi'), 2),\n",
       " (('John Goodman', 'Steve Buscemi'), 2),\n",
       " (('Colin Firth', 'Gemma Jones'), 2),\n",
       " (('Colin Firth', 'Hugh Grant'), 2),\n",
       " (('Colin Firth', 'Jim Broadbent'), 2),\n",
       " (('Colin Firth', 'RenÃ©e Zellweger'), 2),\n",
       " (('Gemma Jones', 'Hugh Grant'), 2),\n",
       " (('Gemma Jones', 'Jim Broadbent'), 2),\n",
       " (('Gemma Jones', 'RenÃ©e Zellweger'), 2),\n",
       " (('Hugh Grant', 'Jim Broadbent'), 2),\n",
       " (('Hugh Grant', 'RenÃ©e Zellweger'), 2),\n",
       " (('Jim Broadbent', 'RenÃ©e Zellweger'), 2),\n",
       " (('Andy GarcÃ\\xada', 'Brad Pitt'), 2),\n",
       " (('Andy GarcÃ\\xada', 'George Clooney'), 2),\n",
       " (('Andy GarcÃ\\xada', 'Julia Roberts'), 2),\n",
       " (('Brad Pitt', 'Matt Damon'), 2),\n",
       " (('George Clooney', 'Julia Roberts'), 2),\n",
       " (('Brendan Fraser', 'John Hannah'), 2),\n",
       " (('Angelina Jolie', 'Noah Taylor'), 2),\n",
       " (('Paul Bettany', 'Russell Crowe'), 2),\n",
       " (('Chris Klein', 'Jason Biggs'), 2),\n",
       " (('Chris Klein', 'Seann William Scott'), 2),\n",
       " (('Chris Klein', 'Thomas Ian Nicholas'), 2),\n",
       " (('Eddie Kaye Thomas', 'Jason Biggs'), 2),\n",
       " (('Eddie Kaye Thomas', 'Seann William Scott'), 2),\n",
       " (('Eddie Kaye Thomas', 'Thomas Ian Nicholas'), 2),\n",
       " (('Anne Hathaway', 'Heather Matarazzo'), 2),\n",
       " (('Anne Hathaway', 'HÃ©ctor Elizondo'), 2),\n",
       " (('Anne Hathaway', 'Julie Andrews'), 2),\n",
       " (('Heather Matarazzo', 'HÃ©ctor Elizondo'), 2),\n",
       " (('Heather Matarazzo', 'Julie Andrews'), 2),\n",
       " (('HÃ©ctor Elizondo', 'Julie Andrews'), 2),\n",
       " (('Ewan McGregor', 'Jim Broadbent'), 2),\n",
       " (('Johnny Depp', 'PenÃ©lope Cruz'), 2),\n",
       " (('Jude Law', 'Rachel Weisz'), 2),\n",
       " (('Heath Ledger', 'Shannyn Sossamon'), 2),\n",
       " (('Ben Stiller', 'Christine Taylor'), 2),\n",
       " (('Chris Tucker', 'Jackie Chan'), 2),\n",
       " ((\"Brian O'Halloran\", 'Jason Mewes'), 2),\n",
       " ((\"Brian O'Halloran\", 'Jeff Anderson'), 2),\n",
       " ((\"Brian O'Halloran\", 'Kevin Smith'), 2),\n",
       " (('Jason Mewes', 'Jeff Anderson'), 2),\n",
       " (('Jason Mewes', 'Kevin Smith'), 2),\n",
       " (('Jeff Anderson', 'Kevin Smith'), 2),\n",
       " (('Cameron Diaz', 'PenÃ©lope Cruz'), 2),\n",
       " (('Amy Smart', 'Breckin Meyer'), 2),\n",
       " (('Breckin Meyer', 'Seth Green'), 2),\n",
       " (('Brad Pitt', 'James Gandolfini'), 2),\n",
       " (('Bill Paxton', 'Matthew McConaughey'), 2),\n",
       " (('Anthony Hopkins', 'Hope Davis'), 2),\n",
       " (('Charlize Theron', 'Robert De Niro'), 2),\n",
       " (('Anthony Anderson', 'DMX'), 2),\n",
       " (('DMX', 'Isaiah Washington'), 2),\n",
       " (('Anna Maria Horsford', 'Mike Epps'), 2),\n",
       " (('Amanda Detmer', 'Jason Biggs'), 2),\n",
       " (('John Travolta', 'Vince Vaughn'), 2),\n",
       " (('Freddie Prinze Jr.', 'Matthew Lillard'), 2),\n",
       " (('Cary Elwes', 'Joanna Lumley'), 2),\n",
       " (('Angelina Jolie', 'Dustin Hoffman'), 2),\n",
       " (('Angelina Jolie', 'Jackie Chan'), 2),\n",
       " (('Dustin Hoffman', 'Jack Black'), 2),\n",
       " (('Dustin Hoffman', 'Jackie Chan'), 2),\n",
       " (('Jack Black', 'Jackie Chan'), 2),\n",
       " (('Colin Firth', 'Stellan SkarsgÃ¥rd'), 2),\n",
       " (('Brad Pitt', 'Cate Blanchett'), 2),\n",
       " (('Brad Pitt', 'Tilda Swinton'), 2),\n",
       " (('Ben Stiller', 'Jada Pinkett Smith'), 2),\n",
       " (('Chris Rock', 'Jada Pinkett Smith'), 2),\n",
       " (('David Schwimmer', 'Jada Pinkett Smith'), 2),\n",
       " (('Jeffrey Tambor', 'John Hurt'), 2),\n",
       " (('Jeffrey Tambor', 'Ron Perlman'), 2),\n",
       " (('Jeffrey Tambor', 'Selma Blair'), 2),\n",
       " (('John Hurt', 'Selma Blair'), 2),\n",
       " (('Ron Perlman', 'Selma Blair'), 2),\n",
       " (('Charlize Theron', 'Will Smith'), 2),\n",
       " (('Anna Popplewell', 'Georgie Henley'), 2),\n",
       " (('Anna Popplewell', 'Skandar Keynes'), 2),\n",
       " (('Anna Popplewell', 'William Moseley'), 2),\n",
       " (('Georgie Henley', 'William Moseley'), 2),\n",
       " (('Skandar Keynes', 'William Moseley'), 2),\n",
       " (('David Wenham', 'Hugh Jackman'), 2),\n",
       " (('George Clooney', 'Richard Jenkins'), 2),\n",
       " (('George Clooney', 'Tilda Swinton'), 2),\n",
       " (('John C. Reilly', 'Will Ferrell'), 2),\n",
       " (('Mary Steenburgen', 'Will Ferrell'), 2),\n",
       " (('Kate Hudson', 'Matthew McConaughey'), 2),\n",
       " (('Danny McBride', 'Seth Rogen'), 2),\n",
       " (('Mark Wahlberg', 'Mila Kunis'), 2),\n",
       " (('Sigourney Weaver', 'William Hurt'), 2),\n",
       " (('Elizabeth Banks', 'Paul Rudd'), 2),\n",
       " (('Angelina Jolie', 'John Malkovich'), 2),\n",
       " (('Betsy Russell', 'Scott Patterson'), 2),\n",
       " (('Costas Mandylor', 'Scott Patterson'), 2),\n",
       " (('Scott Patterson', 'Tobin Bell'), 2),\n",
       " (('Javier Bardem', 'PenÃ©lope Cruz'), 2),\n",
       " (('Jim Carrey', 'Steve Carell'), 2),\n",
       " (('Seth Rogen', 'Steve Carell'), 2),\n",
       " (('Carla Gugino', 'Robert De Niro'), 2),\n",
       " (('Adam Sandler', 'John Turturro'), 2),\n",
       " (('Daniel Craig', 'Jamie Bell'), 2),\n",
       " (('Josh Brolin', 'Sean Penn'), 2),\n",
       " (('Cheryl Hines', 'Jeff Daniels'), 2),\n",
       " (('Kerry Washington', 'Samuel L. Jackson'), 2),\n",
       " (('Bruce Willis', 'Robin Wright'), 2),\n",
       " (('Anthony Hopkins', 'Chris Hemsworth'), 2),\n",
       " (('Anthony Hopkins', 'Natalie Portman'), 2),\n",
       " (('Anthony Hopkins', 'Tom Hiddleston'), 2),\n",
       " (('Chris Hemsworth', 'Natalie Portman'), 2),\n",
       " (('Chris Hemsworth', 'Tom Hiddleston'), 2),\n",
       " (('Natalie Portman', 'Tom Hiddleston'), 2),\n",
       " (('Emma Stone', 'Ryan Gosling'), 2),\n",
       " (('Marisa Tomei', 'Ryan Gosling'), 2),\n",
       " (('Bradley Cooper', 'Robert De Niro'), 2),\n",
       " (('Colin Farrell', 'Jason Sudeikis'), 2),\n",
       " (('Larry the Cable Guy', 'Owen Wilson'), 2),\n",
       " (('Ed Helms', 'Ken Jeong'), 2),\n",
       " (('Justin Bartha', 'Ken Jeong'), 2),\n",
       " (('Ken Jeong', 'Zach Galifianakis'), 2),\n",
       " (('Nick Frost', 'Simon Pegg'), 2),\n",
       " (('Alfred Molina', 'Johnny Depp'), 2),\n",
       " (('Asa Butterfield', 'Ben Kingsley'), 2),\n",
       " (('Matthew McConaughey', 'William H. Macy'), 2),\n",
       " (('Bud Luckey', 'Jim Cummings'), 2),\n",
       " (('Craig Ferguson', 'Jim Cummings'), 2),\n",
       " (('Jim Cummings', 'Travis Oates'), 2),\n",
       " (('Julia Roberts', 'Tom Hanks'), 2),\n",
       " (('Antonio Banderas', 'Salma Hayek'), 2),\n",
       " (('Gwyneth Paltrow', 'Jude Law'), 2),\n",
       " (('Katherine Heigl', 'Robert De Niro'), 2),\n",
       " (('Johnny A. Sanchez', 'Robin Williams'), 2),\n",
       " (('Courteney Cox', 'David Arquette'), 2),\n",
       " (('Courteney Cox', 'Neve Campbell'), 2),\n",
       " (('David Arquette', 'Neve Campbell'), 2),\n",
       " (('Devon Bostick', 'Rachael Harris'), 2),\n",
       " (('Devon Bostick', 'Steve Zahn'), 2),\n",
       " (('Devon Bostick', 'Zachary Gordon'), 2),\n",
       " (('Bill Nighy', 'Judi Dench'), 2),\n",
       " (('Hank Azaria', 'Neil Patrick Harris'), 2),\n",
       " (('Cate Blanchett', 'Tom Hollander'), 2),\n",
       " (('James McAvoy', 'Julie Walters'), 2),\n",
       " (('James McAvoy', 'Maggie Smith'), 2),\n",
       " (('Julie Walters', 'Maggie Smith'), 2),\n",
       " (('Marisa Tomei', 'Philip Seymour Hoffman'), 2),\n",
       " (('Katie Featherston', 'Sprague Grayden'), 2),\n",
       " (('Viggo Mortensen', 'Vincent Cassel'), 2),\n",
       " (('Glenn Close', 'Patrick Warburton'), 2),\n",
       " (('Dwayne Johnson', 'Jordana Brewster'), 2),\n",
       " (('Jordana Brewster', 'Tyrese Gibson'), 2),\n",
       " (('Paul Walker', 'Tyrese Gibson'), 2),\n",
       " (('Brian Cox', 'Franka Potente'), 2),\n",
       " (('Brian Cox', 'Matt Damon'), 2),\n",
       " (('Chris Cooper', 'Matt Damon'), 2),\n",
       " (('Franka Potente', 'Matt Damon'), 2),\n",
       " (('Michelle Rodriguez', 'Milla Jovovich'), 2),\n",
       " (('Ewan McGregor', 'Hayden Christensen'), 2),\n",
       " (('Ewan McGregor', 'Ian McDiarmid'), 2),\n",
       " (('Ewan McGregor', 'Natalie Portman'), 2),\n",
       " (('Ewan McGregor', 'Samuel L. Jackson'), 2),\n",
       " (('Hayden Christensen', 'Ian McDiarmid'), 2),\n",
       " (('Hayden Christensen', 'Natalie Portman'), 2),\n",
       " (('Ian McDiarmid', 'Natalie Portman'), 2),\n",
       " (('Ian McDiarmid', 'Samuel L. Jackson'), 2),\n",
       " (('Natalie Portman', 'Samuel L. Jackson'), 2),\n",
       " (('Amy Adams', 'Tom Hanks'), 2),\n",
       " (('Leonardo DiCaprio', 'Martin Sheen'), 2),\n",
       " (('Tommy Lee Jones', 'Will Smith'), 2),\n",
       " (('Adrien Brody', 'Thomas Kretschmann'), 2),\n",
       " (('Jennifer Lopez', 'Stanley Tucci'), 2),\n",
       " (('Kris Kristofferson', 'Wesley Snipes'), 2),\n",
       " (('Bam Margera', 'Chris Pontius'), 2),\n",
       " (('Bam Margera', 'Johnny Knoxville'), 2),\n",
       " (('Bam Margera', 'Steve-O'), 2),\n",
       " (('Chris Pontius', 'Johnny Knoxville'), 2),\n",
       " (('Chris Pontius', 'Steve-O'), 2),\n",
       " (('Johnny Knoxville', 'Steve-O'), 2),\n",
       " (('Chris Cooper', 'Meryl Streep'), 2),\n",
       " (('Meryl Streep', 'Nicolas Cage'), 2),\n",
       " (('Cedric the Entertainer', 'Ice Cube'), 2),\n",
       " (('Cedric the Entertainer', 'Sean Patrick Thomas'), 2),\n",
       " (('Ice Cube', 'Sean Patrick Thomas'), 2),\n",
       " (('Don Curry', 'Ice Cube'), 2),\n",
       " (('Don Curry', 'John Witherspoon'), 2),\n",
       " (('Don Curry', 'Mike Epps'), 2),\n",
       " (('Ice Cube', 'John Witherspoon'), 2),\n",
       " (('John Witherspoon', 'Mike Epps'), 2),\n",
       " (('Bruce Willis', 'Cole Hauser'), 2),\n",
       " (('Matthew Davis', 'Michelle Rodriguez'), 2),\n",
       " (('Chris Rock', 'Kerry Washington'), 2),\n",
       " (('Jamie Foxx', 'Kerry Washington'), 2),\n",
       " (('Bradley Cooper', 'Jennifer Lawrence'), 2),\n",
       " (('Emma Thompson', 'Kelly Macdonald'), 2),\n",
       " (('Denis Leary', 'Seann William Scott'), 2),\n",
       " (('John Leguizamo', 'Seann William Scott'), 2),\n",
       " (('Ray Romano', 'Seann William Scott'), 2),\n",
       " (('Ewan McGregor', 'Naomi Watts'), 2),\n",
       " (('Josh Brolin', 'Tommy Lee Jones'), 2),\n",
       " (('Bill Nighy', 'Kate Beckinsale'), 2),\n",
       " (('Alyson Hannigan', 'Jason Biggs'), 2),\n",
       " (('Alyson Hannigan', 'Seann William Scott'), 2),\n",
       " (('Alyson Hannigan', 'Thomas Ian Nicholas'), 2),\n",
       " (('Adam Sandler', 'David Spade'), 2),\n",
       " (('David Spade', 'Kevin James'), 2),\n",
       " (('Ben Foster', 'Mark Wahlberg'), 2),\n",
       " (('Ben Stiller', 'Sacha Baron Cohen'), 2),\n",
       " (('Chris Rock', 'Sacha Baron Cohen'), 2),\n",
       " (('David Schwimmer', 'Sacha Baron Cohen'), 2),\n",
       " (('Amy Adams', 'Joaquin Phoenix'), 2),\n",
       " (('Jason Segel', 'Leslie Mann'), 2),\n",
       " (('Leslie Mann', 'Paul Rudd'), 2),\n",
       " (('Radha Mitchell', 'Sean Bean'), 2),\n",
       " (('Richard Gere', 'Susan Sarandon'), 2),\n",
       " (('Milla Jovovich', 'Sienna Guillory'), 2),\n",
       " (('Kate Beckinsale', 'Scott Speedman'), 2),\n",
       " (('Kate Beckinsale', 'Shane Brolly'), 2),\n",
       " (('Scott Speedman', 'Shane Brolly'), 2),\n",
       " (('Geoffrey Rush', 'Keira Knightley'), 2),\n",
       " (('Geoffrey Rush', 'Orlando Bloom'), 2),\n",
       " (('Jack Davenport', 'Johnny Depp'), 2),\n",
       " (('Jack Davenport', 'Keira Knightley'), 2),\n",
       " (('Jack Davenport', 'Orlando Bloom'), 2),\n",
       " (('Daryl Hannah', 'David Carradine'), 2),\n",
       " (('Daryl Hannah', 'Uma Thurman'), 2),\n",
       " (('David Carradine', 'Uma Thurman'), 2),\n",
       " (('Carrie-Anne Moss', 'Hugo Weaving'), 2),\n",
       " (('Carrie-Anne Moss', 'Keanu Reeves'), 2),\n",
       " (('Carrie-Anne Moss', 'Laurence Fishburne'), 2),\n",
       " (('Hugo Weaving', 'Keanu Reeves'), 2),\n",
       " (('Hugo Weaving', 'Laurence Fishburne'), 2),\n",
       " (('Keanu Reeves', 'Laurence Fishburne'), 2),\n",
       " (('Charlie Sheen', 'Simon Rex'), 2),\n",
       " (('Jennifer Coolidge', 'Regina King'), 2),\n",
       " (('Cameron Diaz', 'Drew Barrymore'), 2),\n",
       " (('Cameron Diaz', 'Lucy Liu'), 2),\n",
       " (('Drew Barrymore', 'Lucy Liu'), 2),\n",
       " (('Ali Larter', 'Tony Todd'), 2),\n",
       " (('Bonnie Hunt', 'Steve Martin'), 2),\n",
       " (('Bonnie Hunt', 'Tom Welling'), 2),\n",
       " (('Steve Martin', 'Tom Welling'), 2),\n",
       " (('DMX', 'Jet Li'), 2),\n",
       " (('Ewan McGregor', 'RenÃ©e Zellweger'), 2),\n",
       " (('Catherine Zeta-Jones', 'George Clooney'), 2),\n",
       " (('Eugene Levy', 'Steve Martin'), 2),\n",
       " (('Cynthia Stevenson', 'Frankie Muniz'), 2),\n",
       " (('Ben Kingsley', 'Guy Pearce'), 2),\n",
       " (('Karl Urban', 'Vin Diesel'), 2),\n",
       " (('Denzel Washington', 'Paula Patton'), 2),\n",
       " (('Matthew McConaughey', 'Steve Zahn'), 2),\n",
       " (('Michelle Pfeiffer', 'Robert De Niro'), 2),\n",
       " (('Adam Sandler', 'Chris Rock'), 2),\n",
       " (('Jaden Smith', 'Will Smith'), 2),\n",
       " (('Christina Applegate', 'David Koechner'), 2),\n",
       " (('Christina Applegate', 'Paul Rudd'), 2),\n",
       " (('Christina Applegate', 'Steve Carell'), 2),\n",
       " (('Christina Applegate', 'Will Ferrell'), 2),\n",
       " (('David Koechner', 'Paul Rudd'), 2),\n",
       " (('David Koechner', 'Steve Carell'), 2),\n",
       " (('David Koechner', 'Will Ferrell'), 2),\n",
       " (('Paul Rudd', 'Will Ferrell'), 2),\n",
       " (('Steve Carell', 'Will Ferrell'), 2),\n",
       " (('Alec Baldwin', 'Cate Blanchett'), 2),\n",
       " (('Julia Roberts', 'Meryl Streep'), 2),\n",
       " (('Christian Bale', 'Willem Dafoe'), 2),\n",
       " (('Daniel Radcliffe', 'Michael Gambon'), 2),\n",
       " (('Emma Watson', 'Michael Gambon'), 2),\n",
       " (('Michael Gambon', 'Ralph Fiennes'), 2),\n",
       " (('Michael Gambon', 'Rupert Grint'), 2),\n",
       " (('Freddie Highmore', 'Johnny Depp'), 2),\n",
       " (('Chris Evans', 'Ioan Gruffudd'), 2),\n",
       " (('Chris Evans', 'Jessica Alba'), 2),\n",
       " (('Chris Evans', 'Julian McMahon'), 2),\n",
       " (('Chris Evans', 'Michael Chiklis'), 2),\n",
       " (('Ioan Gruffudd', 'Jessica Alba'), 2),\n",
       " (('Ioan Gruffudd', 'Julian McMahon'), 2),\n",
       " (('Ioan Gruffudd', 'Michael Chiklis'), 2),\n",
       " (('Jessica Alba', 'Julian McMahon'), 2),\n",
       " (('Jessica Alba', 'Michael Chiklis'), 2),\n",
       " (('Julian McMahon', 'Michael Chiklis'), 2),\n",
       " (('Jim Carrey', 'Richard Jenkins'), 2),\n",
       " (('Joaquin Phoenix', 'Robert Patrick'), 2),\n",
       " (('Bill Nighy', 'Keira Knightley'), 2),\n",
       " (('Bill Nighy', 'Orlando Bloom'), 2),\n",
       " (('Daniel Craig', 'Eva Green'), 2),\n",
       " (('Daniel Craig', 'Jeffrey Wright'), 2),\n",
       " (('Ian McKellen', 'Jean Reno'), 2),\n",
       " (('Anna Faris', 'Regina Hall'), 2),\n",
       " (('Martin Lawrence', 'Nia Long'), 2),\n",
       " (('Adam Campbell', 'Jennifer Coolidge'), 2),\n",
       " (('Julia Stiles', 'Matt Damon'), 2),\n",
       " (('Diane Kruger', 'Jon Voight'), 2),\n",
       " (('Diane Kruger', 'Nicolas Cage'), 2),\n",
       " (('Jon Voight', 'Nicolas Cage'), 2),\n",
       " (('Milla Jovovich', 'Oded Fehr'), 2),\n",
       " (('Ben Stiller', 'Teri Polo'), 2),\n",
       " (('Robert De Niro', 'Teri Polo'), 2),\n",
       " (('Angelina Jolie', 'Giovanni Ribisi'), 2),\n",
       " (('Ben Stiller', 'Vince Vaughn'), 2),\n",
       " (('George W. Bush', 'Michael Moore'), 2),\n",
       " (('Bruce Willis', 'Matthew Perry'), 2),\n",
       " (('Kevin Pollak', 'Matthew Perry'), 2),\n",
       " (('Jason Bateman', 'Jennifer Garner'), 2),\n",
       " (('John Goodman', 'Patrick Warburton'), 2),\n",
       " (('Daniel Craig', 'Nicole Kidman'), 2),\n",
       " (('Bryce Dallas Howard', 'Chris Pratt'), 1),\n",
       " (('Bryce Dallas Howard', 'Irrfan Khan'), 1),\n",
       " (('Bryce Dallas Howard', 'Nick Robinson'), 1),\n",
       " (('Bryce Dallas Howard', \"Vincent D'Onofrio\"), 1),\n",
       " (('Chris Pratt', 'Irrfan Khan'), 1),\n",
       " (('Chris Pratt', 'Nick Robinson'), 1),\n",
       " (('Chris Pratt', \"Vincent D'Onofrio\"), 1),\n",
       " (('Irrfan Khan', 'Nick Robinson'), 1),\n",
       " (('Irrfan Khan', \"Vincent D'Onofrio\"), 1),\n",
       " (('Nick Robinson', \"Vincent D'Onofrio\"), 1),\n",
       " (('Charlize Theron', 'Hugh Keays-Byrne'), 1),\n",
       " (('Charlize Theron', 'Josh Helman'), 1),\n",
       " (('Charlize Theron', 'Nicholas Hoult'), 1),\n",
       " (('Charlize Theron', 'Tom Hardy'), 1),\n",
       " (('Hugh Keays-Byrne', 'Josh Helman'), 1),\n",
       " (('Hugh Keays-Byrne', 'Nicholas Hoult'), 1),\n",
       " (('Hugh Keays-Byrne', 'Tom Hardy'), 1),\n",
       " (('Josh Helman', 'Nicholas Hoult'), 1),\n",
       " (('Josh Helman', 'Tom Hardy'), 1),\n",
       " (('Nicholas Hoult', 'Tom Hardy'), 1),\n",
       " (('Ansel Elgort', 'Kate Winslet'), 1),\n",
       " (('Ansel Elgort', 'Miles Teller'), 1),\n",
       " (('Ansel Elgort', 'Theo James'), 1),\n",
       " (('Adam Driver', 'Carrie Fisher'), 1),\n",
       " (('Adam Driver', 'Daisy Ridley'), 1),\n",
       " (('Adam Driver', 'Harrison Ford'), 1),\n",
       " (('Adam Driver', 'Mark Hamill'), 1),\n",
       " (('Carrie Fisher', 'Daisy Ridley'), 1),\n",
       " (('Carrie Fisher', 'Harrison Ford'), 1),\n",
       " (('Carrie Fisher', 'Mark Hamill'), 1),\n",
       " (('Daisy Ridley', 'Harrison Ford'), 1),\n",
       " (('Daisy Ridley', 'Mark Hamill'), 1),\n",
       " (('Harrison Ford', 'Mark Hamill'), 1),\n",
       " (('Dwayne Johnson', 'Jason Statham'), 1),\n",
       " (('Dwayne Johnson', 'Michelle Rodriguez'), 1),\n",
       " (('Jason Statham', 'Michelle Rodriguez'), 1),\n",
       " (('Jason Statham', 'Paul Walker'), 1),\n",
       " (('Jason Statham', 'Vin Diesel'), 1),\n",
       " (('Domhnall Gleeson', 'Leonardo DiCaprio'), 1),\n",
       " (('Domhnall Gleeson', 'Paul Anderson'), 1),\n",
       " (('Domhnall Gleeson', 'Tom Hardy'), 1),\n",
       " (('Domhnall Gleeson', 'Will Poulter'), 1),\n",
       " (('Leonardo DiCaprio', 'Paul Anderson'), 1),\n",
       " (('Leonardo DiCaprio', 'Will Poulter'), 1),\n",
       " (('Paul Anderson', 'Tom Hardy'), 1),\n",
       " (('Paul Anderson', 'Will Poulter'), 1),\n",
       " (('Tom Hardy', 'Will Poulter'), 1),\n",
       " (('Arnold Schwarzenegger', 'Emilia Clarke'), 1),\n",
       " (('Arnold Schwarzenegger', 'J.K. Simmons'), 1),\n",
       " (('Arnold Schwarzenegger', 'Jai Courtney'), 1),\n",
       " (('Arnold Schwarzenegger', 'Jason Clarke'), 1),\n",
       " (('Emilia Clarke', 'J.K. Simmons'), 1),\n",
       " (('Emilia Clarke', 'Jai Courtney'), 1),\n",
       " (('Emilia Clarke', 'Jason Clarke'), 1),\n",
       " (('J.K. Simmons', 'Jai Courtney'), 1),\n",
       " (('J.K. Simmons', 'Jason Clarke'), 1),\n",
       " (('Jai Courtney', 'Jason Clarke'), 1),\n",
       " (('Jeff Daniels', 'Jessica Chastain'), 1),\n",
       " (('Jeff Daniels', 'Kristen Wiig'), 1),\n",
       " (('Jeff Daniels', 'Matt Damon'), 1),\n",
       " (('Jeff Daniels', 'Michael PeÃ±a'), 1),\n",
       " (('Jessica Chastain', 'Kristen Wiig'), 1),\n",
       " (('Jessica Chastain', 'Matt Damon'), 1),\n",
       " (('Jessica Chastain', 'Michael PeÃ±a'), 1),\n",
       " (('Kristen Wiig', 'Matt Damon'), 1),\n",
       " (('Kristen Wiig', 'Michael PeÃ±a'), 1),\n",
       " (('Matt Damon', 'Michael PeÃ±a'), 1),\n",
       " (('Allison Janney', 'Jon Hamm'), 1),\n",
       " (('Allison Janney', 'Michael Keaton'), 1),\n",
       " (('Allison Janney', 'Sandra Bullock'), 1),\n",
       " (('Allison Janney', 'Steve Coogan'), 1),\n",
       " (('Jon Hamm', 'Michael Keaton'), 1),\n",
       " (('Jon Hamm', 'Sandra Bullock'), 1),\n",
       " (('Jon Hamm', 'Steve Coogan'), 1),\n",
       " (('Michael Keaton', 'Sandra Bullock'), 1),\n",
       " (('Michael Keaton', 'Steve Coogan'), 1),\n",
       " (('Sandra Bullock', 'Steve Coogan'), 1),\n",
       " (('Amy Poehler', 'Bill Hader'), 1),\n",
       " (('Amy Poehler', 'Lewis Black'), 1),\n",
       " (('Amy Poehler', 'Phyllis Smith'), 1),\n",
       " (('Amy Poehler', 'Richard Kind'), 1),\n",
       " (('Bill Hader', 'Lewis Black'), 1),\n",
       " (('Bill Hader', 'Phyllis Smith'), 1),\n",
       " (('Bill Hader', 'Richard Kind'), 1),\n",
       " (('Lewis Black', 'Phyllis Smith'), 1),\n",
       " (('Lewis Black', 'Richard Kind'), 1),\n",
       " (('Phyllis Smith', 'Richard Kind'), 1),\n",
       " (('Christoph Waltz', 'Daniel Craig'), 1),\n",
       " (('Christoph Waltz', 'LÃ©a Seydoux'), 1),\n",
       " (('Christoph Waltz', 'Monica Bellucci'), 1),\n",
       " (('Christoph Waltz', 'Ralph Fiennes'), 1),\n",
       " (('Daniel Craig', 'LÃ©a Seydoux'), 1),\n",
       " (('Daniel Craig', 'Monica Bellucci'), 1),\n",
       " (('LÃ©a Seydoux', 'Monica Bellucci'), 1),\n",
       " (('LÃ©a Seydoux', 'Ralph Fiennes'), 1),\n",
       " (('Monica Bellucci', 'Ralph Fiennes'), 1),\n",
       " (('Channing Tatum', 'Douglas Booth'), 1),\n",
       " (('Channing Tatum', 'Eddie Redmayne'), 1),\n",
       " (('Channing Tatum', 'Mila Kunis'), 1),\n",
       " (('Channing Tatum', 'Sean Bean'), 1),\n",
       " (('Douglas Booth', 'Eddie Redmayne'), 1),\n",
       " (('Douglas Booth', 'Mila Kunis'), 1),\n",
       " (('Douglas Booth', 'Sean Bean'), 1),\n",
       " (('Eddie Redmayne', 'Mila Kunis'), 1),\n",
       " (('Eddie Redmayne', 'Sean Bean'), 1),\n",
       " (('Mila Kunis', 'Sean Bean'), 1),\n",
       " (('Alicia Vikander', 'Corey Johnson'), 1),\n",
       " (('Alicia Vikander', 'Domhnall Gleeson'), 1),\n",
       " (('Alicia Vikander', 'Oscar Isaac'), 1),\n",
       " (('Alicia Vikander', 'Sonoya Mizuno'), 1),\n",
       " (('Corey Johnson', 'Domhnall Gleeson'), 1),\n",
       " (('Corey Johnson', 'Oscar Isaac'), 1),\n",
       " (('Corey Johnson', 'Sonoya Mizuno'), 1),\n",
       " (('Domhnall Gleeson', 'Oscar Isaac'), 1),\n",
       " (('Domhnall Gleeson', 'Sonoya Mizuno'), 1),\n",
       " (('Oscar Isaac', 'Sonoya Mizuno'), 1),\n",
       " (('Adam Sandler', 'Josh Gad'), 1),\n",
       " (('Adam Sandler', 'Michelle Monaghan'), 1),\n",
       " (('Adam Sandler', 'Peter Dinklage'), 1),\n",
       " (('Josh Gad', 'Kevin James'), 1),\n",
       " (('Josh Gad', 'Michelle Monaghan'), 1),\n",
       " (('Josh Gad', 'Peter Dinklage'), 1),\n",
       " (('Kevin James', 'Michelle Monaghan'), 1),\n",
       " (('Kevin James', 'Peter Dinklage'), 1),\n",
       " (('Michelle Monaghan', 'Peter Dinklage'), 1),\n",
       " (('DemiÃ¡n Bichir', 'Jennifer Jason Leigh'), 1),\n",
       " (('DemiÃ¡n Bichir', 'Kurt Russell'), 1),\n",
       " (('DemiÃ¡n Bichir', 'Samuel L. Jackson'), 1),\n",
       " (('DemiÃ¡n Bichir', 'Walton Goggins'), 1),\n",
       " (('Jennifer Jason Leigh', 'Kurt Russell'), 1),\n",
       " (('Jennifer Jason Leigh', 'Samuel L. Jackson'), 1),\n",
       " (('Jennifer Jason Leigh', 'Walton Goggins'), 1),\n",
       " (('Kurt Russell', 'Samuel L. Jackson'), 1),\n",
       " (('Kurt Russell', 'Walton Goggins'), 1),\n",
       " (('Samuel L. Jackson', 'Walton Goggins'), 1),\n",
       " (('Dougray Scott', 'Famke Janssen'), 1),\n",
       " (('Dougray Scott', 'Forest Whitaker'), 1),\n",
       " (('Dougray Scott', 'Liam Neeson'), 1),\n",
       " (('Dougray Scott', 'Maggie Grace'), 1),\n",
       " (('Famke Janssen', 'Forest Whitaker'), 1),\n",
       " (('Forest Whitaker', 'Liam Neeson'), 1),\n",
       " (('Forest Whitaker', 'Maggie Grace'), 1),\n",
       " (('Bobby Cannavale', 'Corey Stoll'), 1),\n",
       " (('Bobby Cannavale', 'Evangeline Lilly'), 1),\n",
       " (('Bobby Cannavale', 'Michael Douglas'), 1),\n",
       " (('Bobby Cannavale', 'Paul Rudd'), 1),\n",
       " (('Corey Stoll', 'Evangeline Lilly'), 1),\n",
       " (('Corey Stoll', 'Michael Douglas'), 1),\n",
       " (('Corey Stoll', 'Paul Rudd'), 1),\n",
       " (('Evangeline Lilly', 'Michael Douglas'), 1),\n",
       " (('Evangeline Lilly', 'Paul Rudd'), 1),\n",
       " (('Michael Douglas', 'Paul Rudd'), 1),\n",
       " (('Cate Blanchett', 'Helena Bonham Carter'), 1),\n",
       " (('Cate Blanchett', 'Holliday Grainger'), 1),\n",
       " (('Cate Blanchett', 'Lily James'), 1),\n",
       " (('Cate Blanchett', 'Richard Madden'), 1),\n",
       " (('Helena Bonham Carter', 'Holliday Grainger'), 1),\n",
       " (('Helena Bonham Carter', 'Lily James'), 1),\n",
       " (('Helena Bonham Carter', 'Richard Madden'), 1),\n",
       " (('Holliday Grainger', 'Lily James'), 1),\n",
       " (('Holliday Grainger', 'Richard Madden'), 1),\n",
       " (('Lily James', 'Richard Madden'), 1),\n",
       " (('Britt Robertson', 'George Clooney'), 1),\n",
       " (('Britt Robertson', 'Hugh Laurie'), 1),\n",
       " (('Britt Robertson', 'Raffey Cassidy'), 1),\n",
       " (('Britt Robertson', 'Thomas Robinson'), 1),\n",
       " (('George Clooney', 'Hugh Laurie'), 1),\n",
       " (('George Clooney', 'Raffey Cassidy'), 1),\n",
       " (('George Clooney', 'Thomas Robinson'), 1),\n",
       " (('Hugh Laurie', 'Raffey Cassidy'), 1),\n",
       " (('Hugh Laurie', 'Thomas Robinson'), 1),\n",
       " (('Raffey Cassidy', 'Thomas Robinson'), 1),\n",
       " (('50 Cent', 'Forest Whitaker'), 1),\n",
       " (('50 Cent', 'Jake Gyllenhaal'), 1),\n",
       " (('50 Cent', 'Oona Laurence'), 1),\n",
       " (('50 Cent', 'Rachel McAdams'), 1),\n",
       " (('Forest Whitaker', 'Jake Gyllenhaal'), 1),\n",
       " (('Forest Whitaker', 'Oona Laurence'), 1),\n",
       " (('Forest Whitaker', 'Rachel McAdams'), 1),\n",
       " (('Jake Gyllenhaal', 'Oona Laurence'), 1),\n",
       " (('Jake Gyllenhaal', 'Rachel McAdams'), 1),\n",
       " (('Oona Laurence', 'Rachel McAdams'), 1),\n",
       " (('Alexandra Daddario', 'Archie Panjabi'), 1),\n",
       " (('Alexandra Daddario', 'Carla Gugino'), 1),\n",
       " (('Alexandra Daddario', 'Dwayne Johnson'), 1),\n",
       " (('Alexandra Daddario', 'Ioan Gruffudd'), 1),\n",
       " (('Archie Panjabi', 'Carla Gugino'), 1),\n",
       " (('Archie Panjabi', 'Dwayne Johnson'), 1),\n",
       " (('Archie Panjabi', 'Ioan Gruffudd'), 1),\n",
       " (('Carla Gugino', 'Ioan Gruffudd'), 1),\n",
       " (('Dwayne Johnson', 'Ioan Gruffudd'), 1),\n",
       " (('Dakota Johnson', 'Eloise Mumford'), 1),\n",
       " (('Dakota Johnson', 'Jamie Dornan'), 1),\n",
       " (('Dakota Johnson', 'Jennifer Ehle'), 1),\n",
       " (('Dakota Johnson', 'Victor Rasuk'), 1),\n",
       " (('Eloise Mumford', 'Jamie Dornan'), 1),\n",
       " (('Eloise Mumford', 'Jennifer Ehle'), 1),\n",
       " (('Eloise Mumford', 'Victor Rasuk'), 1),\n",
       " (('Jamie Dornan', 'Jennifer Ehle'), 1),\n",
       " (('Jamie Dornan', 'Victor Rasuk'), 1),\n",
       " (('Jennifer Ehle', 'Victor Rasuk'), 1),\n",
       " (('Brad Pitt', 'Christian Bale'), 1),\n",
       " (('Brad Pitt', 'Melissa Leo'), 1),\n",
       " (('Brad Pitt', 'Ryan Gosling'), 1),\n",
       " (('Brad Pitt', 'Steve Carell'), 1),\n",
       " (('Christian Bale', 'Ryan Gosling'), 1),\n",
       " (('Christian Bale', 'Steve Carell'), 1),\n",
       " (('Melissa Leo', 'Ryan Gosling'), 1),\n",
       " (('Melissa Leo', 'Steve Carell'), 1),\n",
       " (('Jeremy Renner', 'Rebecca Ferguson'), 1),\n",
       " (('Jeremy Renner', 'Ving Rhames'), 1),\n",
       " (('Rebecca Ferguson', 'Simon Pegg'), 1),\n",
       " (('Rebecca Ferguson', 'Tom Cruise'), 1),\n",
       " (('Rebecca Ferguson', 'Ving Rhames'), 1),\n",
       " (('Simon Pegg', 'Ving Rhames'), 1),\n",
       " (('Amanda Seyfried', 'Giovanni Ribisi'), 1),\n",
       " (('Amanda Seyfried', 'Jessica Barth'), 1),\n",
       " (('Amanda Seyfried', 'Mark Wahlberg'), 1),\n",
       " (('Amanda Seyfried', 'Seth MacFarlane'), 1),\n",
       " (('Giovanni Ribisi', 'Jessica Barth'), 1),\n",
       " (('Jessica Barth', 'Mark Wahlberg'), 1),\n",
       " (('Jessica Barth', 'Seth MacFarlane'), 1),\n",
       " (('Colin Firth', 'Mark Strong'), 1),\n",
       " (('Colin Firth', 'Michael Caine'), 1),\n",
       " (('Colin Firth', 'Samuel L. Jackson'), 1),\n",
       " (('Colin Firth', 'Taron Egerton'), 1),\n",
       " (('Mark Strong', 'Michael Caine'), 1),\n",
       " (('Mark Strong', 'Samuel L. Jackson'), 1),\n",
       " (('Mark Strong', 'Taron Egerton'), 1),\n",
       " (('Michael Caine', 'Samuel L. Jackson'), 1),\n",
       " (('Michael Caine', 'Taron Egerton'), 1),\n",
       " (('Samuel L. Jackson', 'Taron Egerton'), 1),\n",
       " (('John Slattery', 'Liev Schreiber'), 1),\n",
       " (('John Slattery', 'Mark Ruffalo'), 1),\n",
       " (('John Slattery', 'Michael Keaton'), 1),\n",
       " (('John Slattery', 'Rachel McAdams'), 1),\n",
       " (('Liev Schreiber', 'Mark Ruffalo'), 1),\n",
       " (('Liev Schreiber', 'Michael Keaton'), 1),\n",
       " (('Liev Schreiber', 'Rachel McAdams'), 1),\n",
       " (('Mark Ruffalo', 'Michael Keaton'), 1),\n",
       " (('Mark Ruffalo', 'Rachel McAdams'), 1),\n",
       " (('Michael Keaton', 'Rachel McAdams'), 1),\n",
       " (('Aidan Gillen', \"Dylan O'Brien\"), 1),\n",
       " (('Aidan Gillen', 'Giancarlo Esposito'), 1),\n",
       " (('Aidan Gillen', 'Kaya Scodelario'), 1),\n",
       " (('Aidan Gillen', 'Thomas Brodie-Sangster'), 1),\n",
       " ((\"Dylan O'Brien\", 'Giancarlo Esposito'), 1),\n",
       " ((\"Dylan O'Brien\", 'Thomas Brodie-Sangster'), 1),\n",
       " (('Giancarlo Esposito', 'Kaya Scodelario'), 1),\n",
       " (('Giancarlo Esposito', 'Thomas Brodie-Sangster'), 1),\n",
       " (('Kaya Scodelario', 'Thomas Brodie-Sangster'), 1),\n",
       " (('Dev Patel', 'Jose Pablo Cantillo'), 1),\n",
       " (('Dev Patel', 'Ninja'), 1),\n",
       " (('Dev Patel', 'Sharlto Copley'), 1),\n",
       " (('Dev Patel', 'Yolandi Visser'), 1),\n",
       " (('Jose Pablo Cantillo', 'Ninja'), 1),\n",
       " (('Jose Pablo Cantillo', 'Sharlto Copley'), 1),\n",
       " (('Jose Pablo Cantillo', 'Yolandi Visser'), 1),\n",
       " (('Ninja', 'Sharlto Copley'), 1),\n",
       " (('Ninja', 'Yolandi Visser'), 1),\n",
       " (('Sharlto Copley', 'Yolandi Visser'), 1),\n",
       " (('Anna Kendrick', 'Hailee Steinfeld'), 1),\n",
       " (('Brittany Snow', 'Hailee Steinfeld'), 1),\n",
       " (('Hailee Steinfeld', 'Rebel Wilson'), 1),\n",
       " (('Hailee Steinfeld', 'Skylar Astin'), 1),\n",
       " (('Alan Alda', 'Amy Ryan'), 1),\n",
       " (('Alan Alda', 'Mark Rylance'), 1),\n",
       " (('Alan Alda', 'Sebastian Koch'), 1),\n",
       " (('Alan Alda', 'Tom Hanks'), 1),\n",
       " (('Amy Ryan', 'Mark Rylance'), 1),\n",
       " (('Amy Ryan', 'Sebastian Koch'), 1),\n",
       " (('Amy Ryan', 'Tom Hanks'), 1),\n",
       " (('Mark Rylance', 'Sebastian Koch'), 1),\n",
       " (('Mark Rylance', 'Tom Hanks'), 1),\n",
       " (('Sebastian Koch', 'Tom Hanks'), 1),\n",
       " (('Amy Ryan', 'Dylan Minnette'), 1),\n",
       " (('Amy Ryan', 'Jack Black'), 1),\n",
       " (('Amy Ryan', 'Jillian Bell'), 1),\n",
       " (('Amy Ryan', 'Odeya Rush'), 1),\n",
       " (('Dylan Minnette', 'Jack Black'), 1),\n",
       " (('Dylan Minnette', 'Jillian Bell'), 1),\n",
       " (('Dylan Minnette', 'Odeya Rush'), 1),\n",
       " (('Jack Black', 'Jillian Bell'), 1),\n",
       " (('Jack Black', 'Odeya Rush'), 1),\n",
       " (('Jillian Bell', 'Odeya Rush'), 1),\n",
       " (('Brie Larson', 'Jacob Tremblay'), 1),\n",
       " (('Brie Larson', 'Joan Allen'), 1),\n",
       " (('Brie Larson', 'Sean Bridgers'), 1),\n",
       " (('Brie Larson', 'William H. Macy'), 1),\n",
       " (('Jacob Tremblay', 'Joan Allen'), 1),\n",
       " (('Jacob Tremblay', 'Sean Bridgers'), 1),\n",
       " (('Jacob Tremblay', 'William H. Macy'), 1),\n",
       " ...]"
      ]
     },
     "metadata": {},
     "output_type": "display_data"
    },
    {
     "data": {
      "text/plain": [
       "8"
      ]
     },
     "metadata": {},
     "output_type": "display_data"
    }
   ],
   "source": [
    "import itertools\n",
    "actors = []\n",
    "data.cast.apply(lambda cast: [actors.append(pair) for pair in itertools.combinations(sorted(cast.split('|')), 2)])\n",
    "\n",
    "d = collections.Counter(actors)\n",
    "display(d.most_common())\n",
    "\n",
    "display(len(data[(data.cast.str.contains('Rupert Grint')) & data.cast.str.contains('Emma Watson')]))\n",
    "\n",
    "#answer = collections.Counter(actors).most_common()[0][0]\n",
    "#display(answer)\n",
    "\n",
    "#answer_ls['35. Какие актеры чаще всего снимаются в одном фильме вместе'] = answer"
   ]
  },
  {
   "cell_type": "code",
   "execution_count": 22,
   "metadata": {},
   "outputs": [
    {
     "data": {
      "text/plain": [
       "[('1', '0')]"
      ]
     },
     "execution_count": 22,
     "metadata": {},
     "output_type": "execute_result"
    }
   ],
   "source": [
    "list(itertools.combinations('10', 2))"
   ]
  },
  {
   "cell_type": "markdown",
   "metadata": {},
   "source": [
    "# 36. У какого из режиссеров выше вероятность выпустить фильм в прибыли? (5 баллов)101\n",
    "Варианты ответа:\n",
    "1. Quentin Tarantino\n",
    "2. Steven Soderbergh\n",
    "3. Robert Rodriguez\n",
    "4. Christopher Nolan\n",
    "5. Clint Eastwood"
   ]
  },
  {
   "cell_type": "code",
   "execution_count": 221,
   "metadata": {},
   "outputs": [
    {
     "data": {
      "text/plain": [
       "0.8571428571428571"
      ]
     },
     "metadata": {},
     "output_type": "display_data"
    },
    {
     "data": {
      "text/plain": [
       "0.7692307692307693"
      ]
     },
     "metadata": {},
     "output_type": "display_data"
    },
    {
     "data": {
      "text/plain": [
       "0.7272727272727273"
      ]
     },
     "metadata": {},
     "output_type": "display_data"
    },
    {
     "data": {
      "text/plain": [
       "1.0"
      ]
     },
     "metadata": {},
     "output_type": "display_data"
    },
    {
     "data": {
      "text/plain": [
       "0.8333333333333334"
      ]
     },
     "metadata": {},
     "output_type": "display_data"
    }
   ],
   "source": [
    "directors = []\n",
    "film_id = []\n",
    "def add_director(d, f):\n",
    "    directors.append(d)\n",
    "    film_id.append(f)\n",
    "    \n",
    "data.apply(lambda row: [add_director(d, row.imdb_id) for d in row.director.split('|')], axis = 1)\n",
    "data['income'] = data.apply(lambda row: row.revenue - row.budget, axis = 1)\n",
    "data['is_profitable'] = data.income.apply(lambda money: int(money > 0))\n",
    "\n",
    "df_directors = pd.DataFrame({'ceo': directors, 'imdb_id': film_id})\n",
    "df_directors = df_directors.merge(data, on = 'imdb_id', how = 'left')\n",
    "\n",
    "profitable_films = df_directors.groupby('ceo')['is_profitable'].sum().to_dict()\n",
    "films = df_directors.groupby('ceo')['is_profitable'].count().to_dict()\n",
    "\n",
    "success_factor = {}\n",
    "[success_factor.setdefault(director, profitable_films[director] / films[director]) for director in films.keys()]\n",
    "\n",
    "display(success_factor['Quentin Tarantino'])\n",
    "display(success_factor['Steven Soderbergh'])\n",
    "display(success_factor['Robert Rodriguez'])\n",
    "display(success_factor['Christopher Nolan'])\n",
    "display(success_factor['Clint Eastwood'])\n",
    "\n",
    "answer_ls['36. У какого из режиссеров выше вероятность выпустить фильм в прибыли?'] = 'Christopher Nolan'"
   ]
  },
  {
   "cell_type": "markdown",
   "metadata": {},
   "source": [
    "# Submission"
   ]
  },
  {
   "cell_type": "code",
   "execution_count": 222,
   "metadata": {},
   "outputs": [
    {
     "data": {
      "text/plain": [
       "35"
      ]
     },
     "execution_count": 222,
     "metadata": {},
     "output_type": "execute_result"
    }
   ],
   "source": [
    "len(answer_ls)"
   ]
  },
  {
   "cell_type": "code",
   "execution_count": 233,
   "metadata": {},
   "outputs": [
    {
     "data": {
      "text/plain": [
       "{'1. У какого фильма из списка самый большой бюджет?': array([['tt1032751', \"The Warrior's Way\"]], dtype=object),\n",
       " '2. Какой из фильмов самый длительный (в минутах)': array([['tt0279111', 'Gods and Generals']], dtype=object),\n",
       " '3. Какой из фильмов самый короткий (в минутах)': array([['tt1449283', 'Winnie the Pooh']], dtype=object),\n",
       " '4. Средняя длительность фильма?': 109,\n",
       " '5. Средняя длительность фильма по медиане?': 106,\n",
       " '6. Какой самый прибыльный фильм?': array([['tt0499549', 'Avatar']], dtype=object),\n",
       " '7. Какой фильм самый убыточный?': array([['tt1032751', \"The Warrior's Way\"]], dtype=object),\n",
       " '8. Сколько всего фильмов в прибыли?': 1478,\n",
       " '9. Самый прибыльный фильм в 2008 году?': array([['tt0468569', 'The Dark Knight']], dtype=object),\n",
       " '10. Самый убыточный фильм за период с 2012 по 2014 (включительно)?': array([['tt1210819', 'The Lone Ranger']], dtype=object),\n",
       " '11. Какого жанра фильмов больше всего?': 'Drama',\n",
       " '12. Какого жанра среди прибыльных фильмов больше всего?': 'Drama',\n",
       " '13. Кто из режиссеров снял больше всего фильмов?': 'Steven Soderbergh',\n",
       " '14. Кто из режиссеров снял больше всего Прибыльных фильмов?': 'Ridley Scott',\n",
       " '15. Кто из режиссеров принес больше всего прибыли?': 'Peter Jackson',\n",
       " '16. Какой актер принес больше всего прибыли?': 'Emma Watson',\n",
       " '17. Какой актер принес меньше всего прибыли в 2012 году?': 'Kirsten Dunst',\n",
       " '18. Какой актер снялся в большем количестве высокобюджетных фильмов?': 'Matt Damon',\n",
       " '19. В фильмах какого жанра больше всего снимался Nicolas Cage?': 'Action',\n",
       " '20. Какая студия сняла больше всего фильмов?': 'Universal Pictures',\n",
       " '21. Какая студия сняла больше всего фильмов в 2015 году?': 'Warner Bros.',\n",
       " '22. Какая студия заработала больше всего денег в жанре комедий за все время?': 'Universal Pictures',\n",
       " '23. Какая студия заработала больше всего денег в 2012 году?': 'Columbia Pictures',\n",
       " '24. Самый убыточный фильм от Paramount Pictures': 'K-19: The Widowmaker',\n",
       " '25. Какой Самый прибыльный год (заработали больше всего)?': 2015,\n",
       " '27. В каком месяце за все годы суммарно вышло больше всего фильмов?': 'September',\n",
       " '28. Сколько суммарно вышло фильмов летом? (за июнь, июль, август)': 450,\n",
       " '29. Какой режисер выпускает (суммарно по годам) больше всего фильмов зимой?': 'Peter Jackson',\n",
       " '30. Какой месяц чаще всего по годам самый прибыльный?': 'June',\n",
       " '31. Названия фильмов какой студии в среднем самые длинные по количеству символов?': 'Four By Two Productions',\n",
       " '32. Названия фильмов какой студии в среднем самые длинные по количеству слов?': 'Four By Two Productions',\n",
       " '33. Сколько разных слов используется в названиях фильмов?(без учета регистра)': 2461,\n",
       " '34. Какие фильмы входят в 1 процент лучших по рейтингу?': 'Inside Out, Gone Girl, 12 Years a Slave',\n",
       " '35. Какие актеры чаще всего снимаются в одном фильме вместе': ('Daniel Radcliffe',\n",
       "  'Rupert Grint'),\n",
       " '36. У какого из режиссеров выше вероятность выпустить фильм в прибыли?': 'Christopher Nolan',\n",
       " '26. Какой Самый прибыльный год для студии Warner Bros?': 2014}"
      ]
     },
     "metadata": {},
     "output_type": "display_data"
    }
   ],
   "source": [
    "display(answer_ls)"
   ]
  },
  {
   "cell_type": "code",
   "execution_count": null,
   "metadata": {},
   "outputs": [],
   "source": []
  }
 ],
 "metadata": {
  "kernelspec": {
   "display_name": "Python 3",
   "language": "python",
   "name": "python3"
  },
  "language_info": {
   "codemirror_mode": {
    "name": "ipython",
    "version": 3
   },
   "file_extension": ".py",
   "mimetype": "text/x-python",
   "name": "python",
   "nbconvert_exporter": "python",
   "pygments_lexer": "ipython3",
   "version": "3.6.5"
  }
 },
 "nbformat": 4,
 "nbformat_minor": 4
}
