{
 "cells": [
  {
   "cell_type": "code",
   "execution_count": 41,
   "metadata": {
    "_cell_guid": "b1076dfc-b9ad-4769-8c92-a6c4dae69d19",
    "_uuid": "8f2839f25d086af736a60e9eeb907d3b93b6e0e5"
   },
   "outputs": [],
   "source": [
    "import numpy as np\n",
    "import pandas as pd\n",
    "import seaborn as sns\n",
    "import matplotlib.pyplot as plt\n",
    "import os\n",
    "import collections\n",
    "import calendar"
   ]
  },
  {
   "cell_type": "code",
   "execution_count": 226,
   "metadata": {},
   "outputs": [
    {
     "data": {
      "text/html": [
       "<div>\n",
       "<style scoped>\n",
       "    .dataframe tbody tr th:only-of-type {\n",
       "        vertical-align: middle;\n",
       "    }\n",
       "\n",
       "    .dataframe tbody tr th {\n",
       "        vertical-align: top;\n",
       "    }\n",
       "\n",
       "    .dataframe thead th {\n",
       "        text-align: right;\n",
       "    }\n",
       "</style>\n",
       "<table border=\"1\" class=\"dataframe\">\n",
       "  <thead>\n",
       "    <tr style=\"text-align: right;\">\n",
       "      <th></th>\n",
       "      <th>imdb_id</th>\n",
       "      <th>popularity</th>\n",
       "      <th>budget</th>\n",
       "      <th>revenue</th>\n",
       "      <th>original_title</th>\n",
       "      <th>cast</th>\n",
       "      <th>director</th>\n",
       "      <th>tagline</th>\n",
       "      <th>overview</th>\n",
       "      <th>runtime</th>\n",
       "      <th>genres</th>\n",
       "      <th>production_companies</th>\n",
       "      <th>release_date</th>\n",
       "      <th>vote_count</th>\n",
       "      <th>vote_average</th>\n",
       "      <th>release_year</th>\n",
       "    </tr>\n",
       "  </thead>\n",
       "  <tbody>\n",
       "    <tr>\n",
       "      <th>0</th>\n",
       "      <td>tt0369610</td>\n",
       "      <td>32.985763</td>\n",
       "      <td>150000000</td>\n",
       "      <td>1513528810</td>\n",
       "      <td>Jurassic World</td>\n",
       "      <td>Chris Pratt|Bryce Dallas Howard|Irrfan Khan|Vi...</td>\n",
       "      <td>Colin Trevorrow</td>\n",
       "      <td>The park is open.</td>\n",
       "      <td>Twenty-two years after the events of Jurassic ...</td>\n",
       "      <td>124</td>\n",
       "      <td>Action|Adventure|Science Fiction|Thriller</td>\n",
       "      <td>Universal Studios|Amblin Entertainment|Legenda...</td>\n",
       "      <td>6/9/2015</td>\n",
       "      <td>5562</td>\n",
       "      <td>6.5</td>\n",
       "      <td>2015</td>\n",
       "    </tr>\n",
       "    <tr>\n",
       "      <th>1</th>\n",
       "      <td>tt1392190</td>\n",
       "      <td>28.419936</td>\n",
       "      <td>150000000</td>\n",
       "      <td>378436354</td>\n",
       "      <td>Mad Max: Fury Road</td>\n",
       "      <td>Tom Hardy|Charlize Theron|Hugh Keays-Byrne|Nic...</td>\n",
       "      <td>George Miller</td>\n",
       "      <td>What a Lovely Day.</td>\n",
       "      <td>An apocalyptic story set in the furthest reach...</td>\n",
       "      <td>120</td>\n",
       "      <td>Action|Adventure|Science Fiction|Thriller</td>\n",
       "      <td>Village Roadshow Pictures|Kennedy Miller Produ...</td>\n",
       "      <td>5/13/2015</td>\n",
       "      <td>6185</td>\n",
       "      <td>7.1</td>\n",
       "      <td>2015</td>\n",
       "    </tr>\n",
       "    <tr>\n",
       "      <th>2</th>\n",
       "      <td>tt2908446</td>\n",
       "      <td>13.112507</td>\n",
       "      <td>110000000</td>\n",
       "      <td>295238201</td>\n",
       "      <td>Insurgent</td>\n",
       "      <td>Shailene Woodley|Theo James|Kate Winslet|Ansel...</td>\n",
       "      <td>Robert Schwentke</td>\n",
       "      <td>One Choice Can Destroy You</td>\n",
       "      <td>Beatrice Prior must confront her inner demons ...</td>\n",
       "      <td>119</td>\n",
       "      <td>Adventure|Science Fiction|Thriller</td>\n",
       "      <td>Summit Entertainment|Mandeville Films|Red Wago...</td>\n",
       "      <td>3/18/2015</td>\n",
       "      <td>2480</td>\n",
       "      <td>6.3</td>\n",
       "      <td>2015</td>\n",
       "    </tr>\n",
       "    <tr>\n",
       "      <th>3</th>\n",
       "      <td>tt2488496</td>\n",
       "      <td>11.173104</td>\n",
       "      <td>200000000</td>\n",
       "      <td>2068178225</td>\n",
       "      <td>Star Wars: The Force Awakens</td>\n",
       "      <td>Harrison Ford|Mark Hamill|Carrie Fisher|Adam D...</td>\n",
       "      <td>J.J. Abrams</td>\n",
       "      <td>Every generation has a story.</td>\n",
       "      <td>Thirty years after defeating the Galactic Empi...</td>\n",
       "      <td>136</td>\n",
       "      <td>Action|Adventure|Science Fiction|Fantasy</td>\n",
       "      <td>Lucasfilm|Truenorth Productions|Bad Robot</td>\n",
       "      <td>12/15/2015</td>\n",
       "      <td>5292</td>\n",
       "      <td>7.5</td>\n",
       "      <td>2015</td>\n",
       "    </tr>\n",
       "    <tr>\n",
       "      <th>4</th>\n",
       "      <td>tt2820852</td>\n",
       "      <td>9.335014</td>\n",
       "      <td>190000000</td>\n",
       "      <td>1506249360</td>\n",
       "      <td>Furious 7</td>\n",
       "      <td>Vin Diesel|Paul Walker|Jason Statham|Michelle ...</td>\n",
       "      <td>James Wan</td>\n",
       "      <td>Vengeance Hits Home</td>\n",
       "      <td>Deckard Shaw seeks revenge against Dominic Tor...</td>\n",
       "      <td>137</td>\n",
       "      <td>Action|Crime|Thriller</td>\n",
       "      <td>Universal Pictures|Original Film|Media Rights ...</td>\n",
       "      <td>4/1/2015</td>\n",
       "      <td>2947</td>\n",
       "      <td>7.3</td>\n",
       "      <td>2015</td>\n",
       "    </tr>\n",
       "  </tbody>\n",
       "</table>\n",
       "</div>"
      ],
      "text/plain": [
       "     imdb_id  popularity     budget     revenue                original_title  \\\n",
       "0  tt0369610   32.985763  150000000  1513528810                Jurassic World   \n",
       "1  tt1392190   28.419936  150000000   378436354            Mad Max: Fury Road   \n",
       "2  tt2908446   13.112507  110000000   295238201                     Insurgent   \n",
       "3  tt2488496   11.173104  200000000  2068178225  Star Wars: The Force Awakens   \n",
       "4  tt2820852    9.335014  190000000  1506249360                     Furious 7   \n",
       "\n",
       "                                                cast          director  \\\n",
       "0  Chris Pratt|Bryce Dallas Howard|Irrfan Khan|Vi...   Colin Trevorrow   \n",
       "1  Tom Hardy|Charlize Theron|Hugh Keays-Byrne|Nic...     George Miller   \n",
       "2  Shailene Woodley|Theo James|Kate Winslet|Ansel...  Robert Schwentke   \n",
       "3  Harrison Ford|Mark Hamill|Carrie Fisher|Adam D...       J.J. Abrams   \n",
       "4  Vin Diesel|Paul Walker|Jason Statham|Michelle ...         James Wan   \n",
       "\n",
       "                         tagline  \\\n",
       "0              The park is open.   \n",
       "1             What a Lovely Day.   \n",
       "2     One Choice Can Destroy You   \n",
       "3  Every generation has a story.   \n",
       "4            Vengeance Hits Home   \n",
       "\n",
       "                                            overview  runtime  \\\n",
       "0  Twenty-two years after the events of Jurassic ...      124   \n",
       "1  An apocalyptic story set in the furthest reach...      120   \n",
       "2  Beatrice Prior must confront her inner demons ...      119   \n",
       "3  Thirty years after defeating the Galactic Empi...      136   \n",
       "4  Deckard Shaw seeks revenge against Dominic Tor...      137   \n",
       "\n",
       "                                      genres  \\\n",
       "0  Action|Adventure|Science Fiction|Thriller   \n",
       "1  Action|Adventure|Science Fiction|Thriller   \n",
       "2         Adventure|Science Fiction|Thriller   \n",
       "3   Action|Adventure|Science Fiction|Fantasy   \n",
       "4                      Action|Crime|Thriller   \n",
       "\n",
       "                                production_companies release_date  vote_count  \\\n",
       "0  Universal Studios|Amblin Entertainment|Legenda...     6/9/2015        5562   \n",
       "1  Village Roadshow Pictures|Kennedy Miller Produ...    5/13/2015        6185   \n",
       "2  Summit Entertainment|Mandeville Films|Red Wago...    3/18/2015        2480   \n",
       "3          Lucasfilm|Truenorth Productions|Bad Robot   12/15/2015        5292   \n",
       "4  Universal Pictures|Original Film|Media Rights ...     4/1/2015        2947   \n",
       "\n",
       "   vote_average  release_year  \n",
       "0           6.5          2015  \n",
       "1           7.1          2015  \n",
       "2           6.3          2015  \n",
       "3           7.5          2015  \n",
       "4           7.3          2015  "
      ]
     },
     "execution_count": 226,
     "metadata": {},
     "output_type": "execute_result"
    }
   ],
   "source": [
    "data = pd.read_csv('data.csv')\n",
    "data.head(5)"
   ]
  },
  {
   "cell_type": "code",
   "execution_count": 3,
   "metadata": {},
   "outputs": [
    {
     "data": {
      "text/plain": [
       "1890"
      ]
     },
     "execution_count": 3,
     "metadata": {},
     "output_type": "execute_result"
    }
   ],
   "source": [
    "len(data)"
   ]
  },
  {
   "cell_type": "markdown",
   "metadata": {},
   "source": [
    "# Предобработка датасета"
   ]
  },
  {
   "cell_type": "code",
   "execution_count": 4,
   "metadata": {},
   "outputs": [],
   "source": [
    "answer_ls = {} # создадим список с ответами. сюда будем добавлять ответы по мере прохождения теста\n",
    "# сюда можем вписать создание новых колонок в датасете"
   ]
  },
  {
   "cell_type": "markdown",
   "metadata": {},
   "source": [
    "# 1. У какого фильма из списка самый большой бюджет?\n",
    "Варианты ответов:\n",
    "1. The Dark Knight Rises (tt1345836)\n",
    "2. Spider-Man 3 (tt0413300)\n",
    "3. Avengers: Age of Ultron (tt2395427)\n",
    "4. The Warrior's Way\t(tt1032751)\n",
    "5. Pirates of the Caribbean: On Stranger Tides (tt1298650)"
   ]
  },
  {
   "cell_type": "code",
   "execution_count": 5,
   "metadata": {},
   "outputs": [
    {
     "data": {
      "text/html": [
       "<div>\n",
       "<style scoped>\n",
       "    .dataframe tbody tr th:only-of-type {\n",
       "        vertical-align: middle;\n",
       "    }\n",
       "\n",
       "    .dataframe tbody tr th {\n",
       "        vertical-align: top;\n",
       "    }\n",
       "\n",
       "    .dataframe thead th {\n",
       "        text-align: right;\n",
       "    }\n",
       "</style>\n",
       "<table border=\"1\" class=\"dataframe\">\n",
       "  <thead>\n",
       "    <tr style=\"text-align: right;\">\n",
       "      <th></th>\n",
       "      <th>imdb_id</th>\n",
       "      <th>original_title</th>\n",
       "    </tr>\n",
       "  </thead>\n",
       "  <tbody>\n",
       "    <tr>\n",
       "      <th>491</th>\n",
       "      <td>tt1032751</td>\n",
       "      <td>The Warrior's Way</td>\n",
       "    </tr>\n",
       "  </tbody>\n",
       "</table>\n",
       "</div>"
      ],
      "text/plain": [
       "       imdb_id     original_title\n",
       "491  tt1032751  The Warrior's Way"
      ]
     },
     "metadata": {},
     "output_type": "display_data"
    }
   ],
   "source": [
    "answer = data[data.budget == data.budget.max()][['imdb_id', 'original_title']]\n",
    "display(answer)\n",
    "\n",
    "answer_ls['1. У какого фильма из списка самый большой бюджет?'] = answer.values"
   ]
  },
  {
   "cell_type": "markdown",
   "metadata": {},
   "source": [
    "# 2. Какой из фильмов самый длительный (в минутах)\n",
    "1. The Lord of the Rings: The Return of the King\t(tt0167260)\n",
    "2. Gods and Generals\t(tt0279111)\n",
    "3. King Kong\t(tt0360717)\n",
    "4. Pearl Harbor\t(tt0213149)\n",
    "5. Alexander\t(tt0346491)"
   ]
  },
  {
   "cell_type": "code",
   "execution_count": 6,
   "metadata": {},
   "outputs": [
    {
     "data": {
      "text/html": [
       "<div>\n",
       "<style scoped>\n",
       "    .dataframe tbody tr th:only-of-type {\n",
       "        vertical-align: middle;\n",
       "    }\n",
       "\n",
       "    .dataframe tbody tr th {\n",
       "        vertical-align: top;\n",
       "    }\n",
       "\n",
       "    .dataframe thead th {\n",
       "        text-align: right;\n",
       "    }\n",
       "</style>\n",
       "<table border=\"1\" class=\"dataframe\">\n",
       "  <thead>\n",
       "    <tr style=\"text-align: right;\">\n",
       "      <th></th>\n",
       "      <th>imdb_id</th>\n",
       "      <th>original_title</th>\n",
       "    </tr>\n",
       "  </thead>\n",
       "  <tbody>\n",
       "    <tr>\n",
       "      <th>1158</th>\n",
       "      <td>tt0279111</td>\n",
       "      <td>Gods and Generals</td>\n",
       "    </tr>\n",
       "  </tbody>\n",
       "</table>\n",
       "</div>"
      ],
      "text/plain": [
       "        imdb_id     original_title\n",
       "1158  tt0279111  Gods and Generals"
      ]
     },
     "metadata": {},
     "output_type": "display_data"
    }
   ],
   "source": [
    "answer = data[data.runtime == data.runtime.max()][['imdb_id', 'original_title']]\n",
    "display(answer)\n",
    "\n",
    "answer_ls['2. Какой из фильмов самый длительный (в минутах)'] = answer.values"
   ]
  },
  {
   "cell_type": "markdown",
   "metadata": {},
   "source": [
    "# 3. Какой из фильмов самый короткий (в минутах)\n",
    "Варианты ответов:\n",
    "\n",
    "1. Home on the Range\ttt0299172\n",
    "2. The Jungle Book 2\ttt0283426\n",
    "3. Winnie the Pooh\ttt1449283\n",
    "4. Corpse Bride\ttt0121164\n",
    "5. Hoodwinked!\ttt0443536"
   ]
  },
  {
   "cell_type": "code",
   "execution_count": 7,
   "metadata": {},
   "outputs": [
    {
     "data": {
      "text/html": [
       "<div>\n",
       "<style scoped>\n",
       "    .dataframe tbody tr th:only-of-type {\n",
       "        vertical-align: middle;\n",
       "    }\n",
       "\n",
       "    .dataframe tbody tr th {\n",
       "        vertical-align: top;\n",
       "    }\n",
       "\n",
       "    .dataframe thead th {\n",
       "        text-align: right;\n",
       "    }\n",
       "</style>\n",
       "<table border=\"1\" class=\"dataframe\">\n",
       "  <thead>\n",
       "    <tr style=\"text-align: right;\">\n",
       "      <th></th>\n",
       "      <th>imdb_id</th>\n",
       "      <th>original_title</th>\n",
       "    </tr>\n",
       "  </thead>\n",
       "  <tbody>\n",
       "    <tr>\n",
       "      <th>769</th>\n",
       "      <td>tt1449283</td>\n",
       "      <td>Winnie the Pooh</td>\n",
       "    </tr>\n",
       "  </tbody>\n",
       "</table>\n",
       "</div>"
      ],
      "text/plain": [
       "       imdb_id   original_title\n",
       "769  tt1449283  Winnie the Pooh"
      ]
     },
     "metadata": {},
     "output_type": "display_data"
    }
   ],
   "source": [
    "answer = data[data.runtime == data.runtime.min()][['imdb_id', 'original_title']]\n",
    "display(answer)\n",
    "\n",
    "answer_ls['3. Какой из фильмов самый короткий (в минутах)'] = answer.values"
   ]
  },
  {
   "cell_type": "markdown",
   "metadata": {},
   "source": [
    "# 4. Средняя длительность фильма?\n",
    "\n",
    "Варианты ответов:\n",
    "1. 115\n",
    "2. 110\n",
    "3. 105\n",
    "4. 120\n",
    "5. 100\n"
   ]
  },
  {
   "cell_type": "code",
   "execution_count": 8,
   "metadata": {},
   "outputs": [
    {
     "data": {
      "text/plain": [
       "109"
      ]
     },
     "metadata": {},
     "output_type": "display_data"
    }
   ],
   "source": [
    "answer = int(data.runtime.mean())\n",
    "display(answer)\n",
    "\n",
    "answer_ls['4. Средняя длительность фильма?'] = answer"
   ]
  },
  {
   "cell_type": "markdown",
   "metadata": {},
   "source": [
    "# 5. Средняя длительность фильма по медиане?\n",
    "Варианты ответов:\n",
    "1. 106\n",
    "2. 112\n",
    "3. 101\n",
    "4. 120\n",
    "5. 115\n",
    "\n",
    "\n"
   ]
  },
  {
   "cell_type": "code",
   "execution_count": 9,
   "metadata": {},
   "outputs": [
    {
     "data": {
      "text/plain": [
       "106"
      ]
     },
     "metadata": {},
     "output_type": "display_data"
    }
   ],
   "source": [
    "answer = int(data.runtime.median())\n",
    "display(answer)\n",
    "\n",
    "answer_ls['5. Средняя длительность фильма по медиане?'] = answer"
   ]
  },
  {
   "cell_type": "markdown",
   "metadata": {},
   "source": [
    "# 6. Какой самый прибыльный фильм?\n",
    "Варианты ответов:\n",
    "1. The Avengers\ttt0848228\n",
    "2. Minions\ttt2293640\n",
    "3. Star Wars: The Force Awakens\ttt2488496\n",
    "4. Furious 7\ttt2820852\n",
    "5. Avatar\ttt0499549"
   ]
  },
  {
   "cell_type": "code",
   "execution_count": 10,
   "metadata": {},
   "outputs": [
    {
     "data": {
      "text/html": [
       "<div>\n",
       "<style scoped>\n",
       "    .dataframe tbody tr th:only-of-type {\n",
       "        vertical-align: middle;\n",
       "    }\n",
       "\n",
       "    .dataframe tbody tr th {\n",
       "        vertical-align: top;\n",
       "    }\n",
       "\n",
       "    .dataframe thead th {\n",
       "        text-align: right;\n",
       "    }\n",
       "</style>\n",
       "<table border=\"1\" class=\"dataframe\">\n",
       "  <thead>\n",
       "    <tr style=\"text-align: right;\">\n",
       "      <th></th>\n",
       "      <th>imdb_id</th>\n",
       "      <th>original_title</th>\n",
       "    </tr>\n",
       "  </thead>\n",
       "  <tbody>\n",
       "    <tr>\n",
       "      <th>239</th>\n",
       "      <td>tt0499549</td>\n",
       "      <td>Avatar</td>\n",
       "    </tr>\n",
       "  </tbody>\n",
       "</table>\n",
       "</div>"
      ],
      "text/plain": [
       "       imdb_id original_title\n",
       "239  tt0499549         Avatar"
      ]
     },
     "metadata": {},
     "output_type": "display_data"
    }
   ],
   "source": [
    "answer = data[(data.revenue - data.budget) == (data.revenue - data.budget).max()][['imdb_id', 'original_title']]\n",
    "display(answer)\n",
    "\n",
    "answer_ls['6. Какой самый прибыльный фильм?'] = answer.values"
   ]
  },
  {
   "cell_type": "markdown",
   "metadata": {},
   "source": [
    "# 7. Какой фильм самый убыточный?\n",
    "Варианты ответов:\n",
    "1. Supernova tt0134983\n",
    "2. The Warrior's Way tt1032751\n",
    "3. Flushed Away\ttt0424095\n",
    "4. The Adventures of Pluto Nash\ttt0180052\n",
    "5. The Lone Ranger\ttt1210819"
   ]
  },
  {
   "cell_type": "code",
   "execution_count": 11,
   "metadata": {},
   "outputs": [
    {
     "data": {
      "text/html": [
       "<div>\n",
       "<style scoped>\n",
       "    .dataframe tbody tr th:only-of-type {\n",
       "        vertical-align: middle;\n",
       "    }\n",
       "\n",
       "    .dataframe tbody tr th {\n",
       "        vertical-align: top;\n",
       "    }\n",
       "\n",
       "    .dataframe thead th {\n",
       "        text-align: right;\n",
       "    }\n",
       "</style>\n",
       "<table border=\"1\" class=\"dataframe\">\n",
       "  <thead>\n",
       "    <tr style=\"text-align: right;\">\n",
       "      <th></th>\n",
       "      <th>imdb_id</th>\n",
       "      <th>original_title</th>\n",
       "    </tr>\n",
       "  </thead>\n",
       "  <tbody>\n",
       "    <tr>\n",
       "      <th>491</th>\n",
       "      <td>tt1032751</td>\n",
       "      <td>The Warrior's Way</td>\n",
       "    </tr>\n",
       "  </tbody>\n",
       "</table>\n",
       "</div>"
      ],
      "text/plain": [
       "       imdb_id     original_title\n",
       "491  tt1032751  The Warrior's Way"
      ]
     },
     "metadata": {},
     "output_type": "display_data"
    }
   ],
   "source": [
    "answer = data[(data.revenue - data.budget) == (data.revenue - data.budget).min()][['imdb_id', 'original_title']]\n",
    "display(answer)\n",
    "\n",
    "answer_ls['7. Какой фильм самый убыточный?'] = answer.values"
   ]
  },
  {
   "cell_type": "markdown",
   "metadata": {},
   "source": [
    "# 8. Сколько всего фильмов в прибыли?\n",
    "Варианты ответов:\n",
    "1. 1478\n",
    "2. 1520\n",
    "3. 1241\n",
    "4. 1135\n",
    "5. 1398\n"
   ]
  },
  {
   "cell_type": "code",
   "execution_count": 12,
   "metadata": {},
   "outputs": [
    {
     "data": {
      "text/plain": [
       "1478"
      ]
     },
     "metadata": {},
     "output_type": "display_data"
    }
   ],
   "source": [
    "answer = data[data.revenue - data.budget  > 0].imdb_id.count()\n",
    "display(answer)\n",
    "\n",
    "answer_ls['8. Сколько всего фильмов в прибыли?'] = answer"
   ]
  },
  {
   "cell_type": "markdown",
   "metadata": {},
   "source": [
    "# 9. Самый прибыльный фильм в 2008 году?\n",
    "Варианты ответов:\n",
    "1. Madagascar: Escape 2 Africa\ttt0479952\n",
    "2. Iron Man\ttt0371746\n",
    "3. Kung Fu Panda\ttt0441773\n",
    "4. The Dark Knight\ttt0468569\n",
    "5. Mamma Mia!\ttt0795421"
   ]
  },
  {
   "cell_type": "code",
   "execution_count": 13,
   "metadata": {},
   "outputs": [
    {
     "data": {
      "text/html": [
       "<div>\n",
       "<style scoped>\n",
       "    .dataframe tbody tr th:only-of-type {\n",
       "        vertical-align: middle;\n",
       "    }\n",
       "\n",
       "    .dataframe tbody tr th {\n",
       "        vertical-align: top;\n",
       "    }\n",
       "\n",
       "    .dataframe thead th {\n",
       "        text-align: right;\n",
       "    }\n",
       "</style>\n",
       "<table border=\"1\" class=\"dataframe\">\n",
       "  <thead>\n",
       "    <tr style=\"text-align: right;\">\n",
       "      <th></th>\n",
       "      <th>imdb_id</th>\n",
       "      <th>original_title</th>\n",
       "    </tr>\n",
       "  </thead>\n",
       "  <tbody>\n",
       "    <tr>\n",
       "      <th>600</th>\n",
       "      <td>tt0468569</td>\n",
       "      <td>The Dark Knight</td>\n",
       "    </tr>\n",
       "  </tbody>\n",
       "</table>\n",
       "</div>"
      ],
      "text/plain": [
       "       imdb_id   original_title\n",
       "600  tt0468569  The Dark Knight"
      ]
     },
     "metadata": {},
     "output_type": "display_data"
    }
   ],
   "source": [
    "y2008 = data[data.release_year == 2008]\n",
    "answer = y2008[(y2008.revenue - y2008.budget) == (y2008.revenue - y2008.budget).max()][['imdb_id', 'original_title']]\n",
    "display(answer)\n",
    "\n",
    "answer_ls['9. Самый прибыльный фильм в 2008 году?'] = answer.values"
   ]
  },
  {
   "cell_type": "markdown",
   "metadata": {},
   "source": [
    "# 10. Самый убыточный фильм за период с 2012 по 2014 (включительно)?\n",
    "Варианты ответов:\n",
    "1. Winter's Tale\ttt1837709\n",
    "2. Stolen\ttt1656186\n",
    "3. Broken City\ttt1235522\n",
    "4. Upside Down\ttt1374992\n",
    "5. The Lone Ranger\ttt1210819\n"
   ]
  },
  {
   "cell_type": "code",
   "execution_count": 14,
   "metadata": {},
   "outputs": [
    {
     "data": {
      "text/html": [
       "<div>\n",
       "<style scoped>\n",
       "    .dataframe tbody tr th:only-of-type {\n",
       "        vertical-align: middle;\n",
       "    }\n",
       "\n",
       "    .dataframe tbody tr th {\n",
       "        vertical-align: top;\n",
       "    }\n",
       "\n",
       "    .dataframe thead th {\n",
       "        text-align: right;\n",
       "    }\n",
       "</style>\n",
       "<table border=\"1\" class=\"dataframe\">\n",
       "  <thead>\n",
       "    <tr style=\"text-align: right;\">\n",
       "      <th></th>\n",
       "      <th>imdb_id</th>\n",
       "      <th>original_title</th>\n",
       "    </tr>\n",
       "  </thead>\n",
       "  <tbody>\n",
       "    <tr>\n",
       "      <th>1246</th>\n",
       "      <td>tt1210819</td>\n",
       "      <td>The Lone Ranger</td>\n",
       "    </tr>\n",
       "  </tbody>\n",
       "</table>\n",
       "</div>"
      ],
      "text/plain": [
       "        imdb_id   original_title\n",
       "1246  tt1210819  The Lone Ranger"
      ]
     },
     "metadata": {},
     "output_type": "display_data"
    }
   ],
   "source": [
    "y20122014 = data[(data.release_year >= 2012) & (data.release_year <= 2014)]\n",
    "answer = y20122014[(y20122014.revenue - y20122014.budget) == (y20122014.revenue - y20122014.budget).min()][['imdb_id', 'original_title']]\n",
    "display(answer)\n",
    "\n",
    "answer_ls['10. Самый убыточный фильм за период с 2012 по 2014 (включительно)?'] = answer.values"
   ]
  },
  {
   "cell_type": "markdown",
   "metadata": {},
   "source": [
    "# 11. Какого жанра фильмов больше всего?\n",
    "Варианты ответов:\n",
    "1. Action\n",
    "2. Adventure\n",
    "3. Drama\n",
    "4. Comedy\n",
    "5. Thriller"
   ]
  },
  {
   "cell_type": "code",
   "execution_count": 15,
   "metadata": {},
   "outputs": [
    {
     "name": "stdout",
     "output_type": "stream",
     "text": [
      "('Drama', 782)\n"
     ]
    }
   ],
   "source": [
    "genres = []\n",
    "data.genres.apply(lambda g: [genres.append(x) for x in g.split('|')])\n",
    "answer = collections.Counter(genres).most_common()[0]\n",
    "print(answer)\n",
    "\n",
    "answer_ls['11. Какого жанра фильмов больше всего?'] = answer[0]"
   ]
  },
  {
   "cell_type": "markdown",
   "metadata": {},
   "source": [
    "# 12. Какого жанра среди прибыльных фильмов больше всего?\n",
    "Варианты ответов:\n",
    "1. Drama\n",
    "2. Comedy\n",
    "3. Action\n",
    "4. Thriller\n",
    "5. Adventure"
   ]
  },
  {
   "cell_type": "code",
   "execution_count": 16,
   "metadata": {},
   "outputs": [
    {
     "name": "stdout",
     "output_type": "stream",
     "text": [
      "('Drama', 560)\n"
     ]
    }
   ],
   "source": [
    "genres = []\n",
    "data[data.revenue - data.budget > 0].genres.apply(lambda g: [genres.append(x) for x in g.split('|')])\n",
    "answer = collections.Counter(genres).most_common()[0]\n",
    "print(answer)\n",
    "\n",
    "answer_ls['12. Какого жанра среди прибыльных фильмов больше всего?'] = answer[0]"
   ]
  },
  {
   "cell_type": "markdown",
   "metadata": {},
   "source": [
    "# 13. Кто из режиссеров снял больше всего фильмов?\n",
    "Варианты ответов:\n",
    "1. Steven Spielberg\n",
    "2. Ridley Scott \n",
    "3. Steven Soderbergh\n",
    "4. Christopher Nolan\n",
    "5. Clint Eastwood"
   ]
  },
  {
   "cell_type": "code",
   "execution_count": 17,
   "metadata": {},
   "outputs": [
    {
     "name": "stdout",
     "output_type": "stream",
     "text": [
      "('Steven Soderbergh', 13)\n"
     ]
    }
   ],
   "source": [
    "directors = []\n",
    "data.director.apply(lambda d: [directors.append(x) for x in d.split('|')])\n",
    "answer = collections.Counter(directors).most_common()[0]\n",
    "print(answer)\n",
    "\n",
    "answer_ls['13. Кто из режиссеров снял больше всего фильмов?'] = answer[0]"
   ]
  },
  {
   "cell_type": "markdown",
   "metadata": {},
   "source": [
    "# 14. Кто из режиссеров снял больше всего Прибыльных фильмов?\n",
    "Варианты ответов:\n",
    "1. Steven Soderbergh\n",
    "2. Clint Eastwood\n",
    "3. Steven Spielberg\n",
    "4. Ridley Scott\n",
    "5. Christopher Nolan"
   ]
  },
  {
   "cell_type": "code",
   "execution_count": 18,
   "metadata": {},
   "outputs": [
    {
     "name": "stdout",
     "output_type": "stream",
     "text": [
      "('Ridley Scott', 12)\n"
     ]
    }
   ],
   "source": [
    "directors = []\n",
    "data[data.revenue - data.budget > 0].director.apply(lambda d: [directors.append(x) for x in d.split('|')])\n",
    "answer = collections.Counter(directors).most_common()[0]\n",
    "print(answer)\n",
    "\n",
    "answer_ls['14. Кто из режиссеров снял больше всего Прибыльных фильмов?'] = answer[0]"
   ]
  },
  {
   "cell_type": "markdown",
   "metadata": {},
   "source": [
    "# 15. Кто из режиссеров принес больше всего прибыли?\n",
    "Варианты ответов:\n",
    "1. Steven Spielberg\n",
    "2. Christopher Nolan\n",
    "3. David Yates\n",
    "4. James Cameron\n",
    "5. Peter Jackson\n"
   ]
  },
  {
   "cell_type": "code",
   "execution_count": 19,
   "metadata": {},
   "outputs": [
    {
     "name": "stdout",
     "output_type": "stream",
     "text": [
      "('Peter Jackson', 5202593685)\n"
     ]
    }
   ],
   "source": [
    "income = collections.Counter()\n",
    "def calc_income(director, money):\n",
    "    income[director] += money\n",
    "    \n",
    "data.apply(lambda row: [calc_income(d, row.revenue - row.budget) for d in row.director.split('|')], axis = 1)\n",
    "answer = income.most_common()[0]\n",
    "print(answer)\n",
    "\n",
    "answer_ls['15. Кто из режиссеров принес больше всего прибыли?'] = answer[0]"
   ]
  },
  {
   "cell_type": "markdown",
   "metadata": {},
   "source": [
    "# 16. Какой актер принес больше всего прибыли?\n",
    "Варианты ответов:\n",
    "1. Emma Watson\n",
    "2. Johnny Depp\n",
    "3. Michelle Rodriguez\n",
    "4. Orlando Bloom\n",
    "5. Rupert Grint"
   ]
  },
  {
   "cell_type": "code",
   "execution_count": 20,
   "metadata": {},
   "outputs": [
    {
     "name": "stdout",
     "output_type": "stream",
     "text": [
      "('Emma Watson', 6666245597)\n"
     ]
    }
   ],
   "source": [
    "income = collections.Counter()\n",
    "def calc_income(cast, money):\n",
    "    income[cast] += money\n",
    "    \n",
    "data.apply(lambda row: [calc_income(c, row.revenue - row.budget) for c in row.cast.split('|')], axis = 1)\n",
    "answer = income.most_common()[0]\n",
    "print(answer)\n",
    "\n",
    "answer_ls['16. Какой актер принес больше всего прибыли?'] = answer[0]"
   ]
  },
  {
   "cell_type": "markdown",
   "metadata": {},
   "source": [
    "# 17. Какой актер принес меньше всего прибыли в 2012 году?\n",
    "Варианты ответов:\n",
    "1. Nicolas Cage\n",
    "2. Danny Huston\n",
    "3. Kirsten Dunst\n",
    "4. Jim Sturgess\n",
    "5. Sami Gayle"
   ]
  },
  {
   "cell_type": "code",
   "execution_count": 21,
   "metadata": {},
   "outputs": [
    {
     "name": "stdout",
     "output_type": "stream",
     "text": [
      "('Kirsten Dunst', -68109207)\n"
     ]
    }
   ],
   "source": [
    "income = collections.Counter()\n",
    "def calc_income(cast, money):\n",
    "    income[cast] += money\n",
    "    \n",
    "data[data.release_year == 2012].apply(lambda row: [calc_income(c, row.revenue - row.budget) for c in row.cast.split('|')], axis = 1)\n",
    "answer = income.most_common()[-1]\n",
    "print(answer)\n",
    "\n",
    "answer_ls['17. Какой актер принес меньше всего прибыли в 2012 году?'] = answer[0]"
   ]
  },
  {
   "cell_type": "markdown",
   "metadata": {},
   "source": [
    "# 18. Какой актер снялся в большем количестве высокобюджетных фильмов? (в фильмах где бюджет выше среднего по данной выборке)\n",
    "Варианты ответов:\n",
    "1. Tom Cruise\n",
    "2. Mark Wahlberg \n",
    "3. Matt Damon\n",
    "4. Angelina Jolie\n",
    "5. Adam Sandler"
   ]
  },
  {
   "cell_type": "code",
   "execution_count": 22,
   "metadata": {},
   "outputs": [
    {
     "name": "stdout",
     "output_type": "stream",
     "text": [
      "('Matt Damon', 18)\n"
     ]
    }
   ],
   "source": [
    "films = collections.Counter()\n",
    "def calc_films(cast):\n",
    "    films[cast] += 1\n",
    "    \n",
    "data[data.budget > data.budget.mean()].cast.apply(lambda cast: [calc_films(c) for c in cast.split('|')])\n",
    "answer = films.most_common()[0]\n",
    "print(answer)\n",
    "\n",
    "answer_ls['18. Какой актер снялся в большем количестве высокобюджетных фильмов?'] = answer[0]"
   ]
  },
  {
   "cell_type": "markdown",
   "metadata": {},
   "source": [
    "# 19. В фильмах какого жанра больше всего снимался Nicolas Cage?  \n",
    "Варианты ответа:\n",
    "1. Drama\n",
    "2. Action\n",
    "3. Thriller\n",
    "4. Adventure\n",
    "5. Crime"
   ]
  },
  {
   "cell_type": "code",
   "execution_count": 23,
   "metadata": {},
   "outputs": [
    {
     "name": "stdout",
     "output_type": "stream",
     "text": [
      "('Action', 17)\n"
     ]
    }
   ],
   "source": [
    "films = collections.Counter()\n",
    "def calc_films(genre):\n",
    "    films[genre] += 1\n",
    "    \n",
    "data[data.cast.str.contains('Nicolas Cage')].genres.apply(lambda genre: [calc_films(g) for g in genre.split('|')])\n",
    "answer = films.most_common()[0]\n",
    "print(answer)\n",
    "\n",
    "answer_ls['19. В фильмах какого жанра больше всего снимался Nicolas Cage?'] = answer[0]"
   ]
  },
  {
   "cell_type": "markdown",
   "metadata": {},
   "source": [
    "# 20. Какая студия сняла больше всего фильмов?\n",
    "Варианты ответа:\n",
    "1. Universal Pictures (Universal)\n",
    "2. Paramount Pictures\n",
    "3. Columbia Pictures\n",
    "4. Warner Bros\n",
    "5. Twentieth Century Fox Film Corporation"
   ]
  },
  {
   "cell_type": "code",
   "execution_count": 24,
   "metadata": {},
   "outputs": [
    {
     "name": "stdout",
     "output_type": "stream",
     "text": [
      "('Universal Pictures', 173)\n"
     ]
    }
   ],
   "source": [
    "companies = collections.Counter()\n",
    "def calc_films(c):\n",
    "    companies[c] += 1\n",
    "    \n",
    "data.production_companies.apply(lambda company: [calc_films(c) for c in company.split('|')])\n",
    "answer = companies.most_common()[0]\n",
    "print(answer)\n",
    "\n",
    "answer_ls['20. Какая студия сняла больше всего фильмов?'] = answer[0]"
   ]
  },
  {
   "cell_type": "markdown",
   "metadata": {},
   "source": [
    "# 21. Какая студия сняла больше всего фильмов в 2015 году?\n",
    "Варианты ответа:\n",
    "1. Universal Pictures\n",
    "2. Paramount Pictures\n",
    "3. Columbia Pictures\n",
    "4. Warner Bros\n",
    "5. Twentieth Century Fox Film Corporation"
   ]
  },
  {
   "cell_type": "code",
   "execution_count": 25,
   "metadata": {},
   "outputs": [
    {
     "name": "stdout",
     "output_type": "stream",
     "text": [
      "('Warner Bros.', 12)\n"
     ]
    }
   ],
   "source": [
    "companies = collections.Counter()\n",
    "def calc_films(c):\n",
    "    companies[c] += 1\n",
    "    \n",
    "data[data.release_year == 2015].production_companies.apply(lambda company: [calc_films(c) for c in company.split('|')])\n",
    "answer = companies.most_common()[0]\n",
    "print(answer)\n",
    "\n",
    "answer_ls['21. Какая студия сняла больше всего фильмов в 2015 году?'] = answer[0]"
   ]
  },
  {
   "cell_type": "markdown",
   "metadata": {},
   "source": [
    "# 22. Какая студия заработала больше всего денег в жанре комедий за все время?\n",
    "Варианты ответа:\n",
    "1. Warner Bros\n",
    "2. Universal Pictures (Universal)\n",
    "3. Columbia Pictures\n",
    "4. Paramount Pictures\n",
    "5. Walt Disney"
   ]
  },
  {
   "cell_type": "code",
   "execution_count": 227,
   "metadata": {},
   "outputs": [
    {
     "name": "stdout",
     "output_type": "stream",
     "text": [
      "('Universal Pictures', 8961545581)\n"
     ]
    }
   ],
   "source": [
    "income = collections.Counter()\n",
    "def calc_income(company, money):\n",
    "    income[company] += money\n",
    "    \n",
    "data[data.genres.str.contains('Comedy')].apply(lambda row: [calc_income(c, row.revenue - row.budget) for c in row.production_companies.split('|')], axis = 1)\n",
    "answer = income.most_common()[0]\n",
    "print(answer)\n",
    "\n",
    "answer_ls['22. Какая студия заработала больше всего денег в жанре комедий за все время?'] = answer[0]"
   ]
  },
  {
   "cell_type": "markdown",
   "metadata": {},
   "source": [
    "# 23. Какая студия заработала больше всего денег в 2012 году?\n",
    "Варианты ответа:\n",
    "1. Universal Pictures (Universal)\n",
    "2. Warner Bros\n",
    "3. Columbia Pictures\n",
    "4. Paramount Pictures\n",
    "5. Lucasfilm"
   ]
  },
  {
   "cell_type": "code",
   "execution_count": 27,
   "metadata": {},
   "outputs": [
    {
     "name": "stdout",
     "output_type": "stream",
     "text": [
      "('Columbia Pictures', 2501406608)\n"
     ]
    }
   ],
   "source": [
    "income = collections.Counter()\n",
    "def calc_income(company, money):\n",
    "    income[company] += money\n",
    "    \n",
    "data[data.release_year == 2012].apply(lambda row: [calc_income(c, row.revenue - row.budget) for c in row.production_companies.split('|')], axis = 1)\n",
    "answer = income.most_common()[0]\n",
    "print(answer)\n",
    "\n",
    "answer_ls['23. Какая студия заработала больше всего денег в 2012 году?'] = answer[0]"
   ]
  },
  {
   "cell_type": "markdown",
   "metadata": {},
   "source": [
    "# 24. Самый убыточный фильм от Paramount Pictures\n",
    "Варианты ответа:\n",
    "\n",
    "1. K-19: The Widowmaker tt0267626\n",
    "2. Next tt0435705\n",
    "3. Twisted tt0315297\n",
    "4. The Love Guru tt0811138\n",
    "5. The Fighter tt0964517"
   ]
  },
  {
   "cell_type": "code",
   "execution_count": 28,
   "metadata": {},
   "outputs": [
    {
     "name": "stdout",
     "output_type": "stream",
     "text": [
      "('K-19: The Widowmaker', -64831034)\n"
     ]
    }
   ],
   "source": [
    "income = collections.Counter()\n",
    "def calc_income(film, money):\n",
    "    income[film] += money\n",
    "    \n",
    "data[data.production_companies.str.contains('Paramount Pictures')].apply(lambda row: calc_income(row.original_title, row.revenue - row.budget), axis = 1)\n",
    "answer = income.most_common()[-1]\n",
    "print(answer)\n",
    "\n",
    "answer_ls['24. Самый убыточный фильм от Paramount Pictures'] = answer[0]"
   ]
  },
  {
   "cell_type": "markdown",
   "metadata": {},
   "source": [
    "# 25. Какой Самый прибыльный год (заработали больше всего)?\n",
    "Варианты ответа:\n",
    "1. 2014\n",
    "2. 2008\n",
    "3. 2012\n",
    "4. 2002\n",
    "5. 2015"
   ]
  },
  {
   "cell_type": "code",
   "execution_count": 229,
   "metadata": {},
   "outputs": [
    {
     "data": {
      "text/plain": [
       "2015"
      ]
     },
     "metadata": {},
     "output_type": "display_data"
    }
   ],
   "source": [
    "groupped = data.groupby(['release_year'])['revenue', 'budget'].sum().apply(lambda row: row.revenue - row.budget, axis = 1)\n",
    "answer = groupped[groupped == groupped.max()].index[0]\n",
    "display(answer)\n",
    "\n",
    "answer_ls['25. Какой Самый прибыльный год (заработали больше всего)?'] = answer"
   ]
  },
  {
   "cell_type": "markdown",
   "metadata": {},
   "source": [
    "# 26. Какой Самый прибыльный год для студии Warner Bros?\n",
    "Варианты ответа:\n",
    "1. 2014\n",
    "2. 2008\n",
    "3. 2012\n",
    "4. 2010\n",
    "5. 2015"
   ]
  },
  {
   "cell_type": "code",
   "execution_count": 231,
   "metadata": {},
   "outputs": [
    {
     "data": {
      "text/plain": [
       "2014"
      ]
     },
     "metadata": {},
     "output_type": "display_data"
    }
   ],
   "source": [
    "groupped = data[data.production_companies.str.contains('Warner Bros')].groupby(['release_year'])['revenue', 'budget'].sum().apply(lambda row: row.revenue - row.budget, axis = 1)\n",
    "answer = groupped[groupped == groupped.max()].index[0]\n",
    "display(answer)\n",
    "\n",
    "answer_ls['26. Какой Самый прибыльный год для студии Warner Bros?'] = answer"
   ]
  },
  {
   "cell_type": "markdown",
   "metadata": {},
   "source": [
    "# 27. В каком месяце за все годы суммарно вышло больше всего фильмов?\n",
    "Варианты ответа:\n",
    "1. Январь\n",
    "2. Июнь\n",
    "3. Декабрь\n",
    "4. Сентябрь\n",
    "5. Май"
   ]
  },
  {
   "cell_type": "code",
   "execution_count": 44,
   "metadata": {},
   "outputs": [
    {
     "data": {
      "text/plain": [
       "'September'"
      ]
     },
     "metadata": {},
     "output_type": "display_data"
    }
   ],
   "source": [
    "data['release_month'] = data['release_date'].apply(lambda d: d.split('/')[0])\n",
    "groupped = data.groupby(['release_month']).imdb_id.count()\n",
    "month_number =  groupped[groupped == groupped.max()].index[0]\n",
    "answer = calendar.month_name[int(month_number)] \n",
    "display(answer)\n",
    "\n",
    "answer_ls['27. В каком месяце за все годы суммарно вышло больше всего фильмов?'] = answer"
   ]
  },
  {
   "cell_type": "markdown",
   "metadata": {},
   "source": [
    "# 28. Сколько суммарно вышло фильмов летом? (за июнь, июль, август)\n",
    "Варианты ответа:\n",
    "1. 345\n",
    "2. 450\n",
    "3. 478\n",
    "4. 523\n",
    "5. 381"
   ]
  },
  {
   "cell_type": "code",
   "execution_count": 53,
   "metadata": {},
   "outputs": [
    {
     "data": {
      "text/plain": [
       "450"
      ]
     },
     "metadata": {},
     "output_type": "display_data"
    }
   ],
   "source": [
    "data['release_month'] = data['release_date'].apply(lambda d: d.split('/')[0])\n",
    "groupped = data.groupby(['release_month']).imdb_id.count()\n",
    "answer = groupped['6'] + groupped['7'] + groupped['8']\n",
    "display(answer)\n",
    "\n",
    "answer_ls['28. Сколько суммарно вышло фильмов летом? (за июнь, июль, август)'] = answer"
   ]
  },
  {
   "cell_type": "markdown",
   "metadata": {},
   "source": [
    "# 29. Какой режисер выпускает (суммарно по годам) больше всего фильмов зимой?\n",
    "Варианты ответов:\n",
    "1. Steven Soderbergh\n",
    "2. Christopher Nolan\n",
    "3. Clint Eastwood\n",
    "4. Ridley Scott\n",
    "5. Peter Jackson"
   ]
  },
  {
   "cell_type": "code",
   "execution_count": 59,
   "metadata": {},
   "outputs": [
    {
     "name": "stdout",
     "output_type": "stream",
     "text": [
      "('Peter Jackson', 8)\n"
     ]
    }
   ],
   "source": [
    "data['release_month'] = data['release_date'].apply(lambda d: d.split('/')[0])\n",
    "directors = []\n",
    "data.apply(lambda row: [directors.append(d) for d in row.director.split('|') if row.release_month in ['1', '11', '12']], axis = 1)\n",
    "answer = collections.Counter(directors).most_common()[0]\n",
    "print(answer)\n",
    "\n",
    "answer_ls['29. Какой режисер выпускает (суммарно по годам) больше всего фильмов зимой?'] = answer[0]"
   ]
  },
  {
   "cell_type": "markdown",
   "metadata": {},
   "source": [
    "# 30. Какой месяц чаще всего по годам самый прибыльный?\n",
    "Варианты ответа:\n",
    "1. Январь\n",
    "2. Июнь\n",
    "3. Декабрь\n",
    "4. Сентябрь\n",
    "5. Май"
   ]
  },
  {
   "cell_type": "code",
   "execution_count": 123,
   "metadata": {},
   "outputs": [
    {
     "name": "stdout",
     "output_type": "stream",
     "text": [
      "June\n"
     ]
    }
   ],
   "source": [
    "data['release_month'] = data['release_date'].apply(lambda d: d.split('/')[0])\n",
    "data['income'] = data.apply(lambda row: row.revenue - row.budget, axis = 1)\n",
    "\n",
    "year_groupped = data.groupby(['release_year', 'release_month']).income.sum().reset_index()\n",
    "year_max = year_groupped.groupby(['release_year']).income.max().reset_index()\n",
    "year_max.columns = ['release_year', 'max_income']\n",
    "\n",
    "year_groupped = year_groupped.merge(year_max, on = 'release_year', how = 'left')\n",
    "year_max = year_groupped[year_groupped.income == year_groupped.max_income]\n",
    "\n",
    "month_numbers = []\n",
    "year_max.release_month.apply(lambda m: month_numbers.append(m))\n",
    "\n",
    "best_month = collections.Counter(month_numbers).most_common()[0]\n",
    "answer = calendar.month_name[int(best_month[0])]\n",
    "print(answer)\n",
    "\n",
    "answer_ls['30. Какой месяц чаще всего по годам самый прибыльный?'] = answer"
   ]
  },
  {
   "cell_type": "markdown",
   "metadata": {},
   "source": [
    "# 31. Названия фильмов какой студии в среднем самые длинные по количеству символов?\n",
    "Варианты ответа:\n",
    "1. Universal Pictures (Universal)\n",
    "2. Warner Bros\n",
    "3. Jim Henson Company, The\n",
    "4. Paramount Pictures\n",
    "5. Four By Two Productions"
   ]
  },
  {
   "cell_type": "code",
   "execution_count": 137,
   "metadata": {},
   "outputs": [
    {
     "data": {
      "text/plain": [
       "'Four By Two Productions'"
      ]
     },
     "metadata": {},
     "output_type": "display_data"
    }
   ],
   "source": [
    "company = []\n",
    "film_id = []\n",
    "def add_company(c, f):\n",
    "    company.append(c)\n",
    "    film_id.append(f)\n",
    "    \n",
    "data.apply(lambda row: [add_company(c, row.imdb_id) for c in row.production_companies.split('|')], axis = 1)\n",
    "data['title_length'] = data.original_title.apply(lambda t: len(t))\n",
    "\n",
    "df_company = pd.DataFrame({'company': company, 'imdb_id': film_id})\n",
    "df_company = df_company.merge(data, on = 'imdb_id', how = 'left')\n",
    "\n",
    "groupped = df_company.groupby(['company']).title_length.mean().reset_index()\n",
    "answer = groupped[groupped.title_length == groupped.title_length.max()].iloc[0][0]\n",
    "display(answer)\n",
    "\n",
    "answer_ls['31. Названия фильмов какой студии в среднем самые длинные по количеству символов?'] = answer"
   ]
  },
  {
   "cell_type": "markdown",
   "metadata": {},
   "source": [
    "# 32. Названия фильмов какой студии в среднем самые длинные по количеству слов?\n",
    "Варианты ответа:\n",
    "1. Universal Pictures (Universal)\n",
    "2. Warner Bros\n",
    "3. Jim Henson Company, The\n",
    "4. Paramount Pictures\n",
    "5. Four By Two Productions"
   ]
  },
  {
   "cell_type": "code",
   "execution_count": 138,
   "metadata": {},
   "outputs": [
    {
     "data": {
      "text/plain": [
       "'Four By Two Productions'"
      ]
     },
     "metadata": {},
     "output_type": "display_data"
    }
   ],
   "source": [
    "company = []\n",
    "film_id = []\n",
    "def add_company(c, f):\n",
    "    company.append(c)\n",
    "    film_id.append(f)\n",
    "    \n",
    "data.apply(lambda row: [add_company(c, row.imdb_id) for c in row.production_companies.split('|')], axis = 1)\n",
    "data['title_length'] = data.original_title.apply(lambda t: len(t.split()))\n",
    "\n",
    "df_company = pd.DataFrame({'company': company, 'imdb_id': film_id})\n",
    "df_company = df_company.merge(data, on = 'imdb_id', how = 'left')\n",
    "\n",
    "groupped = df_company.groupby(['company']).title_length.mean().reset_index()\n",
    "answer = groupped[groupped.title_length == groupped.title_length.max()].iloc[0][0]\n",
    "display(answer)\n",
    "\n",
    "answer_ls['32. Названия фильмов какой студии в среднем самые длинные по количеству слов?'] = answer"
   ]
  },
  {
   "cell_type": "markdown",
   "metadata": {},
   "source": [
    "# 33. Сколько разных слов используется в названиях фильмов?(без учета регистра)\n",
    "Варианты ответа:\n",
    "1. 6540\n",
    "2. 1002\n",
    "3. 2461\n",
    "4. 28304\n",
    "5. 3432"
   ]
  },
  {
   "cell_type": "code",
   "execution_count": 150,
   "metadata": {},
   "outputs": [
    {
     "data": {
      "text/plain": [
       "2461"
      ]
     },
     "metadata": {},
     "output_type": "display_data"
    }
   ],
   "source": [
    "words = []\n",
    "data.original_title.apply(lambda t: [words.append(w.lower()) for w in t.split()])\n",
    "\n",
    "answer = len(collections.Counter(words).keys())\n",
    "display(answer)\n",
    "\n",
    "answer_ls['33. Сколько разных слов используется в названиях фильмов?(без учета регистра)'] = answer"
   ]
  },
  {
   "cell_type": "markdown",
   "metadata": {},
   "source": [
    "# 34. Какие фильмы входят в 1 процент лучших по рейтингу?\n",
    "Варианты ответа:\n",
    "1. Inside Out, Gone Girl, 12 Years a Slave\n",
    "2. BloodRayne, The Adventures of Rocky & Bullwinkle\n",
    "3. The Lord of the Rings: The Return of the King\n",
    "4. 300, Lucky Number Slevin"
   ]
  },
  {
   "cell_type": "code",
   "execution_count": 176,
   "metadata": {},
   "outputs": [
    {
     "data": {
      "text/plain": [
       "600                                       The Dark Knight\n",
       "125                                    The Imitation Game\n",
       "9                                              Inside Out\n",
       "118                                          Interstellar\n",
       "34                                                   Room\n",
       "1082        The Lord of the Rings: The Return of the King\n",
       "873                                           The Pianist\n",
       "1801                                              Memento\n",
       "1192                                     12 Years a Slave\n",
       "128                                             Gone Girl\n",
       "138                              The Grand Budapest Hotel\n",
       "119                               Guardians of the Galaxy\n",
       "1184                              The Wolf of Wall Street\n",
       "370                                             Inception\n",
       "316                                              3 Idiots\n",
       "1564                Eternal Sunshine of the Spotless Mind\n",
       "497     The Lord of the Rings: The Fellowship of the Ring\n",
       "28                                              Spotlight\n",
       "Name: original_title, dtype: object"
      ]
     },
     "metadata": {},
     "output_type": "display_data"
    }
   ],
   "source": [
    "films_best = data.sort_values(by = 'vote_average', ascending = False).head(int(len(data) / 100))\n",
    "titles = films_best.original_title\n",
    "display(titles)\n",
    "\n",
    "answer_ls['34. Какие фильмы входят в 1 процент лучших по рейтингу?'] = 'Inside Out, Gone Girl, 12 Years a Slave'"
   ]
  },
  {
   "cell_type": "markdown",
   "metadata": {},
   "source": [
    "# 35. Какие актеры чаще всего снимаются в одном фильме вместе\n",
    "Варианты ответа:\n",
    "1. Johnny Depp & Helena Bonham Carter\n",
    "2. Hugh Jackman & Ian McKellen\n",
    "3. Vin Diesel & Paul Walker\n",
    "4. Adam Sandler & Kevin James\n",
    "5. Daniel Radcliffe & Rupert Grint"
   ]
  },
  {
   "cell_type": "code",
   "execution_count": 199,
   "metadata": {},
   "outputs": [
    {
     "data": {
      "text/plain": [
       "('Daniel Radcliffe', 'Rupert Grint')"
      ]
     },
     "metadata": {},
     "output_type": "display_data"
    }
   ],
   "source": [
    "import itertools\n",
    "actors = []\n",
    "data.cast.apply(lambda cast: [actors.append(pair) for pair in itertools.combinations(cast.split('|'), 2)])\n",
    "\n",
    "answer = collections.Counter(actors).most_common()[0][0]\n",
    "display(answer)\n",
    "\n",
    "answer_ls['35. Какие актеры чаще всего снимаются в одном фильме вместе'] = answer"
   ]
  },
  {
   "cell_type": "markdown",
   "metadata": {},
   "source": [
    "# 36. У какого из режиссеров выше вероятность выпустить фильм в прибыли? (5 баллов)101\n",
    "Варианты ответа:\n",
    "1. Quentin Tarantino\n",
    "2. Steven Soderbergh\n",
    "3. Robert Rodriguez\n",
    "4. Christopher Nolan\n",
    "5. Clint Eastwood"
   ]
  },
  {
   "cell_type": "code",
   "execution_count": 221,
   "metadata": {},
   "outputs": [
    {
     "data": {
      "text/plain": [
       "0.8571428571428571"
      ]
     },
     "metadata": {},
     "output_type": "display_data"
    },
    {
     "data": {
      "text/plain": [
       "0.7692307692307693"
      ]
     },
     "metadata": {},
     "output_type": "display_data"
    },
    {
     "data": {
      "text/plain": [
       "0.7272727272727273"
      ]
     },
     "metadata": {},
     "output_type": "display_data"
    },
    {
     "data": {
      "text/plain": [
       "1.0"
      ]
     },
     "metadata": {},
     "output_type": "display_data"
    },
    {
     "data": {
      "text/plain": [
       "0.8333333333333334"
      ]
     },
     "metadata": {},
     "output_type": "display_data"
    }
   ],
   "source": [
    "directors = []\n",
    "film_id = []\n",
    "def add_director(d, f):\n",
    "    directors.append(d)\n",
    "    film_id.append(f)\n",
    "    \n",
    "data.apply(lambda row: [add_director(d, row.imdb_id) for d in row.director.split('|')], axis = 1)\n",
    "data['income'] = data.apply(lambda row: row.revenue - row.budget, axis = 1)\n",
    "data['is_profitable'] = data.income.apply(lambda money: int(money > 0))\n",
    "\n",
    "df_directors = pd.DataFrame({'ceo': directors, 'imdb_id': film_id})\n",
    "df_directors = df_directors.merge(data, on = 'imdb_id', how = 'left')\n",
    "\n",
    "profitable_films = df_directors.groupby('ceo')['is_profitable'].sum().to_dict()\n",
    "films = df_directors.groupby('ceo')['is_profitable'].count().to_dict()\n",
    "\n",
    "success_factor = {}\n",
    "[success_factor.setdefault(director, profitable_films[director] / films[director]) for director in films.keys()]\n",
    "display(success_factor['Quentin Tarantino'])\n",
    "display(success_factor['Steven Soderbergh'])\n",
    "display(success_factor['Robert Rodriguez'])\n",
    "display(success_factor['Christopher Nolan'])\n",
    "display(success_factor['Clint Eastwood'])\n",
    "\n",
    "answer_ls['36. У какого из режиссеров выше вероятность выпустить фильм в прибыли?'] = 'Christopher Nolan'"
   ]
  },
  {
   "cell_type": "markdown",
   "metadata": {},
   "source": [
    "# Submission"
   ]
  },
  {
   "cell_type": "code",
   "execution_count": 222,
   "metadata": {},
   "outputs": [
    {
     "data": {
      "text/plain": [
       "35"
      ]
     },
     "execution_count": 222,
     "metadata": {},
     "output_type": "execute_result"
    }
   ],
   "source": [
    "len(answer_ls)"
   ]
  },
  {
   "cell_type": "code",
   "execution_count": 233,
   "metadata": {},
   "outputs": [
    {
     "data": {
      "text/plain": [
       "{'1. У какого фильма из списка самый большой бюджет?': array([['tt1032751', \"The Warrior's Way\"]], dtype=object),\n",
       " '2. Какой из фильмов самый длительный (в минутах)': array([['tt0279111', 'Gods and Generals']], dtype=object),\n",
       " '3. Какой из фильмов самый короткий (в минутах)': array([['tt1449283', 'Winnie the Pooh']], dtype=object),\n",
       " '4. Средняя длительность фильма?': 109,\n",
       " '5. Средняя длительность фильма по медиане?': 106,\n",
       " '6. Какой самый прибыльный фильм?': array([['tt0499549', 'Avatar']], dtype=object),\n",
       " '7. Какой фильм самый убыточный?': array([['tt1032751', \"The Warrior's Way\"]], dtype=object),\n",
       " '8. Сколько всего фильмов в прибыли?': 1478,\n",
       " '9. Самый прибыльный фильм в 2008 году?': array([['tt0468569', 'The Dark Knight']], dtype=object),\n",
       " '10. Самый убыточный фильм за период с 2012 по 2014 (включительно)?': array([['tt1210819', 'The Lone Ranger']], dtype=object),\n",
       " '11. Какого жанра фильмов больше всего?': 'Drama',\n",
       " '12. Какого жанра среди прибыльных фильмов больше всего?': 'Drama',\n",
       " '13. Кто из режиссеров снял больше всего фильмов?': 'Steven Soderbergh',\n",
       " '14. Кто из режиссеров снял больше всего Прибыльных фильмов?': 'Ridley Scott',\n",
       " '15. Кто из режиссеров принес больше всего прибыли?': 'Peter Jackson',\n",
       " '16. Какой актер принес больше всего прибыли?': 'Emma Watson',\n",
       " '17. Какой актер принес меньше всего прибыли в 2012 году?': 'Kirsten Dunst',\n",
       " '18. Какой актер снялся в большем количестве высокобюджетных фильмов?': 'Matt Damon',\n",
       " '19. В фильмах какого жанра больше всего снимался Nicolas Cage?': 'Action',\n",
       " '20. Какая студия сняла больше всего фильмов?': 'Universal Pictures',\n",
       " '21. Какая студия сняла больше всего фильмов в 2015 году?': 'Warner Bros.',\n",
       " '22. Какая студия заработала больше всего денег в жанре комедий за все время?': 'Universal Pictures',\n",
       " '23. Какая студия заработала больше всего денег в 2012 году?': 'Columbia Pictures',\n",
       " '24. Самый убыточный фильм от Paramount Pictures': 'K-19: The Widowmaker',\n",
       " '25. Какой Самый прибыльный год (заработали больше всего)?': 2015,\n",
       " '27. В каком месяце за все годы суммарно вышло больше всего фильмов?': 'September',\n",
       " '28. Сколько суммарно вышло фильмов летом? (за июнь, июль, август)': 450,\n",
       " '29. Какой режисер выпускает (суммарно по годам) больше всего фильмов зимой?': 'Peter Jackson',\n",
       " '30. Какой месяц чаще всего по годам самый прибыльный?': 'June',\n",
       " '31. Названия фильмов какой студии в среднем самые длинные по количеству символов?': 'Four By Two Productions',\n",
       " '32. Названия фильмов какой студии в среднем самые длинные по количеству слов?': 'Four By Two Productions',\n",
       " '33. Сколько разных слов используется в названиях фильмов?(без учета регистра)': 2461,\n",
       " '34. Какие фильмы входят в 1 процент лучших по рейтингу?': 'Inside Out, Gone Girl, 12 Years a Slave',\n",
       " '35. Какие актеры чаще всего снимаются в одном фильме вместе': ('Daniel Radcliffe',\n",
       "  'Rupert Grint'),\n",
       " '36. У какого из режиссеров выше вероятность выпустить фильм в прибыли?': 'Christopher Nolan',\n",
       " '26. Какой Самый прибыльный год для студии Warner Bros?': 2014}"
      ]
     },
     "metadata": {},
     "output_type": "display_data"
    }
   ],
   "source": [
    "display(answer_ls)"
   ]
  },
  {
   "cell_type": "code",
   "execution_count": null,
   "metadata": {},
   "outputs": [],
   "source": []
  }
 ],
 "metadata": {
  "kernelspec": {
   "display_name": "Python 3",
   "language": "python",
   "name": "python3"
  },
  "language_info": {
   "codemirror_mode": {
    "name": "ipython",
    "version": 3
   },
   "file_extension": ".py",
   "mimetype": "text/x-python",
   "name": "python",
   "nbconvert_exporter": "python",
   "pygments_lexer": "ipython3",
   "version": "3.6.5"
  }
 },
 "nbformat": 4,
 "nbformat_minor": 4
}
