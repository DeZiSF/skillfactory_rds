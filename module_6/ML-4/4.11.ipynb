{
 "cells": [
  {
   "cell_type": "code",
   "execution_count": 1,
   "metadata": {},
   "outputs": [],
   "source": [
    "import numpy as np\n",
    "import matplotlib.pyplot as plt\n",
    "from sklearn import datasets\n",
    "\n",
    "n_samples = 1500\n",
    "dataset = datasets.make_blobs(n_samples=n_samples, centers=2, center_box=(-7.0, 7.5),\n",
    "                              cluster_std=[1.4, 1.7],\n",
    "                              random_state=42)\n",
    "X_2, _ = datasets.make_blobs(n_samples=n_samples, random_state=170, centers=[[-4, -3]], cluster_std=[1.9])\n",
    "transformation = [[1.2, -0.8], [-0.4, 1.7]]\n",
    "X_2 = np.dot(X_2, transformation)\n",
    "X, y = np.concatenate((dataset[0], X_2)), np.concatenate((dataset[1], np.array([2] * len(X_2))))"
   ]
  },
  {
   "cell_type": "code",
   "execution_count": 2,
   "metadata": {},
   "outputs": [
    {
     "data": {
      "text/plain": [
       "0.5131660482634046"
      ]
     },
     "execution_count": 2,
     "metadata": {},
     "output_type": "execute_result"
    }
   ],
   "source": [
    "from sklearn.cluster import KMeans\n",
    "from sklearn.metrics import silhouette_score\n",
    "\n",
    "# сначала получим предсказанные кластеры при помощи метода кластеризации\n",
    "kmeans = KMeans(n_clusters=3, random_state=42)\n",
    "kmeans.fit(X)\n",
    "kmeans_pred = kmeans.labels_\n",
    "\n",
    "# теперь посчитаем коэффициент силуэта\n",
    "silhouette_score(X=X, labels=kmeans_pred, metric='euclidean')"
   ]
  },
  {
   "cell_type": "code",
   "execution_count": 4,
   "metadata": {},
   "outputs": [
    {
     "data": {
      "text/plain": [
       "0.3988405457243407"
      ]
     },
     "execution_count": 4,
     "metadata": {},
     "output_type": "execute_result"
    }
   ],
   "source": [
    "from sklearn.mixture import GaussianMixture\n",
    "gm = GaussianMixture(n_components=3, random_state=42)\n",
    "y_pred = gm.fit_predict(X)\n",
    "\n",
    "silhouette_score(X=X, labels=y_pred, metric='euclidean')"
   ]
  },
  {
   "cell_type": "code",
   "execution_count": 8,
   "metadata": {},
   "outputs": [
    {
     "data": {
      "text/plain": [
       "0.51"
      ]
     },
     "metadata": {},
     "output_type": "display_data"
    },
    {
     "data": {
      "text/plain": [
       "0.4"
      ]
     },
     "metadata": {},
     "output_type": "display_data"
    },
    {
     "data": {
      "text/plain": [
       "0.48"
      ]
     },
     "metadata": {},
     "output_type": "display_data"
    },
    {
     "data": {
      "text/plain": [
       "0.45"
      ]
     },
     "metadata": {},
     "output_type": "display_data"
    }
   ],
   "source": [
    "from sklearn.cluster import KMeans\n",
    "from sklearn.mixture import GaussianMixture\n",
    "from sklearn.cluster import AgglomerativeClustering\n",
    "from sklearn.cluster import DBSCAN\n",
    "\n",
    "k_means = KMeans(n_clusters=3, random_state=42)\n",
    "k_means.fit(X)\n",
    "k_means_pred = k_means.labels_\n",
    "\n",
    "gm = GaussianMixture(n_components=3, random_state=42)\n",
    "gm_y_pred = gm.fit_predict(X)\n",
    "\n",
    "ac = AgglomerativeClustering(n_clusters=3)\n",
    "ac.fit(X)\n",
    "ac_pred = ac.labels_\n",
    "\n",
    "dbscan = DBSCAN(eps=0.9, min_samples=35)\n",
    "dbscan.fit(X)\n",
    "dbscan_pred = dbscan.labels_\n",
    "\n",
    "display(round(silhouette_score(X=X, labels=k_means_pred, metric='euclidean'), 2))\n",
    "display(round(silhouette_score(X=X, labels=gm_y_pred, metric='euclidean'), 2))\n",
    "display(round(silhouette_score(X=X, labels=ac_pred, metric='euclidean'), 2))\n",
    "display(round(silhouette_score(X=X, labels=dbscan_pred, metric='euclidean'), 2))"
   ]
  },
  {
   "cell_type": "code",
   "execution_count": 12,
   "metadata": {},
   "outputs": [
    {
     "data": {
      "text/plain": [
       "3"
      ]
     },
     "metadata": {},
     "output_type": "display_data"
    },
    {
     "data": {
      "text/plain": [
       "4"
      ]
     },
     "metadata": {},
     "output_type": "display_data"
    },
    {
     "data": {
      "text/plain": [
       "4"
      ]
     },
     "metadata": {},
     "output_type": "display_data"
    }
   ],
   "source": [
    "from sklearn.cluster import KMeans\n",
    "from sklearn.mixture import GaussianMixture\n",
    "from sklearn.cluster import AgglomerativeClustering\n",
    "from sklearn.cluster import DBSCAN\n",
    "\n",
    "clusters = range(2, 11)\n",
    "k_means_s = -1\n",
    "gm_s = -1\n",
    "ac_s = -1\n",
    "k_means_c = 0\n",
    "gm_c = 0\n",
    "ac_c = 0\n",
    "\n",
    "for n_clusters in clusters:\n",
    "    k_means = KMeans(n_clusters=n_clusters, random_state=42)\n",
    "    k_means.fit(X)\n",
    "    k_means_pred = k_means.labels_\n",
    "    s = silhouette_score(X=X, labels=k_means_pred, metric='euclidean')\n",
    "    k_means_s = max([s, k_means_s])    \n",
    "    if s == k_means_s:\n",
    "        k_means_c = n_clusters\n",
    "    \n",
    "for n_clusters in clusters:\n",
    "    gm = GaussianMixture(n_components=n_clusters, random_state=42)\n",
    "    gm_y_pred = gm.fit_predict(X)\n",
    "    s = silhouette_score(X=X, labels=gm_y_pred, metric='euclidean')\n",
    "    gm_s = max([s, gm_s])\n",
    "    if s == gm_s:\n",
    "        gm_c = n_clusters\n",
    "    \n",
    "for n_clusters in clusters:\n",
    "    ac = AgglomerativeClustering(n_clusters=n_clusters)\n",
    "    ac.fit(X)\n",
    "    ac_pred = ac.labels_\n",
    "    s = silhouette_score(X=X, labels=ac_pred, metric='euclidean')\n",
    "    ac_s = max([s, ac_s])\n",
    "    if s == ac_s:\n",
    "        ac_c = n_clusters\n",
    "\n",
    "display(k_means_c, gm_c, ac_c)"
   ]
  },
  {
   "cell_type": "code",
   "execution_count": 14,
   "metadata": {},
   "outputs": [
    {
     "data": {
      "text/plain": [
       "0.8"
      ]
     },
     "metadata": {},
     "output_type": "display_data"
    },
    {
     "data": {
      "text/plain": [
       "0.93"
      ]
     },
     "metadata": {},
     "output_type": "display_data"
    },
    {
     "data": {
      "text/plain": [
       "0.91"
      ]
     },
     "metadata": {},
     "output_type": "display_data"
    },
    {
     "data": {
      "text/plain": [
       "0.0"
      ]
     },
     "metadata": {},
     "output_type": "display_data"
    }
   ],
   "source": [
    "from sklearn.metrics.cluster import homogeneity_score\n",
    "from sklearn.cluster import KMeans\n",
    "from sklearn.mixture import GaussianMixture\n",
    "from sklearn.cluster import AgglomerativeClustering\n",
    "from sklearn.cluster import DBSCAN\n",
    "from sklearn.preprocessing import StandardScaler\n",
    "\n",
    "X = StandardScaler().fit_transform(X)\n",
    "\n",
    "k_means = KMeans(n_clusters=3, random_state=42)\n",
    "k_means.fit(X)\n",
    "k_means_pred = k_means.labels_\n",
    "\n",
    "gm = GaussianMixture(n_components=3, random_state=42)\n",
    "gm_y_pred = gm.fit_predict(X)\n",
    "\n",
    "ac = AgglomerativeClustering(n_clusters=3)\n",
    "ac.fit(X)\n",
    "ac_pred = ac.labels_\n",
    "\n",
    "dbscan = DBSCAN(eps=0.9, min_samples=35)\n",
    "dbscan.fit(X)\n",
    "dbscan_pred = dbscan.labels_\n",
    "\n",
    "display(round(homogeneity_score(labels_true=y, labels_pred=k_means_pred), 2))\n",
    "display(round(homogeneity_score(labels_true=y, labels_pred=gm_y_pred), 2))\n",
    "display(round(homogeneity_score(labels_true=y, labels_pred=ac_pred), 2))\n",
    "display(round(homogeneity_score(labels_true=y, labels_pred=dbscan_pred), 2))"
   ]
  },
  {
   "cell_type": "code",
   "execution_count": null,
   "metadata": {},
   "outputs": [],
   "source": []
  }
 ],
 "metadata": {
  "kernelspec": {
   "display_name": "Python 3",
   "language": "python",
   "name": "python3"
  },
  "language_info": {
   "codemirror_mode": {
    "name": "ipython",
    "version": 3
   },
   "file_extension": ".py",
   "mimetype": "text/x-python",
   "name": "python",
   "nbconvert_exporter": "python",
   "pygments_lexer": "ipython3",
   "version": "3.7.6"
  }
 },
 "nbformat": 4,
 "nbformat_minor": 4
}
