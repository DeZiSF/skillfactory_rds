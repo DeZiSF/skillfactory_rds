{
 "cells": [
  {
   "cell_type": "code",
   "execution_count": 1,
   "metadata": {},
   "outputs": [],
   "source": [
    "import numpy as np"
   ]
  },
  {
   "cell_type": "code",
   "execution_count": 5,
   "metadata": {},
   "outputs": [
    {
     "data": {
      "text/plain": [
       "matrix([[ 4,  7],\n",
       "        [ 5, 10]])"
      ]
     },
     "metadata": {},
     "output_type": "display_data"
    },
    {
     "data": {
      "text/plain": [
       "matrix([[20],\n",
       "        [30]])"
      ]
     },
     "metadata": {},
     "output_type": "display_data"
    }
   ],
   "source": [
    "a = np.matrix('4,7;5,10')\n",
    "b = np.matrix('20;30')\n",
    "\n",
    "display(a)\n",
    "display(b)"
   ]
  },
  {
   "cell_type": "code",
   "execution_count": 7,
   "metadata": {},
   "outputs": [
    {
     "data": {
      "text/plain": [
       "matrix([[ 2. , -1.4],\n",
       "        [-1. ,  0.8]])"
      ]
     },
     "metadata": {},
     "output_type": "display_data"
    },
    {
     "data": {
      "text/plain": [
       "matrix([[-2.],\n",
       "        [ 4.]])"
      ]
     },
     "metadata": {},
     "output_type": "display_data"
    },
    {
     "data": {
      "text/plain": [
       "4.999999999999999"
      ]
     },
     "metadata": {},
     "output_type": "display_data"
    }
   ],
   "source": [
    "ia = np.linalg.inv(a)\n",
    "display(ia)\n",
    "\n",
    "w = np.dot(ia, b)\n",
    "display(w)\n",
    "\n",
    "display(np.linalg.det(a))"
   ]
  },
  {
   "cell_type": "code",
   "execution_count": 12,
   "metadata": {},
   "outputs": [
    {
     "data": {
      "text/plain": [
       "matrix([[ 4,  7, -1],\n",
       "        [-4,  2,  5],\n",
       "        [ 0,  9,  4]])"
      ]
     },
     "metadata": {},
     "output_type": "display_data"
    },
    {
     "data": {
      "text/plain": [
       "matrix([[ 4,  7, -1,  7],\n",
       "        [-4,  2,  5,  3],\n",
       "        [ 0,  9,  4, 10]])"
      ]
     },
     "metadata": {},
     "output_type": "display_data"
    },
    {
     "data": {
      "text/plain": [
       "2"
      ]
     },
     "metadata": {},
     "output_type": "display_data"
    },
    {
     "data": {
      "text/plain": [
       "2"
      ]
     },
     "metadata": {},
     "output_type": "display_data"
    }
   ],
   "source": [
    "a = np.matrix('4,7,-1;-4,2,5;0,9,4')\n",
    "b = np.matrix('7;3;10')\n",
    "ab = np.block([a, b])\n",
    "\n",
    "display(a)\n",
    "display(ab)\n",
    "\n",
    "ra = np.linalg.matrix_rank(a)\n",
    "rb = np.linalg.matrix_rank(ab)\n",
    "display(ra, rb)"
   ]
  },
  {
   "cell_type": "code",
   "execution_count": 14,
   "metadata": {},
   "outputs": [
    {
     "data": {
      "text/plain": [
       "matrix([[ 1, -5],\n",
       "        [ 2,  1],\n",
       "        [ 1,  1]])"
      ]
     },
     "metadata": {},
     "output_type": "display_data"
    },
    {
     "data": {
      "text/plain": [
       "matrix([[1],\n",
       "        [2],\n",
       "        [2]])"
      ]
     },
     "metadata": {},
     "output_type": "display_data"
    },
    {
     "data": {
      "text/plain": [
       "matrix([[ 5],\n",
       "        [-1],\n",
       "        [ 0]])"
      ]
     },
     "metadata": {},
     "output_type": "display_data"
    }
   ],
   "source": [
    "a = np.matrix('1,-5;2,1;1,1')\n",
    "b = np.matrix('1;2;2')\n",
    "display(a)\n",
    "display(b)\n",
    "\n",
    "ww = np.matrix('1;1')\n",
    "e = b - np.dot(a, ww)\n",
    "display(e)"
   ]
  },
  {
   "cell_type": "code",
   "execution_count": 18,
   "metadata": {},
   "outputs": [
    {
     "data": {
      "text/plain": [
       "matrix([[12,  0],\n",
       "        [ 0, 10]])"
      ]
     },
     "metadata": {},
     "output_type": "display_data"
    },
    {
     "data": {
      "text/plain": [
       "matrix([[0.08333333, 0.        ],\n",
       "        [0.        , 0.1       ]])"
      ]
     },
     "metadata": {},
     "output_type": "display_data"
    },
    {
     "data": {
      "text/plain": [
       "matrix([[-6],\n",
       "        [16]])"
      ]
     },
     "metadata": {},
     "output_type": "display_data"
    },
    {
     "data": {
      "text/plain": [
       "matrix([[-0.5],\n",
       "        [ 1.6]])"
      ]
     },
     "metadata": {},
     "output_type": "display_data"
    }
   ],
   "source": [
    "a = np.matrix('1,2;-3,1;1,2;1,-1')\n",
    "b = np.matrix('1;4;5;0')\n",
    "\n",
    "ata = np.dot(a.T, a)\n",
    "display(ata)\n",
    "\n",
    "ata_inv = np.linalg.inv(ata)\n",
    "display(ata_inv)\n",
    "\n",
    "atb = np.dot(a.T, b)\n",
    "display(atb)\n",
    "\n",
    "ww = np.dot(ata_inv, atb)\n",
    "display(ww)"
   ]
  },
  {
   "cell_type": "code",
   "execution_count": 24,
   "metadata": {},
   "outputs": [
    {
     "data": {
      "text/plain": [
       "matrix([[21.048]])"
      ]
     },
     "metadata": {},
     "output_type": "display_data"
    }
   ],
   "source": [
    "ww = np.matrix('-29.3;-0.26;8.4')\n",
    "a = np.matrix('1,0.2,6')\n",
    "display(np.dot(a,ww))"
   ]
  },
  {
   "cell_type": "code",
   "execution_count": 28,
   "metadata": {},
   "outputs": [
    {
     "data": {
      "text/plain": [
       "matrix([[ 1,  1, -1,  0],\n",
       "        [ 1,  1,  1,  2],\n",
       "        [ 1,  0,  0,  0],\n",
       "        [ 1,  2,  0,  2]])"
      ]
     },
     "metadata": {},
     "output_type": "display_data"
    },
    {
     "data": {
      "text/plain": [
       "0.0"
      ]
     },
     "metadata": {},
     "output_type": "display_data"
    }
   ],
   "source": [
    "x = np.matrix('1,1,-1,0;1,1,1,2;1,0,0,0;1,2,0,2')\n",
    "y = np.matrix('1;2;1;2')\n",
    "\n",
    "display(x)\n",
    "display(np.linalg.det(x))"
   ]
  },
  {
   "cell_type": "code",
   "execution_count": 41,
   "metadata": {},
   "outputs": [
    {
     "data": {
      "text/plain": [
       "matrix([[11],\n",
       "        [ 8]])"
      ]
     },
     "metadata": {},
     "output_type": "display_data"
    },
    {
     "data": {
      "text/plain": [
       "9.5"
      ]
     },
     "metadata": {},
     "output_type": "display_data"
    },
    {
     "data": {
      "text/plain": [
       "matrix([[ 1.5],\n",
       "        [-1.5]])"
      ]
     },
     "metadata": {},
     "output_type": "display_data"
    },
    {
     "data": {
      "text/plain": [
       "2.1213203435596424"
      ]
     },
     "metadata": {},
     "output_type": "display_data"
    },
    {
     "data": {
      "text/plain": [
       "matrix([[ 0.70710678],\n",
       "        [-0.70710678]])"
      ]
     },
     "metadata": {},
     "output_type": "display_data"
    }
   ],
   "source": [
    "x = np.matrix('11;8')\n",
    "display(x)\n",
    "\n",
    "mean = np.matrix.mean(x)\n",
    "display(mean)\n",
    "\n",
    "x = x - mean\n",
    "display(x)\n",
    "\n",
    "d = np.dot(x.T, x)[0, 0]**0.5\n",
    "display(d)\n",
    "\n",
    "x = x / d\n",
    "display(x)"
   ]
  }
 ],
 "metadata": {
  "kernelspec": {
   "display_name": "Python 3",
   "language": "python",
   "name": "python3"
  },
  "language_info": {
   "codemirror_mode": {
    "name": "ipython",
    "version": 3
   },
   "file_extension": ".py",
   "mimetype": "text/x-python",
   "name": "python",
   "nbconvert_exporter": "python",
   "pygments_lexer": "ipython3",
   "version": "3.7.6"
  }
 },
 "nbformat": 4,
 "nbformat_minor": 4
}
