{
 "cells": [
  {
   "cell_type": "code",
   "execution_count": 6,
   "metadata": {},
   "outputs": [],
   "source": [
    "import numpy as np"
   ]
  },
  {
   "cell_type": "code",
   "execution_count": 44,
   "metadata": {},
   "outputs": [
    {
     "data": {
      "text/plain": [
       "'A'"
      ]
     },
     "metadata": {},
     "output_type": "display_data"
    },
    {
     "data": {
      "text/plain": [
       "array([[  1,   2,   1,   1],\n",
       "       [ 70, 130,  65,  60]])"
      ]
     },
     "metadata": {},
     "output_type": "display_data"
    },
    {
     "data": {
      "text/plain": [
       "'Corr:'"
      ]
     },
     "metadata": {},
     "output_type": "display_data"
    },
    {
     "data": {
      "text/plain": [
       "array([[1.        , 0.99220261],\n",
       "       [0.99220261, 1.        ]])"
      ]
     },
     "metadata": {},
     "output_type": "display_data"
    },
    {
     "data": {
      "text/plain": [
       "'Eig val:'"
      ]
     },
     "metadata": {},
     "output_type": "display_data"
    },
    {
     "data": {
      "text/plain": [
       "array([1.99220261, 0.00779739])"
      ]
     },
     "metadata": {},
     "output_type": "display_data"
    },
    {
     "data": {
      "text/plain": [
       "'Eig vec:'"
      ]
     },
     "metadata": {},
     "output_type": "display_data"
    },
    {
     "data": {
      "text/plain": [
       "array([[ 0.70710678, -0.70710678],\n",
       "       [ 0.70710678,  0.70710678]])"
      ]
     },
     "metadata": {},
     "output_type": "display_data"
    },
    {
     "data": {
      "text/plain": [
       "'PCA:'"
      ]
     },
     "metadata": {},
     "output_type": "display_data"
    },
    {
     "data": {
      "text/plain": [
       "array([0.70710678, 0.70710678])"
      ]
     },
     "metadata": {},
     "output_type": "display_data"
    },
    {
     "data": {
      "text/plain": [
       "'Ast:'"
      ]
     },
     "metadata": {},
     "output_type": "display_data"
    },
    {
     "data": {
      "text/plain": [
       "array([[-0.28867513, -0.19829369],\n",
       "       [ 0.8660254 ,  0.85927267],\n",
       "       [-0.28867513, -0.28642422],\n",
       "       [-0.28867513, -0.37455475]])"
      ]
     },
     "metadata": {},
     "output_type": "display_data"
    },
    {
     "data": {
      "text/plain": [
       "'new_x:'"
      ]
     },
     "metadata": {},
     "output_type": "display_data"
    },
    {
     "data": {
      "text/plain": [
       "[-0.244, 0.8643, -0.2881, -0.3323]"
      ]
     },
     "metadata": {},
     "output_type": "display_data"
    }
   ],
   "source": [
    "x1 = np.array([1,2,1,1])\n",
    "x2 = np.array([70,130,65,60])\n",
    "\n",
    "a = np.array([x1, x2])\n",
    "display('A', a) \n",
    "c = np.corrcoef(a)\n",
    "display('Corr:', c)\n",
    "eig_val, eig_vec = np.linalg.eig(c)\n",
    "pca = eig_vec[:,0]\n",
    "display('Eig val:', eig_val, 'Eig vec:', eig_vec)\n",
    "display('PCA:', pca)\n",
    "\n",
    "x1c = x1 - x1.mean()\n",
    "x1st = x1c / np.dot(x1c, x1c.T)**0.5\n",
    "\n",
    "x2c = x2 - x2.mean() \n",
    "x2st = x2c / np.dot(x2c, x2c.T)**0.5\n",
    "\n",
    "ast = np.array([x1st, x2st]).T\n",
    "display('Ast:', ast)\n",
    "\n",
    "new_x = np.dot(ast, pca)\n",
    "new_xst = new_x / np.dot(new_x, new_x.T)**0.5\n",
    "display('new_x:', [round(x, 4) for x in new_xst])"
   ]
  },
  {
   "cell_type": "code",
   "execution_count": 53,
   "metadata": {},
   "outputs": [
    {
     "data": {
      "text/plain": [
       "array([[2.50000000e-01, 1.62500000e+01],\n",
       "       [1.62500000e+01, 1.07291667e+03]])"
      ]
     },
     "metadata": {},
     "output_type": "display_data"
    },
    {
     "data": {
      "text/plain": [
       "array([3.88260451e-03, 1.07316278e+03])"
      ]
     },
     "metadata": {},
     "output_type": "display_data"
    },
    {
     "data": {
      "text/plain": [
       "array([[-0.99988532, -0.01514395],\n",
       "       [ 0.01514395, -0.99988532]])"
      ]
     },
     "metadata": {},
     "output_type": "display_data"
    }
   ],
   "source": [
    "cov = np.cov(a)\n",
    "display(cov)\n",
    "\n",
    "cov_eig_val, cov_eig_vec = np.linalg.eig(cov)\n",
    "display(cov_eig_val, cov_eig_vec)"
   ]
  }
 ],
 "metadata": {
  "kernelspec": {
   "display_name": "Python 3",
   "language": "python",
   "name": "python3"
  },
  "language_info": {
   "codemirror_mode": {
    "name": "ipython",
    "version": 3
   },
   "file_extension": ".py",
   "mimetype": "text/x-python",
   "name": "python",
   "nbconvert_exporter": "python",
   "pygments_lexer": "ipython3",
   "version": "3.7.6"
  }
 },
 "nbformat": 4,
 "nbformat_minor": 4
}
