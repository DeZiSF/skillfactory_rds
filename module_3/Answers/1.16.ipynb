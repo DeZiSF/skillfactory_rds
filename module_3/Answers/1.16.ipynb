{
 "cells": [
  {
   "cell_type": "code",
   "execution_count": 1,
   "metadata": {},
   "outputs": [],
   "source": [
    "import numpy as np"
   ]
  },
  {
   "cell_type": "code",
   "execution_count": 14,
   "metadata": {},
   "outputs": [
    {
     "data": {
      "text/plain": [
       "matrix([[1, 2],\n",
       "        [2, 5]])"
      ]
     },
     "metadata": {},
     "output_type": "display_data"
    }
   ],
   "source": [
    "a = np.matrix('1,2;2,5')\n",
    "display(a)"
   ]
  },
  {
   "cell_type": "code",
   "execution_count": 15,
   "metadata": {},
   "outputs": [
    {
     "data": {
      "text/plain": [
       "matrix([[ 5., -2.],\n",
       "        [-2.,  1.]])"
      ]
     },
     "metadata": {},
     "output_type": "display_data"
    }
   ],
   "source": [
    "b = np.linalg.inv(a)\n",
    "display(b)"
   ]
  },
  {
   "cell_type": "code",
   "execution_count": 17,
   "metadata": {},
   "outputs": [
    {
     "data": {
      "text/plain": [
       "-1.0"
      ]
     },
     "metadata": {},
     "output_type": "display_data"
    },
    {
     "data": {
      "text/plain": [
       "17.999999999999996"
      ]
     },
     "metadata": {},
     "output_type": "display_data"
    },
    {
     "data": {
      "text/plain": [
       "29.99999999999999"
      ]
     },
     "metadata": {},
     "output_type": "display_data"
    }
   ],
   "source": [
    "a = np.matrix('1,2;1,1')\n",
    "b = np.matrix('5,-2;-1,4')\n",
    "detA = np.linalg.det(a)\n",
    "detB = np.linalg.det(b)\n",
    "detS = np.linalg.det(a + b)\n",
    "display(detA)\n",
    "display(detB)\n",
    "display(detS)"
   ]
  },
  {
   "cell_type": "code",
   "execution_count": 19,
   "metadata": {},
   "outputs": [
    {
     "data": {
      "text/plain": [
       "7.999999999999998"
      ]
     },
     "metadata": {},
     "output_type": "display_data"
    },
    {
     "data": {
      "text/plain": [
       "0.12500000000000003"
      ]
     },
     "metadata": {},
     "output_type": "display_data"
    }
   ],
   "source": [
    "a = np.matrix('2,0,0;0,1,0;0,0,4')\n",
    "dA = np.linalg.det(a)\n",
    "display(dA)\n",
    "display(1/dA)"
   ]
  },
  {
   "cell_type": "code",
   "execution_count": 20,
   "metadata": {},
   "outputs": [
    {
     "data": {
      "text/plain": [
       "array([[-1.875  ,  2.3125 , -0.03125],\n",
       "       [ 0.375  , -0.5625 ,  0.15625],\n",
       "       [ 1.25   , -1.375  , -0.0625 ]])"
      ]
     },
     "metadata": {},
     "output_type": "display_data"
    }
   ],
   "source": [
    "a = np.array([[8, 6, 11], [7, 5, 9],[6, 10, 6]])\n",
    "display(np.linalg.inv(a))"
   ]
  },
  {
   "cell_type": "code",
   "execution_count": 2,
   "metadata": {},
   "outputs": [
    {
     "data": {
      "text/plain": [
       "array([[ 9, 10,  7,  7,  9],\n",
       "       [ 2,  0,  5,  1,  4],\n",
       "       [ 4,  0,  0,  4,  1],\n",
       "       [ 3, -4,  3, -1, -4]])"
      ]
     },
     "metadata": {},
     "output_type": "display_data"
    },
    {
     "data": {
      "text/plain": [
       "4"
      ]
     },
     "metadata": {},
     "output_type": "display_data"
    },
    {
     "data": {
      "text/plain": [
       "array([[360,  96,  73, -35],\n",
       "       [ 96,  46,  16,   4],\n",
       "       [ 73,  16,  33,   4],\n",
       "       [-35,   4,   4,  51]])"
      ]
     },
     "metadata": {},
     "output_type": "display_data"
    },
    {
     "data": {
      "text/plain": [
       "array([[110,  78,  82,  78,  81],\n",
       "       [ 78, 116,  58,  74, 106],\n",
       "       [ 82,  58,  83,  51,  71],\n",
       "       [ 78,  74,  51,  67,  75],\n",
       "       [ 81, 106,  71,  75, 114]])"
      ]
     },
     "metadata": {},
     "output_type": "display_data"
    },
    {
     "data": {
      "text/plain": [
       "-4.7408263981196664e-09"
      ]
     },
     "metadata": {},
     "output_type": "display_data"
    }
   ],
   "source": [
    "v1 = np.array([9, 10, 7, 7, 9])\n",
    "v2 = np.array([2, 0, 5, 1, 4])\n",
    "v3 = np.array([4, 0, 0, 4, 1])\n",
    "v4 = np.array([3, -4, 3, -1, -4])\n",
    "a = np.array([v1, v2, v3, v4])\n",
    "display(a)\n",
    "display(np.linalg.matrix_rank(a.T))\n",
    "display(np.dot(a, a.T))\n",
    "display(np.dot(a.T, a))\n",
    "display(np.linalg.det(a.T@a))"
   ]
  },
  {
   "cell_type": "code",
   "execution_count": 6,
   "metadata": {},
   "outputs": [
    {
     "data": {
      "text/plain": [
       "array([[360,  96,  73, -35],\n",
       "       [ 96,  46,  16,   4],\n",
       "       [ 73,  16,  33,   4],\n",
       "       [-35,   4,   4,  51]])"
      ]
     },
     "metadata": {},
     "output_type": "display_data"
    },
    {
     "data": {
      "text/plain": [
       "3716647.9999999995"
      ]
     },
     "metadata": {},
     "output_type": "display_data"
    },
    {
     "data": {
      "text/plain": [
       "array([[ 0.01711488, -0.02798543, -0.02623063,  0.01599775],\n",
       "       [-0.02798543,  0.071967  ,  0.03031441, -0.02722776],\n",
       "       [-0.02623063,  0.03031441,  0.07683106, -0.02640498],\n",
       "       [ 0.01599775, -0.02722776, -0.02640498,  0.03479318]])"
      ]
     },
     "metadata": {},
     "output_type": "display_data"
    }
   ],
   "source": [
    "v1 = np.array([9, 10, 7, 7, 9])\n",
    "v2 = np.array([2, 0, 5, 1, 4])\n",
    "v3 = np.array([4, 0, 0, 4, 1])\n",
    "v4 = np.array([3, -4, 3, -1, -4])\n",
    "a = np.array([v1, v2, v3, v4])\n",
    "g = np.dot(a, a.T)\n",
    "\n",
    "display(g)\n",
    "display(np.linalg.det(g))\n",
    "display(np.linalg.inv(g))"
   ]
  },
  {
   "cell_type": "code",
   "execution_count": null,
   "metadata": {},
   "outputs": [],
   "source": []
  }
 ],
 "metadata": {
  "kernelspec": {
   "display_name": "Python 3",
   "language": "python",
   "name": "python3"
  },
  "language_info": {
   "codemirror_mode": {
    "name": "ipython",
    "version": 3
   },
   "file_extension": ".py",
   "mimetype": "text/x-python",
   "name": "python",
   "nbconvert_exporter": "python",
   "pygments_lexer": "ipython3",
   "version": "3.7.6"
  }
 },
 "nbformat": 4,
 "nbformat_minor": 4
}
